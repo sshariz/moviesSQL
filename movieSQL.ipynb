{
 "cells": [
  {
   "cell_type": "code",
   "execution_count": 1,
   "id": "e2bf6050",
   "metadata": {},
   "outputs": [],
   "source": [
    "# imports\n",
    "import numpy as np\n",
    "import pandas as pd\n",
    "import matplotlib.pyplot as plt\n",
    "#import plotly.express as px\n",
    "import sqlalchemy\n",
    "import sqlite3\n",
    "import os\n",
    "import seaborn as sns\n",
    "import plotly.express as px\n",
    "\n",
    "import warnings\n",
    "warnings.filterwarnings(\"ignore\", \"is_categorical_dtype\")\n",
    "warnings.filterwarnings(\"ignore\", \"use_inf_as_na\")"
   ]
  },
  {
   "cell_type": "code",
   "execution_count": 2,
   "id": "6b5c8c07",
   "metadata": {},
   "outputs": [],
   "source": [
    "os.getcwd()\n",
    "new_path = '/Users/sarasharifzadeh/anaconda3/APROJECTS/projectfiles'\n",
    "os.chdir(new_path)"
   ]
  },
  {
   "cell_type": "markdown",
   "id": "30f7c4b0",
   "metadata": {},
   "source": [
    "# Applying SQL to Movies"
   ]
  },
  {
   "cell_type": "markdown",
   "id": "873ab9c3",
   "metadata": {},
   "source": [
    "## An explanation & Overview of SQL\n",
    "by Sara Sharifzadeh, inspiration: UC Berkeley's Data100"
   ]
  },
  {
   "cell_type": "markdown",
   "id": "f83de0e6",
   "metadata": {},
   "source": [
    "In this notebook I show you how I run and use **SQL** through special engines in **Python** to manage large databases & insightfully answer questions with additional analysis through tabular & mathematical libraries. "
   ]
  },
  {
   "cell_type": "markdown",
   "id": "613455b2",
   "metadata": {},
   "source": [
    "#### Why `SQL` with a  `Python` engine?\n",
    "\n",
    "I will be running my queries using `Python` engines **SQLAlchemy** & **SQLite** in absence of a DMBS. \n",
    "\n",
    "I use a combination of the two engines in a **sandboxed workflow** because debugging is easier with `%sql` magic. After I've found the proper query, I like to copy it over to the `pd.read_sql` command for visualization, modeling, and export with Pandas, sklearn, and other Python libraries. This is a worklow I learned at UC Berkeley's Advanced Data Science Principles course, **Data 100**."
   ]
  },
  {
   "cell_type": "markdown",
   "id": "7175449b",
   "metadata": {},
   "source": [
    "### The Data: IMDb Movie Database\n",
    "\n",
    "To apply SQL, I will be using a subset of [IMDb's Movie Database](https://www.imdb.com). The year range is 1902-2021.\n",
    "\n"
   ]
  },
  {
   "cell_type": "markdown",
   "id": "e9d3f441",
   "metadata": {},
   "source": [
    "#### SQLite connection"
   ]
  },
  {
   "cell_type": "code",
   "execution_count": 3,
   "id": "d1a7b460",
   "metadata": {},
   "outputs": [],
   "source": [
    "conn = sqlite3.connect('imdbmini.db')"
   ]
  },
  {
   "cell_type": "code",
   "execution_count": 4,
   "id": "59c5bc75",
   "metadata": {
    "scrolled": true
   },
   "outputs": [],
   "source": [
    "#load\n",
    "%load_ext sql"
   ]
  },
  {
   "cell_type": "code",
   "execution_count": 5,
   "id": "9a3eb18e",
   "metadata": {},
   "outputs": [],
   "source": [
    "%sql sqlite:///imdbmini.db"
   ]
  },
  {
   "cell_type": "markdown",
   "id": "c9356048",
   "metadata": {},
   "source": [
    "## SQLAlchemy connection"
   ]
  },
  {
   "cell_type": "code",
   "execution_count": 6,
   "id": "b5cb7310",
   "metadata": {},
   "outputs": [],
   "source": [
    "sqlite_conn = 'sqlite:///imdbmini.db'"
   ]
  },
  {
   "cell_type": "code",
   "execution_count": 7,
   "id": "1c05a6e5",
   "metadata": {},
   "outputs": [],
   "source": [
    "engine = sqlalchemy.create_engine(sqlite_conn)\n",
    "connection = engine.connect()"
   ]
  },
  {
   "cell_type": "markdown",
   "id": "5d8f476c",
   "metadata": {},
   "source": [
    "## Preview of the Total IMDB Database "
   ]
  },
  {
   "cell_type": "code",
   "execution_count": 8,
   "id": "95de38d9",
   "metadata": {
    "scrolled": true
   },
   "outputs": [
    {
     "name": "stdout",
     "output_type": "stream",
     "text": [
      " * sqlite:///imdbmini.db\n",
      "Done.\n"
     ]
    },
    {
     "data": {
      "text/html": [
       "<table>\n",
       "    <thead>\n",
       "        <tr>\n",
       "            <th>type</th>\n",
       "            <th>name</th>\n",
       "            <th>tbl_name</th>\n",
       "            <th>rootpage</th>\n",
       "            <th>sql</th>\n",
       "        </tr>\n",
       "    </thead>\n",
       "    <tbody>\n",
       "        <tr>\n",
       "            <td>table</td>\n",
       "            <td>Title</td>\n",
       "            <td>Title</td>\n",
       "            <td>2</td>\n",
       "            <td>CREATE TABLE &quot;Title&quot; (<br>&quot;tconst&quot; INTEGER,<br>  &quot;titleType&quot; TEXT,<br>  &quot;primaryTitle&quot; TEXT,<br>  &quot;originalTitle&quot; TEXT,<br>  &quot;isAdult&quot; TEXT,<br>  &quot;startYear&quot; TEXT,<br>  &quot;endYear&quot; TEXT,<br>  &quot;runtimeMinutes&quot; TEXT,<br>  &quot;genres&quot; TEXT<br>)</td>\n",
       "        </tr>\n",
       "        <tr>\n",
       "            <td>table</td>\n",
       "            <td>Name</td>\n",
       "            <td>Name</td>\n",
       "            <td>12</td>\n",
       "            <td>CREATE TABLE &quot;Name&quot; (<br>&quot;nconst&quot; INTEGER,<br>  &quot;primaryName&quot; TEXT,<br>  &quot;birthYear&quot; TEXT,<br>  &quot;deathYear&quot; TEXT,<br>  &quot;primaryProfession&quot; TEXT<br>)</td>\n",
       "        </tr>\n",
       "        <tr>\n",
       "            <td>table</td>\n",
       "            <td>Role</td>\n",
       "            <td>Role</td>\n",
       "            <td>70</td>\n",
       "            <td>CREATE TABLE &quot;Role&quot; (<br>tconst INTEGER,<br>ordering TEXT,<br>nconst INTEGER,<br>category TEXT,<br>job TEXT,<br>characters TEXT<br>)</td>\n",
       "        </tr>\n",
       "        <tr>\n",
       "            <td>table</td>\n",
       "            <td>Rating</td>\n",
       "            <td>Rating</td>\n",
       "            <td>41</td>\n",
       "            <td>CREATE TABLE &quot;Rating&quot; (<br>tconst INTEGER,<br>averageRating TEXT,<br>numVotes TEXT<br>)</td>\n",
       "        </tr>\n",
       "    </tbody>\n",
       "</table>"
      ],
      "text/plain": [
       "[('table', 'Title', 'Title', 2, 'CREATE TABLE \"Title\" (\\n\"tconst\" INTEGER,\\n  \"titleType\" TEXT,\\n  \"primaryTitle\" TEXT,\\n  \"originalTitle\" TEXT,\\n  \"isAdult\" TEXT,\\n  \"startYear\" TEXT,\\n  \"endYear\" TEXT,\\n  \"runtimeMinutes\" TEXT,\\n  \"genres\" TEXT\\n)'),\n",
       " ('table', 'Name', 'Name', 12, 'CREATE TABLE \"Name\" (\\n\"nconst\" INTEGER,\\n  \"primaryName\" TEXT,\\n  \"birthYear\" TEXT,\\n  \"deathYear\" TEXT,\\n  \"primaryProfession\" TEXT\\n)'),\n",
       " ('table', 'Role', 'Role', 70, 'CREATE TABLE \"Role\" (\\ntconst INTEGER,\\nordering TEXT,\\nnconst INTEGER,\\ncategory TEXT,\\njob TEXT,\\ncharacters TEXT\\n)'),\n",
       " ('table', 'Rating', 'Rating', 41, 'CREATE TABLE \"Rating\" (\\ntconst INTEGER,\\naverageRating TEXT,\\nnumVotes TEXT\\n)')]"
      ]
     },
     "execution_count": 8,
     "metadata": {},
     "output_type": "execute_result"
    }
   ],
   "source": [
    "%%sql \n",
    "SELECT * FROM sqlite_master WHERE type='table';"
   ]
  },
  {
   "cell_type": "markdown",
   "id": "8e79c3c2",
   "metadata": {},
   "source": [
    "There are 4 tables in this database: `Name`, `Role`, `Rating`, and `Title`."
   ]
  },
  {
   "cell_type": "markdown",
   "id": "09690570",
   "metadata": {},
   "source": [
    "<details>\n",
    "    <summary>[<b>Click for Table Schema</b>] See descriptions of each table's data.</summary>\n",
    "    \n",
    "**`Name`** – Contains the following information for names of people.\n",
    "    \n",
    "- nconst (text) - alphanumeric unique identifier of the name/person\n",
    "- primaryName (text)– name by which the person is most often credited\n",
    "- birthYear (integer) – in YYYY format\n",
    "- deathYear (integer) – in YYYY format\n",
    "    \n",
    "    \n",
    "**`Role`** – Contains the principal cast/crew for titles.\n",
    "    \n",
    "- tconst (text) - alphanumeric unique identifier of the title\n",
    "- ordering (integer) – a number to uniquely identify rows for a given tconst\n",
    "- nconst (text) - alphanumeric unique identifier of the name/person\n",
    "- category (text) - the category of job that person was in\n",
    "- characters (text) - the name of the character played if applicable, else '\\\\N'\n",
    "    \n",
    "**`Rating`** – Contains the IMDb rating and votes information for titles.\n",
    "    \n",
    "- tconst (text) - alphanumeric unique identifier of the title\n",
    "- averageRating (real) – weighted average of all the individual user ratings\n",
    "- numVotes (integer) - number of votes (i.e., ratings) the title has received\n",
    "    \n",
    "**`Title`** - Contains the following information for titles.\n",
    "    \n",
    "- tconst (text) - alphanumeric unique identifier of the title\n",
    "- titleType (text) -  the type/format of the title\n",
    "- primaryTitle (text) -  the more popular title / the title used by the filmmakers on promotional materials at the point of release\n",
    "- isAdult (text) - 0: non-adult title; 1: adult title\n",
    "- year (YYYY) – represents the release year of a title.\n",
    "- runtimeMinutes (integer)  – primary runtime of the title, in minutes\n",
    "    \n",
    "</details>\n",
    "\n",
    "<br/><br/>\n",
    "\n",
    "From the above descriptions, we can conclude:\n",
    "* `Name.nconst` and `Title.tconst` are **primary keys** of the `Name` and `Title` tables, respectively.\n",
    "* that `Role.nconst` and `Role.tconst` are **foreign keys** that point to `Name.nconst` and `Title.tconst`, respectively."
   ]
  },
  {
   "cell_type": "markdown",
   "id": "769a8fc0",
   "metadata": {},
   "source": [
    "### Previewing the Title table\n",
    "What kind of information exists regarding movie titles in this database?"
   ]
  },
  {
   "cell_type": "code",
   "execution_count": 275,
   "id": "44b1515a",
   "metadata": {
    "scrolled": false
   },
   "outputs": [
    {
     "name": "stdout",
     "output_type": "stream",
     "text": [
      " * sqlite:///imdbmini.db\n",
      "Done.\n"
     ]
    },
    {
     "data": {
      "text/html": [
       "<table>\n",
       "    <thead>\n",
       "        <tr>\n",
       "            <th>tconst</th>\n",
       "            <th>titleType</th>\n",
       "            <th>primaryTitle</th>\n",
       "            <th>originalTitle</th>\n",
       "            <th>isAdult</th>\n",
       "            <th>startYear</th>\n",
       "            <th>endYear</th>\n",
       "            <th>runtimeMinutes</th>\n",
       "            <th>genres</th>\n",
       "        </tr>\n",
       "    </thead>\n",
       "    <tbody>\n",
       "        <tr>\n",
       "            <td>417</td>\n",
       "            <td>short</td>\n",
       "            <td>A Trip to the Moon</td>\n",
       "            <td>Le voyage dans la lune</td>\n",
       "            <td>0</td>\n",
       "            <td>1902</td>\n",
       "            <td>None</td>\n",
       "            <td>13</td>\n",
       "            <td>Action,Adventure,Comedy</td>\n",
       "        </tr>\n",
       "        <tr>\n",
       "            <td>4972</td>\n",
       "            <td>movie</td>\n",
       "            <td>The Birth of a Nation</td>\n",
       "            <td>The Birth of a Nation</td>\n",
       "            <td>0</td>\n",
       "            <td>1915</td>\n",
       "            <td>None</td>\n",
       "            <td>195</td>\n",
       "            <td>Drama,History,War</td>\n",
       "        </tr>\n",
       "        <tr>\n",
       "            <td>10323</td>\n",
       "            <td>movie</td>\n",
       "            <td>The Cabinet of Dr. Caligari</td>\n",
       "            <td>Das Cabinet des Dr. Caligari</td>\n",
       "            <td>0</td>\n",
       "            <td>1920</td>\n",
       "            <td>None</td>\n",
       "            <td>76</td>\n",
       "            <td>Fantasy,Horror,Mystery</td>\n",
       "        </tr>\n",
       "        <tr>\n",
       "            <td>12349</td>\n",
       "            <td>movie</td>\n",
       "            <td>The Kid</td>\n",
       "            <td>The Kid</td>\n",
       "            <td>0</td>\n",
       "            <td>1921</td>\n",
       "            <td>None</td>\n",
       "            <td>68</td>\n",
       "            <td>Comedy,Drama,Family</td>\n",
       "        </tr>\n",
       "        <tr>\n",
       "            <td>13442</td>\n",
       "            <td>movie</td>\n",
       "            <td>Nosferatu</td>\n",
       "            <td>Nosferatu, eine Symphonie des Grauens</td>\n",
       "            <td>0</td>\n",
       "            <td>1922</td>\n",
       "            <td>None</td>\n",
       "            <td>94</td>\n",
       "            <td>Fantasy,Horror</td>\n",
       "        </tr>\n",
       "    </tbody>\n",
       "</table>"
      ],
      "text/plain": [
       "[(417, 'short', 'A Trip to the Moon', 'Le voyage dans la lune', '0', '1902', None, '13', 'Action,Adventure,Comedy'),\n",
       " (4972, 'movie', 'The Birth of a Nation', 'The Birth of a Nation', '0', '1915', None, '195', 'Drama,History,War'),\n",
       " (10323, 'movie', 'The Cabinet of Dr. Caligari', 'Das Cabinet des Dr. Caligari', '0', '1920', None, '76', 'Fantasy,Horror,Mystery'),\n",
       " (12349, 'movie', 'The Kid', 'The Kid', '0', '1921', None, '68', 'Comedy,Drama,Family'),\n",
       " (13442, 'movie', 'Nosferatu', 'Nosferatu, eine Symphonie des Grauens', '0', '1922', None, '94', 'Fantasy,Horror')]"
      ]
     },
     "execution_count": 275,
     "metadata": {},
     "output_type": "execute_result"
    }
   ],
   "source": [
    "%%sql\n",
    "SELECT * FROM Title\n",
    "LIMIT 5;"
   ]
  },
  {
   "cell_type": "markdown",
   "id": "abfc590b",
   "metadata": {},
   "source": [
    "### What can we learn from the Titles dataset? "
   ]
  },
  {
   "cell_type": "markdown",
   "id": "29753f21",
   "metadata": {},
   "source": [
    "**What are the **top 10** highest rated movies?**"
   ]
  },
  {
   "cell_type": "code",
   "execution_count": 276,
   "id": "ed9ca106",
   "metadata": {
    "scrolled": true
   },
   "outputs": [
    {
     "name": "stdout",
     "output_type": "stream",
     "text": [
      " * sqlite:///imdbmini.db\n",
      "Done.\n"
     ]
    },
    {
     "data": {
      "text/html": [
       "<table>\n",
       "    <thead>\n",
       "        <tr>\n",
       "            <th>title</th>\n",
       "            <th>numVotes</th>\n",
       "            <th>averageRating</th>\n",
       "        </tr>\n",
       "    </thead>\n",
       "    <tbody>\n",
       "        <tr>\n",
       "            <td>The Shawshank Redemption</td>\n",
       "            <td>2462686</td>\n",
       "            <td>9.3</td>\n",
       "        </tr>\n",
       "        <tr>\n",
       "            <td>The Dark Knight</td>\n",
       "            <td>2417875</td>\n",
       "            <td>9.0</td>\n",
       "        </tr>\n",
       "        <tr>\n",
       "            <td>Inception</td>\n",
       "            <td>2169255</td>\n",
       "            <td>8.8</td>\n",
       "        </tr>\n",
       "        <tr>\n",
       "            <td>Fight Club</td>\n",
       "            <td>1939312</td>\n",
       "            <td>8.8</td>\n",
       "        </tr>\n",
       "        <tr>\n",
       "            <td>Pulp Fiction</td>\n",
       "            <td>1907561</td>\n",
       "            <td>8.9</td>\n",
       "        </tr>\n",
       "        <tr>\n",
       "            <td>Forrest Gump</td>\n",
       "            <td>1903969</td>\n",
       "            <td>8.8</td>\n",
       "        </tr>\n",
       "        <tr>\n",
       "            <td>Game of Thrones</td>\n",
       "            <td>1874040</td>\n",
       "            <td>9.2</td>\n",
       "        </tr>\n",
       "        <tr>\n",
       "            <td>The Matrix</td>\n",
       "            <td>1756469</td>\n",
       "            <td>8.7</td>\n",
       "        </tr>\n",
       "        <tr>\n",
       "            <td>The Lord of the Rings: The Fellowship of the Ring</td>\n",
       "            <td>1730296</td>\n",
       "            <td>8.8</td>\n",
       "        </tr>\n",
       "        <tr>\n",
       "            <td>The Lord of the Rings: The Return of the King</td>\n",
       "            <td>1709023</td>\n",
       "            <td>8.9</td>\n",
       "        </tr>\n",
       "    </tbody>\n",
       "</table>"
      ],
      "text/plain": [
       "[('The Shawshank Redemption', 2462686, '9.3'),\n",
       " ('The Dark Knight', 2417875, '9.0'),\n",
       " ('Inception', 2169255, '8.8'),\n",
       " ('Fight Club', 1939312, '8.8'),\n",
       " ('Pulp Fiction', 1907561, '8.9'),\n",
       " ('Forrest Gump', 1903969, '8.8'),\n",
       " ('Game of Thrones', 1874040, '9.2'),\n",
       " ('The Matrix', 1756469, '8.7'),\n",
       " ('The Lord of the Rings: The Fellowship of the Ring', 1730296, '8.8'),\n",
       " ('The Lord of the Rings: The Return of the King', 1709023, '8.9')]"
      ]
     },
     "execution_count": 276,
     "metadata": {},
     "output_type": "execute_result"
    }
   ],
   "source": [
    "%%sql\n",
    "SELECT primaryTitle AS title, \n",
    "    CAST(Rating.numVotes AS int) AS numVotes, \n",
    "    averageRating\n",
    "FROM Rating\n",
    "JOIN Title\n",
    "ON Rating.tconst = Title.tconst\n",
    "ORDER BY numVotes DESC\n",
    "LIMIT 10;"
   ]
  },
  {
   "cell_type": "markdown",
   "id": "93e7b817",
   "metadata": {},
   "source": [
    "### What about Harry Potter Movies ? \n",
    "#### How many movies, when were they made, how long are they?"
   ]
  },
  {
   "cell_type": "markdown",
   "id": "caec62c6",
   "metadata": {},
   "source": [
    "FYI: I do NOT consider \"Fantastic Beasts\" as belonging with Harry Potter..."
   ]
  },
  {
   "cell_type": "code",
   "execution_count": 294,
   "id": "ae5e61cd",
   "metadata": {
    "scrolled": false
   },
   "outputs": [
    {
     "name": "stdout",
     "output_type": "stream",
     "text": [
      " * sqlite:///imdbmini.db\n",
      "Done.\n"
     ]
    },
    {
     "data": {
      "text/html": [
       "<table>\n",
       "    <thead>\n",
       "        <tr>\n",
       "            <th>id</th>\n",
       "            <th>titleType</th>\n",
       "            <th>movieName</th>\n",
       "            <th>yearMade</th>\n",
       "            <th>runtimeMinutes</th>\n",
       "        </tr>\n",
       "    </thead>\n",
       "    <tbody>\n",
       "        <tr>\n",
       "            <td>241527</td>\n",
       "            <td>movie</td>\n",
       "            <td>Harry Potter and the Sorcerer&#x27;s Stone</td>\n",
       "            <td>2001</td>\n",
       "            <td>152</td>\n",
       "        </tr>\n",
       "        <tr>\n",
       "            <td>295297</td>\n",
       "            <td>movie</td>\n",
       "            <td>Harry Potter and the Chamber of Secrets</td>\n",
       "            <td>2002</td>\n",
       "            <td>161</td>\n",
       "        </tr>\n",
       "        <tr>\n",
       "            <td>304141</td>\n",
       "            <td>movie</td>\n",
       "            <td>Harry Potter and the Prisoner of Azkaban</td>\n",
       "            <td>2004</td>\n",
       "            <td>142</td>\n",
       "        </tr>\n",
       "        <tr>\n",
       "            <td>330373</td>\n",
       "            <td>movie</td>\n",
       "            <td>Harry Potter and the Goblet of Fire</td>\n",
       "            <td>2005</td>\n",
       "            <td>157</td>\n",
       "        </tr>\n",
       "        <tr>\n",
       "            <td>373889</td>\n",
       "            <td>movie</td>\n",
       "            <td>Harry Potter and the Order of the Phoenix</td>\n",
       "            <td>2007</td>\n",
       "            <td>138</td>\n",
       "        </tr>\n",
       "        <tr>\n",
       "            <td>417741</td>\n",
       "            <td>movie</td>\n",
       "            <td>Harry Potter and the Half-Blood Prince</td>\n",
       "            <td>2009</td>\n",
       "            <td>153</td>\n",
       "        </tr>\n",
       "        <tr>\n",
       "            <td>926084</td>\n",
       "            <td>movie</td>\n",
       "            <td>Harry Potter and the Deathly Hallows: Part 1</td>\n",
       "            <td>2010</td>\n",
       "            <td>146</td>\n",
       "        </tr>\n",
       "        <tr>\n",
       "            <td>1201607</td>\n",
       "            <td>movie</td>\n",
       "            <td>Harry Potter and the Deathly Hallows: Part 2</td>\n",
       "            <td>2011</td>\n",
       "            <td>130</td>\n",
       "        </tr>\n",
       "    </tbody>\n",
       "</table>"
      ],
      "text/plain": [
       "[(241527, 'movie', \"Harry Potter and the Sorcerer's Stone\", '2001', '152'),\n",
       " (295297, 'movie', 'Harry Potter and the Chamber of Secrets', '2002', '161'),\n",
       " (304141, 'movie', 'Harry Potter and the Prisoner of Azkaban', '2004', '142'),\n",
       " (330373, 'movie', 'Harry Potter and the Goblet of Fire', '2005', '157'),\n",
       " (373889, 'movie', 'Harry Potter and the Order of the Phoenix', '2007', '138'),\n",
       " (417741, 'movie', 'Harry Potter and the Half-Blood Prince', '2009', '153'),\n",
       " (926084, 'movie', 'Harry Potter and the Deathly Hallows: Part 1', '2010', '146'),\n",
       " (1201607, 'movie', 'Harry Potter and the Deathly Hallows: Part 2', '2011', '130')]"
      ]
     },
     "execution_count": 294,
     "metadata": {},
     "output_type": "execute_result"
    }
   ],
   "source": [
    "%%sql\n",
    "SELECT tconst AS id,\n",
    "    titleType, \n",
    "    primaryTitle AS movieName, \n",
    "    startYear AS yearMade, \n",
    "    runtimeMinutes FROM Title\n",
    "WHERE primaryTitle LIKE '%Harry%' AND primaryTitle LIKE '%Potter%';"
   ]
  },
  {
   "cell_type": "markdown",
   "id": "bcfe78b3",
   "metadata": {},
   "source": [
    "### Im going to deep-dive into my favorite genre:  Sci-Fi Drama \n",
    "(my favorite)"
   ]
  },
  {
   "cell_type": "markdown",
   "id": "d39f2369",
   "metadata": {},
   "source": [
    "### problem:\n",
    "The genres column applies multiple genres to every movie. This makes it ***really hard*** to find a list of every unique genre type, because every unique instance of the genre list is \"distinct\". "
   ]
  },
  {
   "cell_type": "code",
   "execution_count": 295,
   "id": "98404bca",
   "metadata": {
    "scrolled": false
   },
   "outputs": [
    {
     "name": "stdout",
     "output_type": "stream",
     "text": [
      " * sqlite:///imdbmini.db\n",
      "Done.\n"
     ]
    },
    {
     "data": {
      "text/html": [
       "<table>\n",
       "    <thead>\n",
       "        <tr>\n",
       "            <th>genres</th>\n",
       "        </tr>\n",
       "    </thead>\n",
       "    <tbody>\n",
       "        <tr>\n",
       "            <td>Action,Adventure,Comedy</td>\n",
       "        </tr>\n",
       "        <tr>\n",
       "            <td>Drama,History,War</td>\n",
       "        </tr>\n",
       "        <tr>\n",
       "            <td>Fantasy,Horror,Mystery</td>\n",
       "        </tr>\n",
       "        <tr>\n",
       "            <td>Comedy,Drama,Family</td>\n",
       "        </tr>\n",
       "        <tr>\n",
       "            <td>Fantasy,Horror</td>\n",
       "        </tr>\n",
       "    </tbody>\n",
       "</table>"
      ],
      "text/plain": [
       "[('Action,Adventure,Comedy',),\n",
       " ('Drama,History,War',),\n",
       " ('Fantasy,Horror,Mystery',),\n",
       " ('Comedy,Drama,Family',),\n",
       " ('Fantasy,Horror',)]"
      ]
     },
     "execution_count": 295,
     "metadata": {},
     "output_type": "execute_result"
    }
   ],
   "source": [
    "%%sql\n",
    "SELECT DISTINCT genres\n",
    "FROM Title\n",
    "LIMIT 5;"
   ]
  },
  {
   "cell_type": "code",
   "execution_count": 296,
   "id": "6026c4fc",
   "metadata": {
    "scrolled": true
   },
   "outputs": [
    {
     "name": "stdout",
     "output_type": "stream",
     "text": [
      " * sqlite:///imdbmini.db\n",
      "Done.\n",
      "Returning data to local variable genre_sql\n"
     ]
    }
   ],
   "source": [
    "%%sql genre_sql <<\n",
    "SELECT * FROM Title;"
   ]
  },
  {
   "cell_type": "code",
   "execution_count": 297,
   "id": "09a65f21",
   "metadata": {
    "scrolled": true
   },
   "outputs": [
    {
     "data": {
      "text/plain": [
       "['Action',\n",
       " 'Adventure',\n",
       " 'Comedy',\n",
       " 'Drama',\n",
       " 'History',\n",
       " 'War',\n",
       " 'Fantasy',\n",
       " 'Horror',\n",
       " 'Mystery',\n",
       " 'Family',\n",
       " 'Romance',\n",
       " 'Thriller',\n",
       " 'Sci-Fi',\n",
       " 'Biography',\n",
       " 'Documentary',\n",
       " 'Music',\n",
       " 'Short',\n",
       " 'Crime',\n",
       " 'Musical',\n",
       " 'Animation',\n",
       " 'Film-Noir',\n",
       " 'Western',\n",
       " 'Sport',\n",
       " 'News',\n",
       " 'Talk-Show',\n",
       " 'Game-Show',\n",
       " 'Reality-TV']"
      ]
     },
     "execution_count": 297,
     "metadata": {},
     "output_type": "execute_result"
    }
   ],
   "source": [
    "genre_df = genre_sql.DataFrame()\n",
    "\n",
    "#pythonically\n",
    "#genre_list = []\n",
    "#genre_list = [word for sentence in genre_df[\"genres\"].str.split(\",\") \n",
    "#                  for word in sentence \n",
    "#                      if word not in genre_list]\n",
    "#genre_list\n",
    "\n",
    "#iteratively\n",
    "genres = []\n",
    "type(genre_df[\"genres\"][0])\n",
    "\n",
    "for i in genre_df[\"genres\"].str.split(\",\"):\n",
    "    for j in i:\n",
    "        if j not in genres: \n",
    "            genres.append(j)\n",
    "\n",
    "genres"
   ]
  },
  {
   "cell_type": "markdown",
   "id": "f2dcb420",
   "metadata": {},
   "source": [
    "Now I have a list of genres names to work with."
   ]
  },
  {
   "cell_type": "markdown",
   "id": "09af0f7e",
   "metadata": {},
   "source": [
    "#### What are the top-rated Sci-Drama movies of all time (within range)? "
   ]
  },
  {
   "cell_type": "code",
   "execution_count": 298,
   "id": "60894a22",
   "metadata": {
    "scrolled": true
   },
   "outputs": [
    {
     "name": "stdout",
     "output_type": "stream",
     "text": [
      " * sqlite:///imdbmini.db\n",
      "Done.\n"
     ]
    },
    {
     "data": {
      "text/html": [
       "<table>\n",
       "    <thead>\n",
       "        <tr>\n",
       "            <th>id</th>\n",
       "            <th>title</th>\n",
       "            <th>titleType</th>\n",
       "            <th>time</th>\n",
       "            <th>year</th>\n",
       "            <th>rating</th>\n",
       "            <th>numRatings</th>\n",
       "        </tr>\n",
       "    </thead>\n",
       "    <tbody>\n",
       "        <tr>\n",
       "            <td>816692</td>\n",
       "            <td>Interstellar</td>\n",
       "            <td>movie</td>\n",
       "            <td>169</td>\n",
       "            <td>2014</td>\n",
       "            <td>8.6</td>\n",
       "            <td>1613897</td>\n",
       "        </tr>\n",
       "        <tr>\n",
       "            <td>482571</td>\n",
       "            <td>The Prestige</td>\n",
       "            <td>movie</td>\n",
       "            <td>130</td>\n",
       "            <td>2006</td>\n",
       "            <td>8.5</td>\n",
       "            <td>1244379</td>\n",
       "        </tr>\n",
       "        <tr>\n",
       "            <td>434409</td>\n",
       "            <td>V for Vendetta</td>\n",
       "            <td>movie</td>\n",
       "            <td>132</td>\n",
       "            <td>2005</td>\n",
       "            <td>8.1</td>\n",
       "            <td>1065965</td>\n",
       "        </tr>\n",
       "        <tr>\n",
       "            <td>338013</td>\n",
       "            <td>Eternal Sunshine of the Spotless Mind</td>\n",
       "            <td>movie</td>\n",
       "            <td>108</td>\n",
       "            <td>2004</td>\n",
       "            <td>8.3</td>\n",
       "            <td>948018</td>\n",
       "        </tr>\n",
       "        <tr>\n",
       "            <td>3659388</td>\n",
       "            <td>The Martian</td>\n",
       "            <td>movie</td>\n",
       "            <td>144</td>\n",
       "            <td>2015</td>\n",
       "            <td>8.0</td>\n",
       "            <td>794444</td>\n",
       "        </tr>\n",
       "    </tbody>\n",
       "</table>"
      ],
      "text/plain": [
       "[(816692, 'Interstellar', 'movie', 169, 2014, 8.6, 1613897),\n",
       " (482571, 'The Prestige', 'movie', 130, 2006, 8.5, 1244379),\n",
       " (434409, 'V for Vendetta', 'movie', 132, 2005, 8.1, 1065965),\n",
       " (338013, 'Eternal Sunshine of the Spotless Mind', 'movie', 108, 2004, 8.3, 948018),\n",
       " (3659388, 'The Martian', 'movie', 144, 2015, 8.0, 794444)]"
      ]
     },
     "execution_count": 298,
     "metadata": {},
     "output_type": "execute_result"
    }
   ],
   "source": [
    "%%sql \n",
    "SELECT T.tconst AS id,\n",
    "  primaryTitle AS title, \n",
    "  titleType,\n",
    "  CAST(runtimeMinutes AS int) AS time,  \n",
    "  CAST(startYear AS int) AS year,\n",
    "  CAST(averageRating AS float) AS rating,\n",
    "  CAST(numVotes AS int) AS numRatings  \n",
    "FROM Title AS T INNER JOIN Rating AS R ON T.tconst = R.tconst\n",
    "WHERE time > 0 AND -- get rid of outliers and missing values --\n",
    "      year > 0     -- get rid of missing values --\n",
    "      AND titleType = \"movie\"\n",
    "      AND genres LIKE \"%Sci-Fi%\" AND genres LIKE \"%DRAMA%\"\n",
    "ORDER BY numRatings DESC\n",
    "LIMIT 5;"
   ]
  },
  {
   "cell_type": "markdown",
   "id": "18856031",
   "metadata": {},
   "source": [
    "### As of today (2024) the ratings have changed! \n",
    "Remember this dataset was collected from 2021, so I've accounted for that in this [IMDB](https://www.imdb.com/search/title/?title_type=feature&genres=sci-fi,drama&release_date=,2022-01-01&sort=num_votes,desc) search. But naturally, 3 years of additional ratings have shifted things.\n",
    "\n",
    "It looks like \"Avengers: Endgame\" has gone up to 3rd place, shifting  \"V for Vendetta\", \"Eternal Sunshine of the Spotless Mind\" & \"The Martian\" down."
   ]
  },
  {
   "cell_type": "markdown",
   "id": "1f9567ec",
   "metadata": {},
   "source": [
    "<center>\n",
    "<img alt=\"top5scidrammoves\" src=\"top5scidram.png\" width=\"500px;\" />\n",
    "</center>"
   ]
  },
  {
   "cell_type": "markdown",
   "id": "b6f8aaff",
   "metadata": {},
   "source": [
    "#### Im going to convert this into a Python dataframe so that I can explore it a bit more"
   ]
  },
  {
   "cell_type": "code",
   "execution_count": 299,
   "id": "77157b62",
   "metadata": {},
   "outputs": [
    {
     "name": "stdout",
     "output_type": "stream",
     "text": [
      " * sqlite:///imdbmini.db\n",
      "Done.\n",
      "Returning data to local variable sdram_movies_sql\n"
     ]
    }
   ],
   "source": [
    "%%sql sdram_movies_sql <<\n",
    "SELECT T.tconst AS id,\n",
    "  primaryTitle AS title, \n",
    "  titleType,\n",
    "  CAST(runtimeMinutes AS int) AS time,  \n",
    "  CAST(startYear AS int) AS year,\n",
    "  CAST(averageRating AS float) AS rating,\n",
    "  CAST(numVotes AS int) AS numRatings  \n",
    "FROM Title AS T INNER JOIN Rating AS R ON T.tconst = R.tconst\n",
    "WHERE time > 0 AND -- get rid of outliers and missing values --\n",
    "      year > 0     -- get rid of missing values --\n",
    "      AND titleType = \"movie\"\n",
    "      AND genres LIKE \"%Sci-Fi%\" AND genres LIKE \"%DRAMA%\"\n",
    "ORDER BY numRatings DESC;"
   ]
  },
  {
   "cell_type": "code",
   "execution_count": 300,
   "id": "f55452db",
   "metadata": {
    "scrolled": true
   },
   "outputs": [
    {
     "data": {
      "text/html": [
       "<div>\n",
       "<style scoped>\n",
       "    .dataframe tbody tr th:only-of-type {\n",
       "        vertical-align: middle;\n",
       "    }\n",
       "\n",
       "    .dataframe tbody tr th {\n",
       "        vertical-align: top;\n",
       "    }\n",
       "\n",
       "    .dataframe thead th {\n",
       "        text-align: right;\n",
       "    }\n",
       "</style>\n",
       "<table border=\"1\" class=\"dataframe\">\n",
       "  <thead>\n",
       "    <tr style=\"text-align: right;\">\n",
       "      <th></th>\n",
       "      <th>id</th>\n",
       "      <th>title</th>\n",
       "      <th>titleType</th>\n",
       "      <th>time</th>\n",
       "      <th>year</th>\n",
       "      <th>rating</th>\n",
       "      <th>numRatings</th>\n",
       "    </tr>\n",
       "  </thead>\n",
       "  <tbody>\n",
       "    <tr>\n",
       "      <th>0</th>\n",
       "      <td>816692</td>\n",
       "      <td>Interstellar</td>\n",
       "      <td>movie</td>\n",
       "      <td>169</td>\n",
       "      <td>2014</td>\n",
       "      <td>8.6</td>\n",
       "      <td>1613897</td>\n",
       "    </tr>\n",
       "    <tr>\n",
       "      <th>1</th>\n",
       "      <td>482571</td>\n",
       "      <td>The Prestige</td>\n",
       "      <td>movie</td>\n",
       "      <td>130</td>\n",
       "      <td>2006</td>\n",
       "      <td>8.5</td>\n",
       "      <td>1244379</td>\n",
       "    </tr>\n",
       "    <tr>\n",
       "      <th>2</th>\n",
       "      <td>434409</td>\n",
       "      <td>V for Vendetta</td>\n",
       "      <td>movie</td>\n",
       "      <td>132</td>\n",
       "      <td>2005</td>\n",
       "      <td>8.1</td>\n",
       "      <td>1065965</td>\n",
       "    </tr>\n",
       "    <tr>\n",
       "      <th>3</th>\n",
       "      <td>338013</td>\n",
       "      <td>Eternal Sunshine of the Spotless Mind</td>\n",
       "      <td>movie</td>\n",
       "      <td>108</td>\n",
       "      <td>2004</td>\n",
       "      <td>8.3</td>\n",
       "      <td>948018</td>\n",
       "    </tr>\n",
       "    <tr>\n",
       "      <th>4</th>\n",
       "      <td>3659388</td>\n",
       "      <td>The Martian</td>\n",
       "      <td>movie</td>\n",
       "      <td>144</td>\n",
       "      <td>2015</td>\n",
       "      <td>8.0</td>\n",
       "      <td>794444</td>\n",
       "    </tr>\n",
       "    <tr>\n",
       "      <th>...</th>\n",
       "      <td>...</td>\n",
       "      <td>...</td>\n",
       "      <td>...</td>\n",
       "      <td>...</td>\n",
       "      <td>...</td>\n",
       "      <td>...</td>\n",
       "      <td>...</td>\n",
       "    </tr>\n",
       "    <tr>\n",
       "      <th>129</th>\n",
       "      <td>97368</td>\n",
       "      <td>The Fly II</td>\n",
       "      <td>movie</td>\n",
       "      <td>105</td>\n",
       "      <td>1989</td>\n",
       "      <td>5.1</td>\n",
       "      <td>22105</td>\n",
       "    </tr>\n",
       "    <tr>\n",
       "      <th>130</th>\n",
       "      <td>1928340</td>\n",
       "      <td>After the Dark</td>\n",
       "      <td>movie</td>\n",
       "      <td>107</td>\n",
       "      <td>2013</td>\n",
       "      <td>5.7</td>\n",
       "      <td>21840</td>\n",
       "    </tr>\n",
       "    <tr>\n",
       "      <th>131</th>\n",
       "      <td>51622</td>\n",
       "      <td>The Fly</td>\n",
       "      <td>movie</td>\n",
       "      <td>94</td>\n",
       "      <td>1958</td>\n",
       "      <td>7.1</td>\n",
       "      <td>21837</td>\n",
       "    </tr>\n",
       "    <tr>\n",
       "      <th>132</th>\n",
       "      <td>1748207</td>\n",
       "      <td>Sound of My Voice</td>\n",
       "      <td>movie</td>\n",
       "      <td>87</td>\n",
       "      <td>2011</td>\n",
       "      <td>6.6</td>\n",
       "      <td>21531</td>\n",
       "    </tr>\n",
       "    <tr>\n",
       "      <th>133</th>\n",
       "      <td>345061</td>\n",
       "      <td>Code 46</td>\n",
       "      <td>movie</td>\n",
       "      <td>93</td>\n",
       "      <td>2003</td>\n",
       "      <td>6.2</td>\n",
       "      <td>20377</td>\n",
       "    </tr>\n",
       "  </tbody>\n",
       "</table>\n",
       "<p>134 rows × 7 columns</p>\n",
       "</div>"
      ],
      "text/plain": [
       "          id                                  title titleType  time  year  \\\n",
       "0     816692                           Interstellar     movie   169  2014   \n",
       "1     482571                           The Prestige     movie   130  2006   \n",
       "2     434409                         V for Vendetta     movie   132  2005   \n",
       "3     338013  Eternal Sunshine of the Spotless Mind     movie   108  2004   \n",
       "4    3659388                            The Martian     movie   144  2015   \n",
       "..       ...                                    ...       ...   ...   ...   \n",
       "129    97368                             The Fly II     movie   105  1989   \n",
       "130  1928340                         After the Dark     movie   107  2013   \n",
       "131    51622                                The Fly     movie    94  1958   \n",
       "132  1748207                      Sound of My Voice     movie    87  2011   \n",
       "133   345061                                Code 46     movie    93  2003   \n",
       "\n",
       "     rating  numRatings  \n",
       "0       8.6     1613897  \n",
       "1       8.5     1244379  \n",
       "2       8.1     1065965  \n",
       "3       8.3      948018  \n",
       "4       8.0      794444  \n",
       "..      ...         ...  \n",
       "129     5.1       22105  \n",
       "130     5.7       21840  \n",
       "131     7.1       21837  \n",
       "132     6.6       21531  \n",
       "133     6.2       20377  \n",
       "\n",
       "[134 rows x 7 columns]"
      ]
     },
     "execution_count": 300,
     "metadata": {},
     "output_type": "execute_result"
    }
   ],
   "source": [
    "sdram_df = sdram_movies_sql.DataFrame()\n",
    "sdram_df"
   ]
  },
  {
   "cell_type": "markdown",
   "id": "6427a7d0",
   "metadata": {},
   "source": [
    "### Average Ratings for Crime Drama movies have gone down."
   ]
  },
  {
   "cell_type": "code",
   "execution_count": 301,
   "id": "60adbc63",
   "metadata": {},
   "outputs": [
    {
     "data": {
      "image/png": "[encoded data removed]",
      "text/plain": [
       "<Figure size 640x480 with 1 Axes>"
      ]
     },
     "metadata": {},
     "output_type": "display_data"
    }
   ],
   "source": [
    "sns.lineplot(data=sdram_df, x=\"year\", y=\"rating\");"
   ]
  },
  {
   "cell_type": "code",
   "execution_count": 320,
   "id": "d657ec8e",
   "metadata": {
    "scrolled": true
   },
   "outputs": [
    {
     "data": {
      "image/svg+xml": [
       "<svg class=\"main-svg\" xmlns=\"http://www.w3.org/2000/svg\" xmlns:xlink=\"http://www.w3.org/1999/xlink\" width=\"700\" height=\"500\" style=\"\" viewBox=\"0 0 700 500\"><rect x=\"0\" y=\"0\" width=\"700\" height=\"500\" style=\"fill: rgb(255, 255, 255); fill-opacity: 1;\"/><defs id=\"defs-a9512a\"><g class=\"clips\"><clipPath id=\"clipa9512axyplot\" class=\"plotclip\"><rect width=\"522\" height=\"320\"/></clipPath><clipPath class=\"axesclip\" id=\"clipa9512ax\"><rect x=\"80\" y=\"0\" width=\"522\" height=\"500\"/></clipPath><clipPath class=\"axesclip\" id=\"clipa9512ay\"><rect x=\"0\" y=\"100\" width=\"700\" height=\"320\"/></clipPath><clipPath class=\"axesclip\" id=\"clipa9512axy\"><rect x=\"80\" y=\"100\" width=\"522\" height=\"320\"/></clipPath></g><g class=\"gradients\"/><g class=\"patterns\"/></defs><g class=\"bglayer\"><rect class=\"bg\" x=\"80\" y=\"100\" width=\"522\" height=\"320\" style=\"fill: rgb(229, 236, 246); fill-opacity: 1; stroke-width: 0;\"/></g><g class=\"layer-below\"><g class=\"imagelayer\"/><g class=\"shapelayer\"/></g><g class=\"cartesianlayer\"><g class=\"subplot xy\"><g class=\"layer-subplot\"><g class=\"shapelayer\"/><g class=\"imagelayer\"/></g><g class=\"minor-gridlayer\"><g class=\"x\"/><g class=\"y\"/></g><g class=\"gridlayer\"><g class=\"x\"/><g class=\"y\"><path class=\"ygrid crisp\" transform=\"translate(0,368.88)\" d=\"M80,0h522\" style=\"stroke: rgb(255, 255, 255); stroke-opacity: 1; stroke-width: 1px;\"/><path class=\"ygrid crisp\" transform=\"translate(0,298.63)\" d=\"M80,0h522\" style=\"stroke: rgb(255, 255, 255); stroke-opacity: 1; stroke-width: 1px;\"/><path class=\"ygrid crisp\" transform=\"translate(0,228.39)\" d=\"M80,0h522\" style=\"stroke: rgb(255, 255, 255); stroke-opacity: 1; stroke-width: 1px;\"/><path class=\"ygrid crisp\" transform=\"translate(0,158.15)\" d=\"M80,0h522\" style=\"stroke: rgb(255, 255, 255); stroke-opacity: 1; stroke-width: 1px;\"/></g></g><g class=\"zerolinelayer\"/><path class=\"xlines-below\"/><path class=\"ylines-below\"/><g class=\"overlines-below\"/><g class=\"xaxislayer-below\"/><g class=\"yaxislayer-below\"/><g class=\"overaxes-below\"/><g class=\"plot\" transform=\"translate(80,100)\" clip-path=\"url(#clipa9512axyplot)\"><g class=\"boxlayer mlayer\"><g class=\"trace boxes\" style=\"opacity: 1;\"><path class=\"box\" d=\"M439.19,156.49H462.44M439.19,191.61H462.44V116.1H439.19ZM450.82,191.61V289.95M450.82,116.1V16M445.01,289.95H456.63M445.01,16H456.63\" style=\"vector-effect: non-scaling-stroke; stroke-width: 2px; stroke: rgb(99, 110, 250); stroke-opacity: 1; fill: rgb(99, 110, 250); fill-opacity: 0.5;\"/><g class=\"points\"/></g><g class=\"trace boxes\" style=\"opacity: 1;\"><path class=\"box\" d=\"M391.74,156.49H414.99M391.74,207.41H414.99V100.29H391.74ZM403.36,207.41V304M403.36,100.29V23.02M397.55,304H409.18M397.55,23.02H409.18\" style=\"vector-effect: non-scaling-stroke; stroke-width: 2px; stroke: rgb(239, 85, 59); stroke-opacity: 1; fill: rgb(239, 85, 59); fill-opacity: 0.5;\"/><g class=\"points\"/></g><g class=\"trace boxes\" style=\"opacity: 1;\"><path class=\"box\" d=\"M249.37,128.39H272.63M249.37,149.46H272.63V51.12H249.37ZM261,149.46V163.51M261,51.12V37.07M255.19,163.51H266.81M255.19,37.07H266.81\" style=\"vector-effect: non-scaling-stroke; stroke-width: 2px; stroke: rgb(0, 204, 150); stroke-opacity: 1; fill: rgb(0, 204, 150); fill-opacity: 0.5;\"/><g class=\"points\"/></g><g class=\"trace boxes\" style=\"opacity: 1;\"><path class=\"box\" d=\"M344.28,167.02H367.54M344.28,219.71H367.54V114.34H344.28ZM355.91,219.71V240.78M355.91,114.34V72.2M350.1,240.78H361.72M350.1,72.2H361.72\" style=\"vector-effect: non-scaling-stroke; stroke-width: 2px; stroke: rgb(171, 99, 250); stroke-opacity: 1; fill: rgb(171, 99, 250); fill-opacity: 0.5;\"/><g class=\"points\"/></g><g class=\"trace boxes\" style=\"opacity: 1;\"><path class=\"box\" d=\"M296.83,121.37H320.08M296.83,147.71H320.08V93.27H296.83ZM308.45,147.71V149.46M308.45,93.27V65.17M302.64,149.46H314.27M302.64,65.17H314.27\" style=\"vector-effect: non-scaling-stroke; stroke-width: 2px; stroke: rgb(255, 161, 90); stroke-opacity: 1; fill: rgb(255, 161, 90); fill-opacity: 0.5;\"/><g class=\"points\"><path class=\"point\" transform=\"translate(308.45,261.85)\" d=\"M3,0A3,3 0 1,1 0,-3A3,3 0 0,1 3,0Z\" style=\"opacity: 1; stroke-width: 0px; fill: rgb(255, 161, 90); fill-opacity: 1;\"/></g></g><g class=\"trace boxes\" style=\"opacity: 1;\"><path class=\"box\" d=\"M12.1,37.07H35.35M12.1,37.07H35.35V37.07H12.1ZM23.73,37.07V37.07M23.73,37.07V37.07M17.91,37.07H29.54M17.91,37.07H29.54\" style=\"vector-effect: non-scaling-stroke; stroke-width: 2px; stroke: rgb(25, 211, 243); stroke-opacity: 1; fill: rgb(25, 211, 243); fill-opacity: 0.5;\"/><g class=\"points\"/></g><g class=\"trace boxes\" style=\"opacity: 1;\"><path class=\"box\" d=\"M486.65,191.61H509.9M486.65,226.73H509.9V107.32H486.65ZM498.27,226.73V226.73M498.27,107.32V23.02M492.46,226.73H504.09M492.46,23.02H504.09\" style=\"vector-effect: non-scaling-stroke; stroke-width: 2px; stroke: rgb(255, 102, 146); stroke-opacity: 1; fill: rgb(255, 102, 146); fill-opacity: 0.5;\"/><g class=\"points\"/></g><g class=\"trace boxes\" style=\"opacity: 1;\"><path class=\"box\" d=\"M154.46,80.22H177.72M154.46,110.83H177.72V79.22H154.46ZM166.09,110.83V121.37M166.09,79.22V79.22M160.28,121.37H171.9M160.28,79.22H171.9\" style=\"vector-effect: non-scaling-stroke; stroke-width: 2px; stroke: rgb(182, 232, 128); stroke-opacity: 1; fill: rgb(182, 232, 128); fill-opacity: 0.5;\"/><g class=\"points\"/></g><g class=\"trace boxes\" style=\"opacity: 1;\"><path class=\"box\" d=\"M59.56,72.2H82.81M59.56,72.2H82.81V72.2H59.56ZM71.18,72.2V72.2M71.18,72.2V72.2M65.37,72.2H76.99M65.37,72.2H76.99\" style=\"vector-effect: non-scaling-stroke; stroke-width: 2px; stroke: rgb(255, 151, 255); stroke-opacity: 1; fill: rgb(255, 151, 255); fill-opacity: 0.5;\"/><g class=\"points\"/></g><g class=\"trace boxes\" style=\"opacity: 1;\"><path class=\"box\" d=\"M201.92,117.85H225.17M201.92,121.37H225.17V114.34H201.92ZM213.55,121.37V121.37M213.55,114.34V114.34M207.73,121.37H219.36M207.73,114.34H219.36\" style=\"vector-effect: non-scaling-stroke; stroke-width: 2px; stroke: rgb(254, 203, 82); stroke-opacity: 1; fill: rgb(254, 203, 82); fill-opacity: 0.5;\"/><g class=\"points\"/></g></g></g><g class=\"overplot\"/><path class=\"xlines-above crisp\" d=\"M0,0\" style=\"fill: none;\"/><path class=\"ylines-above crisp\" d=\"M0,0\" style=\"fill: none;\"/><g class=\"overlines-above\"/><g class=\"xaxislayer-above\"><g class=\"xtick\"><text text-anchor=\"middle\" x=\"0\" y=\"433\" transform=\"translate(103.73,0)\" style=\"font-family: 'Open Sans', verdana, arial, sans-serif; font-size: 12px; fill: rgb(42, 63, 95); fill-opacity: 1; white-space: pre; opacity: 1;\">1920</text></g><g class=\"xtick\"><text text-anchor=\"middle\" x=\"0\" y=\"433\" style=\"font-family: 'Open Sans', verdana, arial, sans-serif; font-size: 12px; fill: rgb(42, 63, 95); fill-opacity: 1; white-space: pre; opacity: 1;\" transform=\"translate(198.64,0)\">1940</text></g><g class=\"xtick\"><text text-anchor=\"middle\" x=\"0\" y=\"433\" style=\"font-family: 'Open Sans', verdana, arial, sans-serif; font-size: 12px; fill: rgb(42, 63, 95); fill-opacity: 1; white-space: pre; opacity: 1;\" transform=\"translate(293.55,0)\">1960</text></g><g class=\"xtick\"><text text-anchor=\"middle\" x=\"0\" y=\"433\" style=\"font-family: 'Open Sans', verdana, arial, sans-serif; font-size: 12px; fill: rgb(42, 63, 95); fill-opacity: 1; white-space: pre; opacity: 1;\" transform=\"translate(388.45,0)\">1980</text></g><g class=\"xtick\"><text text-anchor=\"middle\" x=\"0\" y=\"433\" style=\"font-family: 'Open Sans', verdana, arial, sans-serif; font-size: 12px; fill: rgb(42, 63, 95); fill-opacity: 1; white-space: pre; opacity: 1;\" transform=\"translate(483.36,0)\">2000</text></g><g class=\"xtick\"><text text-anchor=\"middle\" x=\"0\" y=\"433\" style=\"font-family: 'Open Sans', verdana, arial, sans-serif; font-size: 12px; fill: rgb(42, 63, 95); fill-opacity: 1; white-space: pre; opacity: 1;\" transform=\"translate(578.27,0)\">2020</text></g></g><g class=\"yaxislayer-above\"><g class=\"ytick\"><text text-anchor=\"end\" x=\"79\" y=\"4.199999999999999\" transform=\"translate(0,368.88)\" style=\"font-family: 'Open Sans', verdana, arial, sans-serif; font-size: 12px; fill: rgb(42, 63, 95); fill-opacity: 1; white-space: pre; opacity: 1;\">5</text></g><g class=\"ytick\"><text text-anchor=\"end\" x=\"79\" y=\"4.199999999999999\" style=\"font-family: 'Open Sans', verdana, arial, sans-serif; font-size: 12px; fill: rgb(42, 63, 95); fill-opacity: 1; white-space: pre; opacity: 1;\" transform=\"translate(0,298.63)\">6</text></g><g class=\"ytick\"><text text-anchor=\"end\" x=\"79\" y=\"4.199999999999999\" style=\"font-family: 'Open Sans', verdana, arial, sans-serif; font-size: 12px; fill: rgb(42, 63, 95); fill-opacity: 1; white-space: pre; opacity: 1;\" transform=\"translate(0,228.39)\">7</text></g><g class=\"ytick\"><text text-anchor=\"end\" x=\"79\" y=\"4.199999999999999\" style=\"font-family: 'Open Sans', verdana, arial, sans-serif; font-size: 12px; fill: rgb(42, 63, 95); fill-opacity: 1; white-space: pre; opacity: 1;\" transform=\"translate(0,158.15)\">8</text></g></g><g class=\"overaxes-above\"/></g></g><g class=\"polarlayer\"/><g class=\"smithlayer\"/><g class=\"ternarylayer\"/><g class=\"geolayer\"/><g class=\"funnelarealayer\"/><g class=\"pielayer\"/><g class=\"iciclelayer\"/><g class=\"treemaplayer\"/><g class=\"sunburstlayer\"/><g class=\"glimages\"/><defs id=\"topdefs-a9512a\"><g class=\"clips\"/><clipPath id=\"legenda9512a\"><rect width=\"76\" height=\"219\" x=\"0\" y=\"0\"/></clipPath></defs><g class=\"layer-above\"><g class=\"imagelayer\"/><g class=\"shapelayer\"/></g><g class=\"infolayer\"><g class=\"legend\" pointer-events=\"all\" transform=\"translate(612.44,100)\"><rect class=\"bg\" shape-rendering=\"crispEdges\" style=\"stroke: rgb(68, 68, 68); stroke-opacity: 1; fill: rgb(255, 255, 255); fill-opacity: 1; stroke-width: 0px;\" width=\"76\" height=\"219\" x=\"0\" y=\"0\"/><g class=\"scrollbox\" transform=\"\" clip-path=\"url(#legenda9512a)\"><text class=\"legendtitletext\" text-anchor=\"start\" x=\"2\" y=\"18.2\" style=\"font-family: 'Open Sans', verdana, arial, sans-serif; font-size: 14px; fill: rgb(42, 63, 95); fill-opacity: 1; white-space: pre;\">decade</text><g class=\"groups\" transform=\"\"><g class=\"traces\" transform=\"translate(0,32.7)\" style=\"opacity: 1;\"><text class=\"legendtext\" text-anchor=\"start\" x=\"40\" y=\"4.680000000000001\" style=\"font-family: 'Open Sans', verdana, arial, sans-serif; font-size: 12px; fill: rgb(42, 63, 95); fill-opacity: 1; white-space: pre;\">2010</text><g class=\"layers\" style=\"opacity: 1;\"><g class=\"legendfill\"/><g class=\"legendlines\"/><g class=\"legendsymbols\"><g class=\"legendpoints\"><path class=\"legendbox\" d=\"M6,6H-6V-6H6Z\" transform=\"translate(20,0)\" style=\"stroke-width: 2px; fill: rgb(99, 110, 250); fill-opacity: 0.5; stroke: rgb(99, 110, 250); stroke-opacity: 1;\"/></g></g></g><rect class=\"legendtoggle\" x=\"0\" y=\"-9.5\" width=\"70.515625\" height=\"19\" style=\"fill: rgb(0, 0, 0); fill-opacity: 0;\"/></g></g><g class=\"groups\" transform=\"\"><g class=\"traces\" transform=\"translate(0,51.7)\" style=\"opacity: 1;\"><text class=\"legendtext\" text-anchor=\"start\" x=\"40\" y=\"4.680000000000001\" style=\"font-family: 'Open Sans', verdana, arial, sans-serif; font-size: 12px; fill: rgb(42, 63, 95); fill-opacity: 1; white-space: pre;\">2000</text><g class=\"layers\" style=\"opacity: 1;\"><g class=\"legendfill\"/><g class=\"legendlines\"/><g class=\"legendsymbols\"><g class=\"legendpoints\"><path class=\"legendbox\" d=\"M6,6H-6V-6H6Z\" transform=\"translate(20,0)\" style=\"stroke-width: 2px; fill: rgb(239, 85, 59); fill-opacity: 0.5; stroke: rgb(239, 85, 59); stroke-opacity: 1;\"/></g></g></g><rect class=\"legendtoggle\" x=\"0\" y=\"-9.5\" width=\"70.515625\" height=\"19\" style=\"fill: rgb(0, 0, 0); fill-opacity: 0;\"/></g></g><g class=\"groups\" transform=\"\"><g class=\"traces\" transform=\"translate(0,70.7)\" style=\"opacity: 1;\"><text class=\"legendtext\" text-anchor=\"start\" x=\"40\" y=\"4.680000000000001\" style=\"font-family: 'Open Sans', verdana, arial, sans-serif; font-size: 12px; fill: rgb(42, 63, 95); fill-opacity: 1; white-space: pre;\">1970</text><g class=\"layers\" style=\"opacity: 1;\"><g class=\"legendfill\"/><g class=\"legendlines\"/><g class=\"legendsymbols\"><g class=\"legendpoints\"><path class=\"legendbox\" d=\"M6,6H-6V-6H6Z\" transform=\"translate(20,0)\" style=\"stroke-width: 2px; fill: rgb(0, 204, 150); fill-opacity: 0.5; stroke: rgb(0, 204, 150); stroke-opacity: 1;\"/></g></g></g><rect class=\"legendtoggle\" x=\"0\" y=\"-9.5\" width=\"70.515625\" height=\"19\" style=\"fill: rgb(0, 0, 0); fill-opacity: 0;\"/></g></g><g class=\"groups\" transform=\"\"><g class=\"traces\" transform=\"translate(0,89.7)\" style=\"opacity: 1;\"><text class=\"legendtext\" text-anchor=\"start\" x=\"40\" y=\"4.680000000000001\" style=\"font-family: 'Open Sans', verdana, arial, sans-serif; font-size: 12px; fill: rgb(42, 63, 95); fill-opacity: 1; white-space: pre;\">1990</text><g class=\"layers\" style=\"opacity: 1;\"><g class=\"legendfill\"/><g class=\"legendlines\"/><g class=\"legendsymbols\"><g class=\"legendpoints\"><path class=\"legendbox\" d=\"M6,6H-6V-6H6Z\" transform=\"translate(20,0)\" style=\"stroke-width: 2px; fill: rgb(171, 99, 250); fill-opacity: 0.5; stroke: rgb(171, 99, 250); stroke-opacity: 1;\"/></g></g></g><rect class=\"legendtoggle\" x=\"0\" y=\"-9.5\" width=\"70.515625\" height=\"19\" style=\"fill: rgb(0, 0, 0); fill-opacity: 0;\"/></g></g><g class=\"groups\" transform=\"\"><g class=\"traces\" transform=\"translate(0,108.7)\" style=\"opacity: 1;\"><text class=\"legendtext\" text-anchor=\"start\" x=\"40\" y=\"4.680000000000001\" style=\"font-family: 'Open Sans', verdana, arial, sans-serif; font-size: 12px; fill: rgb(42, 63, 95); fill-opacity: 1; white-space: pre;\">1980</text><g class=\"layers\" style=\"opacity: 1;\"><g class=\"legendfill\"/><g class=\"legendlines\"/><g class=\"legendsymbols\"><g class=\"legendpoints\"><path class=\"legendbox\" d=\"M6,6H-6V-6H6Z\" transform=\"translate(20,0)\" style=\"stroke-width: 2px; fill: rgb(255, 161, 90); fill-opacity: 0.5; stroke: rgb(255, 161, 90); stroke-opacity: 1;\"/></g></g></g><rect class=\"legendtoggle\" x=\"0\" y=\"-9.5\" width=\"70.515625\" height=\"19\" style=\"fill: rgb(0, 0, 0); fill-opacity: 0;\"/></g></g><g class=\"groups\" transform=\"\"><g class=\"traces\" transform=\"translate(0,127.7)\" style=\"opacity: 1;\"><text class=\"legendtext\" text-anchor=\"start\" x=\"40\" y=\"4.680000000000001\" style=\"font-family: 'Open Sans', verdana, arial, sans-serif; font-size: 12px; fill: rgb(42, 63, 95); fill-opacity: 1; white-space: pre;\">1920</text><g class=\"layers\" style=\"opacity: 1;\"><g class=\"legendfill\"/><g class=\"legendlines\"/><g class=\"legendsymbols\"><g class=\"legendpoints\"><path class=\"legendbox\" d=\"M6,6H-6V-6H6Z\" transform=\"translate(20,0)\" style=\"stroke-width: 2px; fill: rgb(25, 211, 243); fill-opacity: 0.5; stroke: rgb(25, 211, 243); stroke-opacity: 1;\"/></g></g></g><rect class=\"legendtoggle\" x=\"0\" y=\"-9.5\" width=\"70.515625\" height=\"19\" style=\"fill: rgb(0, 0, 0); fill-opacity: 0;\"/></g></g><g class=\"groups\" transform=\"\"><g class=\"traces\" transform=\"translate(0,146.7)\" style=\"opacity: 1;\"><text class=\"legendtext\" text-anchor=\"start\" x=\"40\" y=\"4.680000000000001\" style=\"font-family: 'Open Sans', verdana, arial, sans-serif; font-size: 12px; fill: rgb(42, 63, 95); fill-opacity: 1; white-space: pre;\">2020</text><g class=\"layers\" style=\"opacity: 1;\"><g class=\"legendfill\"/><g class=\"legendlines\"/><g class=\"legendsymbols\"><g class=\"legendpoints\"><path class=\"legendbox\" d=\"M6,6H-6V-6H6Z\" transform=\"translate(20,0)\" style=\"stroke-width: 2px; fill: rgb(255, 102, 146); fill-opacity: 0.5; stroke: rgb(255, 102, 146); stroke-opacity: 1;\"/></g></g></g><rect class=\"legendtoggle\" x=\"0\" y=\"-9.5\" width=\"70.515625\" height=\"19\" style=\"fill: rgb(0, 0, 0); fill-opacity: 0;\"/></g></g><g class=\"groups\" transform=\"\"><g class=\"traces\" transform=\"translate(0,165.7)\" style=\"opacity: 1;\"><text class=\"legendtext\" text-anchor=\"start\" x=\"40\" y=\"4.680000000000001\" style=\"font-family: 'Open Sans', verdana, arial, sans-serif; font-size: 12px; fill: rgb(42, 63, 95); fill-opacity: 1; white-space: pre;\">1950</text><g class=\"layers\" style=\"opacity: 1;\"><g class=\"legendfill\"/><g class=\"legendlines\"/><g class=\"legendsymbols\"><g class=\"legendpoints\"><path class=\"legendbox\" d=\"M6,6H-6V-6H6Z\" transform=\"translate(20,0)\" style=\"stroke-width: 2px; fill: rgb(182, 232, 128); fill-opacity: 0.5; stroke: rgb(182, 232, 128); stroke-opacity: 1;\"/></g></g></g><rect class=\"legendtoggle\" x=\"0\" y=\"-9.5\" width=\"70.515625\" height=\"19\" style=\"fill: rgb(0, 0, 0); fill-opacity: 0;\"/></g></g><g class=\"groups\" transform=\"\"><g class=\"traces\" transform=\"translate(0,184.7)\" style=\"opacity: 1;\"><text class=\"legendtext\" text-anchor=\"start\" x=\"40\" y=\"4.680000000000001\" style=\"font-family: 'Open Sans', verdana, arial, sans-serif; font-size: 12px; fill: rgb(42, 63, 95); fill-opacity: 1; white-space: pre;\">1930</text><g class=\"layers\" style=\"opacity: 1;\"><g class=\"legendfill\"/><g class=\"legendlines\"/><g class=\"legendsymbols\"><g class=\"legendpoints\"><path class=\"legendbox\" d=\"M6,6H-6V-6H6Z\" transform=\"translate(20,0)\" style=\"stroke-width: 2px; fill: rgb(255, 151, 255); fill-opacity: 0.5; stroke: rgb(255, 151, 255); stroke-opacity: 1;\"/></g></g></g><rect class=\"legendtoggle\" x=\"0\" y=\"-9.5\" width=\"70.515625\" height=\"19\" style=\"fill: rgb(0, 0, 0); fill-opacity: 0;\"/></g></g><g class=\"groups\" transform=\"\"><g class=\"traces\" transform=\"translate(0,203.7)\" style=\"opacity: 1;\"><text class=\"legendtext\" text-anchor=\"start\" x=\"40\" y=\"4.680000000000001\" style=\"font-family: 'Open Sans', verdana, arial, sans-serif; font-size: 12px; fill: rgb(42, 63, 95); fill-opacity: 1; white-space: pre;\">1960</text><g class=\"layers\" style=\"opacity: 1;\"><g class=\"legendfill\"/><g class=\"legendlines\"/><g class=\"legendsymbols\"><g class=\"legendpoints\"><path class=\"legendbox\" d=\"M6,6H-6V-6H6Z\" transform=\"translate(20,0)\" style=\"stroke-width: 2px; fill: rgb(254, 203, 82); fill-opacity: 0.5; stroke: rgb(254, 203, 82); stroke-opacity: 1;\"/></g></g></g><rect class=\"legendtoggle\" x=\"0\" y=\"-9.5\" width=\"70.515625\" height=\"19\" style=\"fill: rgb(0, 0, 0); fill-opacity: 0;\"/></g></g></g><rect class=\"scrollbar\" rx=\"20\" ry=\"3\" width=\"0\" height=\"0\" style=\"fill: rgb(128, 139, 164); fill-opacity: 1;\" x=\"0\" y=\"0\"/></g><g class=\"g-gtitle\"><text class=\"gtitle\" x=\"35\" y=\"50\" text-anchor=\"start\" dy=\"0em\" style=\"font-family: 'Open Sans', verdana, arial, sans-serif; font-size: 17px; fill: rgb(42, 63, 95); opacity: 1; font-weight: normal; white-space: pre;\">Average Rating of SciFi-Drama Movies by Decade</text></g><g class=\"g-xtitle\"><text class=\"xtitle\" x=\"341\" y=\"460.3\" text-anchor=\"middle\" style=\"font-family: 'Open Sans', verdana, arial, sans-serif; font-size: 14px; fill: rgb(42, 63, 95); opacity: 1; font-weight: normal; white-space: pre;\">decade</text></g><g class=\"g-ytitle\"><text class=\"ytitle\" transform=\"rotate(-90,46.559375,260)\" x=\"46.559375\" y=\"260\" text-anchor=\"middle\" style=\"font-family: 'Open Sans', verdana, arial, sans-serif; font-size: 14px; fill: rgb(42, 63, 95); opacity: 1; font-weight: normal; white-space: pre;\">rating</text></g></g></svg>"
      ]
     },
     "metadata": {},
     "output_type": "display_data"
    }
   ],
   "source": [
    "sdram_df['decade'] = (sdram_df['year'] // 10) * 10\n",
    "fig = px.box(sdram_df, x = 'decade', y = 'rating', color = \"decade\", title=\n",
    "      \"Average Rating of SciFi-Drama Movies by Decade\")\n",
    "\n",
    "fig.show(renderer=\"svg\")"
   ]
  },
  {
   "cell_type": "markdown",
   "id": "b268d2a2",
   "metadata": {},
   "source": [
    "Ratings of this genre are really variable through time! "
   ]
  },
  {
   "cell_type": "markdown",
   "id": "30bfc2a1",
   "metadata": {},
   "source": [
    "### How does this compare to the Romance  movie genre ? "
   ]
  },
  {
   "cell_type": "code",
   "execution_count": 303,
   "id": "fb9d7949",
   "metadata": {},
   "outputs": [
    {
     "name": "stdout",
     "output_type": "stream",
     "text": [
      " * sqlite:///imdbmini.db\n",
      "Done.\n"
     ]
    },
    {
     "data": {
      "text/html": [
       "<table>\n",
       "    <thead>\n",
       "        <tr>\n",
       "            <th>id</th>\n",
       "            <th>title</th>\n",
       "            <th>titleType</th>\n",
       "            <th>time</th>\n",
       "            <th>year</th>\n",
       "            <th>rating</th>\n",
       "            <th>numRatings</th>\n",
       "        </tr>\n",
       "    </thead>\n",
       "    <tbody>\n",
       "        <tr>\n",
       "            <td>109830</td>\n",
       "            <td>Forrest Gump</td>\n",
       "            <td>movie</td>\n",
       "            <td>142</td>\n",
       "            <td>1994</td>\n",
       "            <td>8.8</td>\n",
       "            <td>1903969</td>\n",
       "        </tr>\n",
       "        <tr>\n",
       "            <td>120338</td>\n",
       "            <td>Titanic</td>\n",
       "            <td>movie</td>\n",
       "            <td>194</td>\n",
       "            <td>1997</td>\n",
       "            <td>7.8</td>\n",
       "            <td>1091853</td>\n",
       "        </tr>\n",
       "        <tr>\n",
       "            <td>338013</td>\n",
       "            <td>Eternal Sunshine of the Spotless Mind</td>\n",
       "            <td>movie</td>\n",
       "            <td>108</td>\n",
       "            <td>2004</td>\n",
       "            <td>8.3</td>\n",
       "            <td>948018</td>\n",
       "        </tr>\n",
       "        <tr>\n",
       "            <td>119217</td>\n",
       "            <td>Good Will Hunting</td>\n",
       "            <td>movie</td>\n",
       "            <td>126</td>\n",
       "            <td>1997</td>\n",
       "            <td>8.3</td>\n",
       "            <td>900171</td>\n",
       "        </tr>\n",
       "        <tr>\n",
       "            <td>1010048</td>\n",
       "            <td>Slumdog Millionaire</td>\n",
       "            <td>movie</td>\n",
       "            <td>120</td>\n",
       "            <td>2008</td>\n",
       "            <td>8.0</td>\n",
       "            <td>817735</td>\n",
       "        </tr>\n",
       "    </tbody>\n",
       "</table>"
      ],
      "text/plain": [
       "[(109830, 'Forrest Gump', 'movie', 142, 1994, 8.8, 1903969),\n",
       " (120338, 'Titanic', 'movie', 194, 1997, 7.8, 1091853),\n",
       " (338013, 'Eternal Sunshine of the Spotless Mind', 'movie', 108, 2004, 8.3, 948018),\n",
       " (119217, 'Good Will Hunting', 'movie', 126, 1997, 8.3, 900171),\n",
       " (1010048, 'Slumdog Millionaire', 'movie', 120, 2008, 8.0, 817735)]"
      ]
     },
     "execution_count": 303,
     "metadata": {},
     "output_type": "execute_result"
    }
   ],
   "source": [
    "%%sql \n",
    "SELECT T.tconst AS id,\n",
    "  primaryTitle AS title, \n",
    "  titleType,\n",
    "  CAST(runtimeMinutes AS int) AS time,  \n",
    "  CAST(startYear AS int) AS year,\n",
    "  CAST(averageRating AS float) AS rating,\n",
    "  CAST(numVotes AS int) AS numRatings  \n",
    "FROM Title AS T INNER JOIN Rating AS R ON T.tconst = R.tconst\n",
    "WHERE time > 0 AND -- get rid of outliers and missing values --\n",
    "      year > 0     -- get rid of missing values --\n",
    "      AND titleType = \"movie\"\n",
    "      AND genres LIKE \"%Romance%\"\n",
    "ORDER BY numRatings DESC\n",
    "LIMIT 5;"
   ]
  },
  {
   "cell_type": "code",
   "execution_count": 304,
   "id": "fa0bf0a5",
   "metadata": {},
   "outputs": [
    {
     "name": "stdout",
     "output_type": "stream",
     "text": [
      " * sqlite:///imdbmini.db\n",
      "Done.\n",
      "Returning data to local variable rom_movies_sql\n"
     ]
    }
   ],
   "source": [
    "%%sql  rom_movies_sql <<\n",
    "SELECT T.tconst AS id,\n",
    "  primaryTitle AS title, \n",
    "  titleType,\n",
    "  CAST(runtimeMinutes AS int) AS time,  \n",
    "  CAST(startYear AS int) AS year,\n",
    "  CAST(averageRating AS float) AS rating,\n",
    "  CAST(numVotes AS int) AS numRatings  \n",
    "FROM Title AS T INNER JOIN Rating AS R ON T.tconst = R.tconst\n",
    "WHERE time > 0 AND -- get rid of outliers and missing values --\n",
    "      year > 0     -- get rid of missing values --\n",
    "      AND titleType = \"movie\"\n",
    "      AND genres LIKE \"%Romance%\"\n",
    "ORDER BY numRatings DESC;"
   ]
  },
  {
   "cell_type": "code",
   "execution_count": 305,
   "id": "55270ee1",
   "metadata": {},
   "outputs": [
    {
     "data": {
      "text/html": [
       "<div>\n",
       "<style scoped>\n",
       "    .dataframe tbody tr th:only-of-type {\n",
       "        vertical-align: middle;\n",
       "    }\n",
       "\n",
       "    .dataframe tbody tr th {\n",
       "        vertical-align: top;\n",
       "    }\n",
       "\n",
       "    .dataframe thead th {\n",
       "        text-align: right;\n",
       "    }\n",
       "</style>\n",
       "<table border=\"1\" class=\"dataframe\">\n",
       "  <thead>\n",
       "    <tr style=\"text-align: right;\">\n",
       "      <th></th>\n",
       "      <th>id</th>\n",
       "      <th>title</th>\n",
       "      <th>titleType</th>\n",
       "      <th>time</th>\n",
       "      <th>year</th>\n",
       "      <th>rating</th>\n",
       "      <th>numRatings</th>\n",
       "    </tr>\n",
       "  </thead>\n",
       "  <tbody>\n",
       "    <tr>\n",
       "      <th>0</th>\n",
       "      <td>109830</td>\n",
       "      <td>Forrest Gump</td>\n",
       "      <td>movie</td>\n",
       "      <td>142</td>\n",
       "      <td>1994</td>\n",
       "      <td>8.8</td>\n",
       "      <td>1903969</td>\n",
       "    </tr>\n",
       "    <tr>\n",
       "      <th>1</th>\n",
       "      <td>120338</td>\n",
       "      <td>Titanic</td>\n",
       "      <td>movie</td>\n",
       "      <td>194</td>\n",
       "      <td>1997</td>\n",
       "      <td>7.8</td>\n",
       "      <td>1091853</td>\n",
       "    </tr>\n",
       "    <tr>\n",
       "      <th>2</th>\n",
       "      <td>338013</td>\n",
       "      <td>Eternal Sunshine of the Spotless Mind</td>\n",
       "      <td>movie</td>\n",
       "      <td>108</td>\n",
       "      <td>2004</td>\n",
       "      <td>8.3</td>\n",
       "      <td>948018</td>\n",
       "    </tr>\n",
       "    <tr>\n",
       "      <th>3</th>\n",
       "      <td>119217</td>\n",
       "      <td>Good Will Hunting</td>\n",
       "      <td>movie</td>\n",
       "      <td>126</td>\n",
       "      <td>1997</td>\n",
       "      <td>8.3</td>\n",
       "      <td>900171</td>\n",
       "    </tr>\n",
       "    <tr>\n",
       "      <th>4</th>\n",
       "      <td>1010048</td>\n",
       "      <td>Slumdog Millionaire</td>\n",
       "      <td>movie</td>\n",
       "      <td>120</td>\n",
       "      <td>2008</td>\n",
       "      <td>8.0</td>\n",
       "      <td>817735</td>\n",
       "    </tr>\n",
       "    <tr>\n",
       "      <th>...</th>\n",
       "      <td>...</td>\n",
       "      <td>...</td>\n",
       "      <td>...</td>\n",
       "      <td>...</td>\n",
       "      <td>...</td>\n",
       "      <td>...</td>\n",
       "      <td>...</td>\n",
       "    </tr>\n",
       "    <tr>\n",
       "      <th>1000</th>\n",
       "      <td>31725</td>\n",
       "      <td>Ninotchka</td>\n",
       "      <td>movie</td>\n",
       "      <td>110</td>\n",
       "      <td>1939</td>\n",
       "      <td>7.9</td>\n",
       "      <td>20081</td>\n",
       "    </tr>\n",
       "    <tr>\n",
       "      <th>1001</th>\n",
       "      <td>118760</td>\n",
       "      <td>The Boxer</td>\n",
       "      <td>movie</td>\n",
       "      <td>113</td>\n",
       "      <td>1997</td>\n",
       "      <td>7.0</td>\n",
       "      <td>20071</td>\n",
       "    </tr>\n",
       "    <tr>\n",
       "      <th>1002</th>\n",
       "      <td>409184</td>\n",
       "      <td>Russian Dolls</td>\n",
       "      <td>movie</td>\n",
       "      <td>125</td>\n",
       "      <td>2005</td>\n",
       "      <td>7.0</td>\n",
       "      <td>20070</td>\n",
       "    </tr>\n",
       "    <tr>\n",
       "      <th>1003</th>\n",
       "      <td>2302966</td>\n",
       "      <td>I</td>\n",
       "      <td>movie</td>\n",
       "      <td>188</td>\n",
       "      <td>2015</td>\n",
       "      <td>7.4</td>\n",
       "      <td>20052</td>\n",
       "    </tr>\n",
       "    <tr>\n",
       "      <th>1004</th>\n",
       "      <td>8075260</td>\n",
       "      <td>Someone Great</td>\n",
       "      <td>movie</td>\n",
       "      <td>92</td>\n",
       "      <td>2019</td>\n",
       "      <td>6.2</td>\n",
       "      <td>20014</td>\n",
       "    </tr>\n",
       "  </tbody>\n",
       "</table>\n",
       "<p>1005 rows × 7 columns</p>\n",
       "</div>"
      ],
      "text/plain": [
       "           id                                  title titleType  time  year  \\\n",
       "0      109830                           Forrest Gump     movie   142  1994   \n",
       "1      120338                                Titanic     movie   194  1997   \n",
       "2      338013  Eternal Sunshine of the Spotless Mind     movie   108  2004   \n",
       "3      119217                      Good Will Hunting     movie   126  1997   \n",
       "4     1010048                    Slumdog Millionaire     movie   120  2008   \n",
       "...       ...                                    ...       ...   ...   ...   \n",
       "1000    31725                              Ninotchka     movie   110  1939   \n",
       "1001   118760                              The Boxer     movie   113  1997   \n",
       "1002   409184                          Russian Dolls     movie   125  2005   \n",
       "1003  2302966                                      I     movie   188  2015   \n",
       "1004  8075260                          Someone Great     movie    92  2019   \n",
       "\n",
       "      rating  numRatings  \n",
       "0        8.8     1903969  \n",
       "1        7.8     1091853  \n",
       "2        8.3      948018  \n",
       "3        8.3      900171  \n",
       "4        8.0      817735  \n",
       "...      ...         ...  \n",
       "1000     7.9       20081  \n",
       "1001     7.0       20071  \n",
       "1002     7.0       20070  \n",
       "1003     7.4       20052  \n",
       "1004     6.2       20014  \n",
       "\n",
       "[1005 rows x 7 columns]"
      ]
     },
     "execution_count": 305,
     "metadata": {},
     "output_type": "execute_result"
    }
   ],
   "source": [
    "rom_df = rom_movies_sql.DataFrame()\n",
    "rom_df"
   ]
  },
  {
   "cell_type": "code",
   "execution_count": 306,
   "id": "c99a3d6f",
   "metadata": {},
   "outputs": [
    {
     "data": {
      "image/png": "[encoded data removed]",
      "text/plain": [
       "<Figure size 640x480 with 1 Axes>"
      ]
     },
     "metadata": {},
     "output_type": "display_data"
    }
   ],
   "source": [
    "sns.lineplot(data=rom_df, x=\"year\", y=\"rating\");"
   ]
  },
  {
   "cell_type": "markdown",
   "id": "0eead0d4",
   "metadata": {},
   "source": [
    "Wow a sharp decline. Is romance dead?"
   ]
  },
  {
   "cell_type": "code",
   "execution_count": 321,
   "id": "bf02f337",
   "metadata": {},
   "outputs": [
    {
     "data": {
      "image/svg+xml": [
       "<svg class=\"main-svg\" xmlns=\"http://www.w3.org/2000/svg\" xmlns:xlink=\"http://www.w3.org/1999/xlink\" width=\"700\" height=\"500\" style=\"\" viewBox=\"0 0 700 500\"><rect x=\"0\" y=\"0\" width=\"700\" height=\"500\" style=\"fill: rgb(255, 255, 255); fill-opacity: 1;\"/><defs id=\"defs-74b697\"><g class=\"clips\"><clipPath id=\"clip74b697xyplot\" class=\"plotclip\"><rect width=\"522\" height=\"320\"/></clipPath><clipPath class=\"axesclip\" id=\"clip74b697x\"><rect x=\"80\" y=\"0\" width=\"522\" height=\"500\"/></clipPath><clipPath class=\"axesclip\" id=\"clip74b697y\"><rect x=\"0\" y=\"100\" width=\"700\" height=\"320\"/></clipPath><clipPath class=\"axesclip\" id=\"clip74b697xy\"><rect x=\"80\" y=\"100\" width=\"522\" height=\"320\"/></clipPath></g><g class=\"gradients\"/><g class=\"patterns\"/></defs><g class=\"bglayer\"><rect class=\"bg\" x=\"80\" y=\"100\" width=\"522\" height=\"320\" style=\"fill: rgb(229, 236, 246); fill-opacity: 1; stroke-width: 0;\"/></g><g class=\"layer-below\"><g class=\"imagelayer\"/><g class=\"shapelayer\"/></g><g class=\"cartesianlayer\"><g class=\"subplot xy\"><g class=\"layer-subplot\"><g class=\"shapelayer\"/><g class=\"imagelayer\"/></g><g class=\"minor-gridlayer\"><g class=\"x\"/><g class=\"y\"/></g><g class=\"gridlayer\"><g class=\"x\"/><g class=\"y\"><path class=\"ygrid crisp\" transform=\"translate(0,399.83)\" d=\"M80,0h522\" style=\"stroke: rgb(255, 255, 255); stroke-opacity: 1; stroke-width: 1px;\"/><path class=\"ygrid crisp\" transform=\"translate(0,358.09)\" d=\"M80,0h522\" style=\"stroke: rgb(255, 255, 255); stroke-opacity: 1; stroke-width: 1px;\"/><path class=\"ygrid crisp\" transform=\"translate(0,316.35)\" d=\"M80,0h522\" style=\"stroke: rgb(255, 255, 255); stroke-opacity: 1; stroke-width: 1px;\"/><path class=\"ygrid crisp\" transform=\"translate(0,274.61)\" d=\"M80,0h522\" style=\"stroke: rgb(255, 255, 255); stroke-opacity: 1; stroke-width: 1px;\"/><path class=\"ygrid crisp\" transform=\"translate(0,232.87)\" d=\"M80,0h522\" style=\"stroke: rgb(255, 255, 255); stroke-opacity: 1; stroke-width: 1px;\"/><path class=\"ygrid crisp\" transform=\"translate(0,191.13)\" d=\"M80,0h522\" style=\"stroke: rgb(255, 255, 255); stroke-opacity: 1; stroke-width: 1px;\"/><path class=\"ygrid crisp\" transform=\"translate(0,149.39)\" d=\"M80,0h522\" style=\"stroke: rgb(255, 255, 255); stroke-opacity: 1; stroke-width: 1px;\"/><path class=\"ygrid crisp\" transform=\"translate(0,107.65)\" d=\"M80,0h522\" style=\"stroke: rgb(255, 255, 255); stroke-opacity: 1; stroke-width: 1px;\"/></g></g><g class=\"zerolinelayer\"/><path class=\"xlines-below\"/><path class=\"ylines-below\"/><g class=\"overlines-below\"/><g class=\"xaxislayer-below\"/><g class=\"yaxislayer-below\"/><g class=\"overaxes-below\"/><g class=\"plot\" transform=\"translate(80,100)\" clip-path=\"url(#clip74b697xyplot)\"><g class=\"boxlayer mlayer\"><g class=\"trace boxes\" style=\"opacity: 1;\"><path class=\"box\" d=\"M344.28,103.65H367.54M344.28,120.35H367.54V78.61H344.28ZM355.91,120.35V178.78M355.91,78.61V16M350.1,178.78H361.72M350.1,16H361.72\" style=\"vector-effect: non-scaling-stroke; stroke-width: 2px; stroke: rgb(99, 110, 250); stroke-opacity: 1; fill: rgb(99, 110, 250); fill-opacity: 0.5;\"/><g class=\"points\"><path class=\"point\" transform=\"translate(355.91,199.65)\" d=\"M3,0A3,3 0 1,1 0,-3A3,3 0 0,1 3,0Z\" style=\"opacity: 1; stroke-width: 0px; fill: rgb(99, 110, 250); fill-opacity: 1;\"/><path class=\"point\" transform=\"translate(355.91,195.48)\" d=\"M3,0A3,3 0 1,1 0,-3A3,3 0 0,1 3,0Z\" style=\"opacity: 1; stroke-width: 0px; fill: rgb(99, 110, 250); fill-opacity: 1;\"/><path class=\"point\" transform=\"translate(355.91,187.13)\" d=\"M3,0A3,3 0 1,1 0,-3A3,3 0 0,1 3,0Z\" style=\"opacity: 1; stroke-width: 0px; fill: rgb(99, 110, 250); fill-opacity: 1;\"/><path class=\"point\" transform=\"translate(355.91,187.13)\" d=\"M3,0A3,3 0 1,1 0,-3A3,3 0 0,1 3,0Z\" style=\"opacity: 1; stroke-width: 0px; fill: rgb(99, 110, 250); fill-opacity: 1;\"/></g></g><g class=\"trace boxes\" style=\"opacity: 1;\"><path class=\"box\" d=\"M391.74,107.83H414.99M391.74,132.87H414.99V86.96H391.74ZM403.36,132.87V199.65M403.36,86.96V28.52M397.55,199.65H409.18M397.55,28.52H409.18\" style=\"vector-effect: non-scaling-stroke; stroke-width: 2px; stroke: rgb(239, 85, 59); stroke-opacity: 1; fill: rgb(239, 85, 59); fill-opacity: 0.5;\"/><g class=\"points\"><path class=\"point\" transform=\"translate(403.36,304)\" d=\"M3,0A3,3 0 1,1 0,-3A3,3 0 0,1 3,0Z\" style=\"opacity: 1; stroke-width: 0px; fill: rgb(239, 85, 59); fill-opacity: 1;\"/><path class=\"point\" transform=\"translate(403.36,295.65)\" d=\"M3,0A3,3 0 1,1 0,-3A3,3 0 0,1 3,0Z\" style=\"opacity: 1; stroke-width: 0px; fill: rgb(239, 85, 59); fill-opacity: 1;\"/><path class=\"point\" transform=\"translate(403.36,287.3)\" d=\"M3,0A3,3 0 1,1 0,-3A3,3 0 0,1 3,0Z\" style=\"opacity: 1; stroke-width: 0px; fill: rgb(239, 85, 59); fill-opacity: 1;\"/><path class=\"point\" transform=\"translate(403.36,278.96)\" d=\"M3,0A3,3 0 1,1 0,-3A3,3 0 0,1 3,0Z\" style=\"opacity: 1; stroke-width: 0px; fill: rgb(239, 85, 59); fill-opacity: 1;\"/><path class=\"point\" transform=\"translate(403.36,266.43)\" d=\"M3,0A3,3 0 1,1 0,-3A3,3 0 0,1 3,0Z\" style=\"opacity: 1; stroke-width: 0px; fill: rgb(239, 85, 59); fill-opacity: 1;\"/><path class=\"point\" transform=\"translate(403.36,233.04)\" d=\"M3,0A3,3 0 1,1 0,-3A3,3 0 0,1 3,0Z\" style=\"opacity: 1; stroke-width: 0px; fill: rgb(239, 85, 59); fill-opacity: 1;\"/><path class=\"point\" transform=\"translate(403.36,228.87)\" d=\"M3,0A3,3 0 1,1 0,-3A3,3 0 0,1 3,0Z\" style=\"opacity: 1; stroke-width: 0px; fill: rgb(239, 85, 59); fill-opacity: 1;\"/><path class=\"point\" transform=\"translate(403.36,224.7)\" d=\"M3,0A3,3 0 1,1 0,-3A3,3 0 0,1 3,0Z\" style=\"opacity: 1; stroke-width: 0px; fill: rgb(239, 85, 59); fill-opacity: 1;\"/><path class=\"point\" transform=\"translate(403.36,216.35)\" d=\"M3,0A3,3 0 1,1 0,-3A3,3 0 0,1 3,0Z\" style=\"opacity: 1; stroke-width: 0px; fill: rgb(239, 85, 59); fill-opacity: 1;\"/><path class=\"point\" transform=\"translate(403.36,212.17)\" d=\"M3,0A3,3 0 1,1 0,-3A3,3 0 0,1 3,0Z\" style=\"opacity: 1; stroke-width: 0px; fill: rgb(239, 85, 59); fill-opacity: 1;\"/></g></g><g class=\"trace boxes\" style=\"opacity: 1;\"><path class=\"box\" d=\"M439.19,107.83H462.44M439.19,128.7H462.44V86.96H439.19ZM450.82,128.7V191.3M450.82,86.96V24.35M445.01,191.3H456.63M445.01,24.35H456.63\" style=\"vector-effect: non-scaling-stroke; stroke-width: 2px; stroke: rgb(0, 204, 150); stroke-opacity: 1; fill: rgb(0, 204, 150); fill-opacity: 0.5;\"/><g class=\"points\"><path class=\"point\" transform=\"translate(450.82,262.26)\" d=\"M3,0A3,3 0 1,1 0,-3A3,3 0 0,1 3,0Z\" style=\"opacity: 1; stroke-width: 0px; fill: rgb(0, 204, 150); fill-opacity: 1;\"/><path class=\"point\" transform=\"translate(450.82,212.17)\" d=\"M3,0A3,3 0 1,1 0,-3A3,3 0 0,1 3,0Z\" style=\"opacity: 1; stroke-width: 0px; fill: rgb(0, 204, 150); fill-opacity: 1;\"/><path class=\"point\" transform=\"translate(450.82,199.65)\" d=\"M3,0A3,3 0 1,1 0,-3A3,3 0 0,1 3,0Z\" style=\"opacity: 1; stroke-width: 0px; fill: rgb(0, 204, 150); fill-opacity: 1;\"/><path class=\"point\" transform=\"translate(450.82,195.48)\" d=\"M3,0A3,3 0 1,1 0,-3A3,3 0 0,1 3,0Z\" style=\"opacity: 1; stroke-width: 0px; fill: rgb(0, 204, 150); fill-opacity: 1;\"/><path class=\"point\" transform=\"translate(450.82,195.48)\" d=\"M3,0A3,3 0 1,1 0,-3A3,3 0 0,1 3,0Z\" style=\"opacity: 1; stroke-width: 0px; fill: rgb(0, 204, 150); fill-opacity: 1;\"/><path class=\"point\" transform=\"translate(450.82,195.48)\" d=\"M3,0A3,3 0 1,1 0,-3A3,3 0 0,1 3,0Z\" style=\"opacity: 1; stroke-width: 0px; fill: rgb(0, 204, 150); fill-opacity: 1;\"/></g></g><g class=\"trace boxes\" style=\"opacity: 1;\"><path class=\"box\" d=\"M107.01,53.57H130.26M107.01,61.91H130.26V45.22H107.01ZM118.64,61.91V78.61M118.64,45.22V28.52M112.82,78.61H124.45M112.82,28.52H124.45\" style=\"vector-effect: non-scaling-stroke; stroke-width: 2px; stroke: rgb(171, 99, 250); stroke-opacity: 1; fill: rgb(171, 99, 250); fill-opacity: 0.5;\"/><g class=\"points\"/></g><g class=\"trace boxes\" style=\"opacity: 1;\"><path class=\"box\" d=\"M154.46,61.91H177.72M154.46,82.78H177.72V52.52H154.46ZM166.09,82.78V103.65M166.09,52.52V36.87M160.28,103.65H171.9M160.28,36.87H171.9\" style=\"vector-effect: non-scaling-stroke; stroke-width: 2px; stroke: rgb(255, 161, 90); stroke-opacity: 1; fill: rgb(255, 161, 90); fill-opacity: 0.5;\"/><g class=\"points\"/></g><g class=\"trace boxes\" style=\"opacity: 1;\"><path class=\"box\" d=\"M59.56,52.57H82.81M59.56,53.57H82.81V45.22H59.56ZM71.18,53.57V53.57M71.18,45.22V45.22M65.37,53.57H76.99M65.37,45.22H76.99\" style=\"vector-effect: non-scaling-stroke; stroke-width: 2px; stroke: rgb(25, 211, 243); stroke-opacity: 1; fill: rgb(25, 211, 243); fill-opacity: 0.5;\"/><g class=\"points\"><path class=\"point\" transform=\"translate(71.18,28.52)\" d=\"M3,0A3,3 0 1,1 0,-3A3,3 0 0,1 3,0Z\" style=\"opacity: 1; stroke-width: 0px; fill: rgb(25, 211, 243); fill-opacity: 1;\"/></g></g><g class=\"trace boxes\" style=\"opacity: 1;\"><path class=\"box\" d=\"M201.92,65.09H225.17M201.92,66.09H225.17V55.65H201.92ZM213.55,66.09V66.09M213.55,55.65V49.39M207.73,66.09H219.36M207.73,49.39H219.36\" style=\"vector-effect: non-scaling-stroke; stroke-width: 2px; stroke: rgb(255, 102, 146); stroke-opacity: 1; fill: rgb(255, 102, 146); fill-opacity: 0.5;\"/><g class=\"points\"><path class=\"point\" transform=\"translate(213.55,107.83)\" d=\"M3,0A3,3 0 1,1 0,-3A3,3 0 0,1 3,0Z\" style=\"opacity: 1; stroke-width: 0px; fill: rgb(255, 102, 146); fill-opacity: 1;\"/><path class=\"point\" transform=\"translate(213.55,91.13)\" d=\"M3,0A3,3 0 1,1 0,-3A3,3 0 0,1 3,0Z\" style=\"opacity: 1; stroke-width: 0px; fill: rgb(255, 102, 146); fill-opacity: 1;\"/><path class=\"point\" transform=\"translate(213.55,86.96)\" d=\"M3,0A3,3 0 1,1 0,-3A3,3 0 0,1 3,0Z\" style=\"opacity: 1; stroke-width: 0px; fill: rgb(255, 102, 146); fill-opacity: 1;\"/><path class=\"point\" transform=\"translate(213.55,82.78)\" d=\"M3,0A3,3 0 1,1 0,-3A3,3 0 0,1 3,0Z\" style=\"opacity: 1; stroke-width: 0px; fill: rgb(255, 102, 146); fill-opacity: 1;\"/><path class=\"point\" transform=\"translate(213.55,36.87)\" d=\"M3,0A3,3 0 1,1 0,-3A3,3 0 0,1 3,0Z\" style=\"opacity: 1; stroke-width: 0px; fill: rgb(255, 102, 146); fill-opacity: 1;\"/></g></g><g class=\"trace boxes\" style=\"opacity: 1;\"><path class=\"box\" d=\"M249.37,66.09H272.63M249.37,85.91H272.63V50.43H249.37ZM261,85.91V116.17M261,50.43V41.04M255.19,116.17H266.81M255.19,41.04H266.81\" style=\"vector-effect: non-scaling-stroke; stroke-width: 2px; stroke: rgb(182, 232, 128); stroke-opacity: 1; fill: rgb(182, 232, 128); fill-opacity: 0.5;\"/><g class=\"points\"/></g><g class=\"trace boxes\" style=\"opacity: 1;\"><path class=\"box\" d=\"M296.83,91.13H320.08M296.83,116.17H320.08V78.61H296.83ZM308.45,116.17V157.91M308.45,78.61V28.52M302.64,157.91H314.27M302.64,28.52H314.27\" style=\"vector-effect: non-scaling-stroke; stroke-width: 2px; stroke: rgb(255, 151, 255); stroke-opacity: 1; fill: rgb(255, 151, 255); fill-opacity: 0.5;\"/><g class=\"points\"/></g><g class=\"trace boxes\" style=\"opacity: 1;\"><path class=\"box\" d=\"M486.65,128.7H509.9M486.65,145.39H509.9V106.78H486.65ZM498.27,145.39V166.26M498.27,106.78V95.3M492.46,166.26H504.09M492.46,95.3H504.09\" style=\"vector-effect: non-scaling-stroke; stroke-width: 2px; stroke: rgb(254, 203, 82); stroke-opacity: 1; fill: rgb(254, 203, 82); fill-opacity: 0.5;\"/><g class=\"points\"><path class=\"point\" transform=\"translate(498.27,245.57)\" d=\"M3,0A3,3 0 1,1 0,-3A3,3 0 0,1 3,0Z\" style=\"opacity: 1; stroke-width: 0px; fill: rgb(254, 203, 82); fill-opacity: 1;\"/><path class=\"point\" transform=\"translate(498.27,241.39)\" d=\"M3,0A3,3 0 1,1 0,-3A3,3 0 0,1 3,0Z\" style=\"opacity: 1; stroke-width: 0px; fill: rgb(254, 203, 82); fill-opacity: 1;\"/><path class=\"point\" transform=\"translate(498.27,45.22)\" d=\"M3,0A3,3 0 1,1 0,-3A3,3 0 0,1 3,0Z\" style=\"opacity: 1; stroke-width: 0px; fill: rgb(254, 203, 82); fill-opacity: 1;\"/></g></g><g class=\"trace boxes\" style=\"opacity: 1;\"><path class=\"box\" d=\"M12.1,44.22H35.35M12.1,45.22H35.35V42.09H12.1ZM23.73,45.22V45.22M23.73,42.09V41.04M17.91,45.22H29.54M17.91,41.04H29.54\" style=\"vector-effect: non-scaling-stroke; stroke-width: 2px; stroke: rgb(99, 110, 250); stroke-opacity: 1; fill: rgb(99, 110, 250); fill-opacity: 0.5;\"/><g class=\"points\"/></g></g></g><g class=\"overplot\"/><path class=\"xlines-above crisp\" d=\"M0,0\" style=\"fill: none;\"/><path class=\"ylines-above crisp\" d=\"M0,0\" style=\"fill: none;\"/><g class=\"overlines-above\"/><g class=\"xaxislayer-above\"><g class=\"xtick\"><text text-anchor=\"middle\" x=\"0\" y=\"433\" transform=\"translate(103.73,0)\" style=\"font-family: 'Open Sans', verdana, arial, sans-serif; font-size: 12px; fill: rgb(42, 63, 95); fill-opacity: 1; white-space: pre; opacity: 1;\">1920</text></g><g class=\"xtick\"><text text-anchor=\"middle\" x=\"0\" y=\"433\" style=\"font-family: 'Open Sans', verdana, arial, sans-serif; font-size: 12px; fill: rgb(42, 63, 95); fill-opacity: 1; white-space: pre; opacity: 1;\" transform=\"translate(198.64,0)\">1940</text></g><g class=\"xtick\"><text text-anchor=\"middle\" x=\"0\" y=\"433\" style=\"font-family: 'Open Sans', verdana, arial, sans-serif; font-size: 12px; fill: rgb(42, 63, 95); fill-opacity: 1; white-space: pre; opacity: 1;\" transform=\"translate(293.55,0)\">1960</text></g><g class=\"xtick\"><text text-anchor=\"middle\" x=\"0\" y=\"433\" style=\"font-family: 'Open Sans', verdana, arial, sans-serif; font-size: 12px; fill: rgb(42, 63, 95); fill-opacity: 1; white-space: pre; opacity: 1;\" transform=\"translate(388.45,0)\">1980</text></g><g class=\"xtick\"><text text-anchor=\"middle\" x=\"0\" y=\"433\" style=\"font-family: 'Open Sans', verdana, arial, sans-serif; font-size: 12px; fill: rgb(42, 63, 95); fill-opacity: 1; white-space: pre; opacity: 1;\" transform=\"translate(483.36,0)\">2000</text></g><g class=\"xtick\"><text text-anchor=\"middle\" x=\"0\" y=\"433\" style=\"font-family: 'Open Sans', verdana, arial, sans-serif; font-size: 12px; fill: rgb(42, 63, 95); fill-opacity: 1; white-space: pre; opacity: 1;\" transform=\"translate(578.27,0)\">2020</text></g></g><g class=\"yaxislayer-above\"><g class=\"ytick\"><text text-anchor=\"end\" x=\"79\" y=\"4.199999999999999\" transform=\"translate(0,399.83)\" style=\"font-family: 'Open Sans', verdana, arial, sans-serif; font-size: 12px; fill: rgb(42, 63, 95); fill-opacity: 1; white-space: pre; opacity: 1;\">2</text></g><g class=\"ytick\"><text text-anchor=\"end\" x=\"79\" y=\"4.199999999999999\" style=\"font-family: 'Open Sans', verdana, arial, sans-serif; font-size: 12px; fill: rgb(42, 63, 95); fill-opacity: 1; white-space: pre; opacity: 1;\" transform=\"translate(0,358.09)\">3</text></g><g class=\"ytick\"><text text-anchor=\"end\" x=\"79\" y=\"4.199999999999999\" style=\"font-family: 'Open Sans', verdana, arial, sans-serif; font-size: 12px; fill: rgb(42, 63, 95); fill-opacity: 1; white-space: pre; opacity: 1;\" transform=\"translate(0,316.35)\">4</text></g><g class=\"ytick\"><text text-anchor=\"end\" x=\"79\" y=\"4.199999999999999\" style=\"font-family: 'Open Sans', verdana, arial, sans-serif; font-size: 12px; fill: rgb(42, 63, 95); fill-opacity: 1; white-space: pre; opacity: 1;\" transform=\"translate(0,274.61)\">5</text></g><g class=\"ytick\"><text text-anchor=\"end\" x=\"79\" y=\"4.199999999999999\" style=\"font-family: 'Open Sans', verdana, arial, sans-serif; font-size: 12px; fill: rgb(42, 63, 95); fill-opacity: 1; white-space: pre; opacity: 1;\" transform=\"translate(0,232.87)\">6</text></g><g class=\"ytick\"><text text-anchor=\"end\" x=\"79\" y=\"4.199999999999999\" style=\"font-family: 'Open Sans', verdana, arial, sans-serif; font-size: 12px; fill: rgb(42, 63, 95); fill-opacity: 1; white-space: pre; opacity: 1;\" transform=\"translate(0,191.13)\">7</text></g><g class=\"ytick\"><text text-anchor=\"end\" x=\"79\" y=\"4.199999999999999\" style=\"font-family: 'Open Sans', verdana, arial, sans-serif; font-size: 12px; fill: rgb(42, 63, 95); fill-opacity: 1; white-space: pre; opacity: 1;\" transform=\"translate(0,149.39)\">8</text></g><g class=\"ytick\"><text text-anchor=\"end\" x=\"79\" y=\"4.199999999999999\" style=\"font-family: 'Open Sans', verdana, arial, sans-serif; font-size: 12px; fill: rgb(42, 63, 95); fill-opacity: 1; white-space: pre; opacity: 1;\" transform=\"translate(0,107.65)\">9</text></g></g><g class=\"overaxes-above\"/></g></g><g class=\"polarlayer\"/><g class=\"smithlayer\"/><g class=\"ternarylayer\"/><g class=\"geolayer\"/><g class=\"funnelarealayer\"/><g class=\"pielayer\"/><g class=\"iciclelayer\"/><g class=\"treemaplayer\"/><g class=\"sunburstlayer\"/><g class=\"glimages\"/><defs id=\"topdefs-74b697\"><g class=\"clips\"/><clipPath id=\"legend74b697\"><rect width=\"76\" height=\"238\" x=\"0\" y=\"0\"/></clipPath></defs><g class=\"layer-above\"><g class=\"imagelayer\"/><g class=\"shapelayer\"/></g><g class=\"infolayer\"><g class=\"legend\" pointer-events=\"all\" transform=\"translate(612.44,100)\"><rect class=\"bg\" shape-rendering=\"crispEdges\" style=\"stroke: rgb(68, 68, 68); stroke-opacity: 1; fill: rgb(255, 255, 255); fill-opacity: 1; stroke-width: 0px;\" width=\"76\" height=\"238\" x=\"0\" y=\"0\"/><g class=\"scrollbox\" transform=\"\" clip-path=\"url(#legend74b697)\"><text class=\"legendtitletext\" text-anchor=\"start\" x=\"2\" y=\"18.2\" style=\"font-family: 'Open Sans', verdana, arial, sans-serif; font-size: 14px; fill: rgb(42, 63, 95); fill-opacity: 1; white-space: pre;\">decade</text><g class=\"groups\" transform=\"\"><g class=\"traces\" transform=\"translate(0,32.7)\" style=\"opacity: 1;\"><text class=\"legendtext\" text-anchor=\"start\" x=\"40\" y=\"4.680000000000001\" style=\"font-family: 'Open Sans', verdana, arial, sans-serif; font-size: 12px; fill: rgb(42, 63, 95); fill-opacity: 1; white-space: pre;\">1990</text><g class=\"layers\" style=\"opacity: 1;\"><g class=\"legendfill\"/><g class=\"legendlines\"/><g class=\"legendsymbols\"><g class=\"legendpoints\"><path class=\"legendbox\" d=\"M6,6H-6V-6H6Z\" transform=\"translate(20,0)\" style=\"stroke-width: 2px; fill: rgb(99, 110, 250); fill-opacity: 0.5; stroke: rgb(99, 110, 250); stroke-opacity: 1;\"/></g></g></g><rect class=\"legendtoggle\" x=\"0\" y=\"-9.5\" width=\"70.515625\" height=\"19\" style=\"fill: rgb(0, 0, 0); fill-opacity: 0;\"/></g></g><g class=\"groups\" transform=\"\"><g class=\"traces\" transform=\"translate(0,51.7)\" style=\"opacity: 1;\"><text class=\"legendtext\" text-anchor=\"start\" x=\"40\" y=\"4.680000000000001\" style=\"font-family: 'Open Sans', verdana, arial, sans-serif; font-size: 12px; fill: rgb(42, 63, 95); fill-opacity: 1; white-space: pre;\">2000</text><g class=\"layers\" style=\"opacity: 1;\"><g class=\"legendfill\"/><g class=\"legendlines\"/><g class=\"legendsymbols\"><g class=\"legendpoints\"><path class=\"legendbox\" d=\"M6,6H-6V-6H6Z\" transform=\"translate(20,0)\" style=\"stroke-width: 2px; fill: rgb(239, 85, 59); fill-opacity: 0.5; stroke: rgb(239, 85, 59); stroke-opacity: 1;\"/></g></g></g><rect class=\"legendtoggle\" x=\"0\" y=\"-9.5\" width=\"70.515625\" height=\"19\" style=\"fill: rgb(0, 0, 0); fill-opacity: 0;\"/></g></g><g class=\"groups\" transform=\"\"><g class=\"traces\" transform=\"translate(0,70.7)\" style=\"opacity: 1;\"><text class=\"legendtext\" text-anchor=\"start\" x=\"40\" y=\"4.680000000000001\" style=\"font-family: 'Open Sans', verdana, arial, sans-serif; font-size: 12px; fill: rgb(42, 63, 95); fill-opacity: 1; white-space: pre;\">2010</text><g class=\"layers\" style=\"opacity: 1;\"><g class=\"legendfill\"/><g class=\"legendlines\"/><g class=\"legendsymbols\"><g class=\"legendpoints\"><path class=\"legendbox\" d=\"M6,6H-6V-6H6Z\" transform=\"translate(20,0)\" style=\"stroke-width: 2px; fill: rgb(0, 204, 150); fill-opacity: 0.5; stroke: rgb(0, 204, 150); stroke-opacity: 1;\"/></g></g></g><rect class=\"legendtoggle\" x=\"0\" y=\"-9.5\" width=\"70.515625\" height=\"19\" style=\"fill: rgb(0, 0, 0); fill-opacity: 0;\"/></g></g><g class=\"groups\" transform=\"\"><g class=\"traces\" transform=\"translate(0,89.7)\" style=\"opacity: 1;\"><text class=\"legendtext\" text-anchor=\"start\" x=\"40\" y=\"4.680000000000001\" style=\"font-family: 'Open Sans', verdana, arial, sans-serif; font-size: 12px; fill: rgb(42, 63, 95); fill-opacity: 1; white-space: pre;\">1940</text><g class=\"layers\" style=\"opacity: 1;\"><g class=\"legendfill\"/><g class=\"legendlines\"/><g class=\"legendsymbols\"><g class=\"legendpoints\"><path class=\"legendbox\" d=\"M6,6H-6V-6H6Z\" transform=\"translate(20,0)\" style=\"stroke-width: 2px; fill: rgb(171, 99, 250); fill-opacity: 0.5; stroke: rgb(171, 99, 250); stroke-opacity: 1;\"/></g></g></g><rect class=\"legendtoggle\" x=\"0\" y=\"-9.5\" width=\"70.515625\" height=\"19\" style=\"fill: rgb(0, 0, 0); fill-opacity: 0;\"/></g></g><g class=\"groups\" transform=\"\"><g class=\"traces\" transform=\"translate(0,108.7)\" style=\"opacity: 1;\"><text class=\"legendtext\" text-anchor=\"start\" x=\"40\" y=\"4.680000000000001\" style=\"font-family: 'Open Sans', verdana, arial, sans-serif; font-size: 12px; fill: rgb(42, 63, 95); fill-opacity: 1; white-space: pre;\">1950</text><g class=\"layers\" style=\"opacity: 1;\"><g class=\"legendfill\"/><g class=\"legendlines\"/><g class=\"legendsymbols\"><g class=\"legendpoints\"><path class=\"legendbox\" d=\"M6,6H-6V-6H6Z\" transform=\"translate(20,0)\" style=\"stroke-width: 2px; fill: rgb(255, 161, 90); fill-opacity: 0.5; stroke: rgb(255, 161, 90); stroke-opacity: 1;\"/></g></g></g><rect class=\"legendtoggle\" x=\"0\" y=\"-9.5\" width=\"70.515625\" height=\"19\" style=\"fill: rgb(0, 0, 0); fill-opacity: 0;\"/></g></g><g class=\"groups\" transform=\"\"><g class=\"traces\" transform=\"translate(0,127.7)\" style=\"opacity: 1;\"><text class=\"legendtext\" text-anchor=\"start\" x=\"40\" y=\"4.680000000000001\" style=\"font-family: 'Open Sans', verdana, arial, sans-serif; font-size: 12px; fill: rgb(42, 63, 95); fill-opacity: 1; white-space: pre;\">1930</text><g class=\"layers\" style=\"opacity: 1;\"><g class=\"legendfill\"/><g class=\"legendlines\"/><g class=\"legendsymbols\"><g class=\"legendpoints\"><path class=\"legendbox\" d=\"M6,6H-6V-6H6Z\" transform=\"translate(20,0)\" style=\"stroke-width: 2px; fill: rgb(25, 211, 243); fill-opacity: 0.5; stroke: rgb(25, 211, 243); stroke-opacity: 1;\"/></g></g></g><rect class=\"legendtoggle\" x=\"0\" y=\"-9.5\" width=\"70.515625\" height=\"19\" style=\"fill: rgb(0, 0, 0); fill-opacity: 0;\"/></g></g><g class=\"groups\" transform=\"\"><g class=\"traces\" transform=\"translate(0,146.7)\" style=\"opacity: 1;\"><text class=\"legendtext\" text-anchor=\"start\" x=\"40\" y=\"4.680000000000001\" style=\"font-family: 'Open Sans', verdana, arial, sans-serif; font-size: 12px; fill: rgb(42, 63, 95); fill-opacity: 1; white-space: pre;\">1960</text><g class=\"layers\" style=\"opacity: 1;\"><g class=\"legendfill\"/><g class=\"legendlines\"/><g class=\"legendsymbols\"><g class=\"legendpoints\"><path class=\"legendbox\" d=\"M6,6H-6V-6H6Z\" transform=\"translate(20,0)\" style=\"stroke-width: 2px; fill: rgb(255, 102, 146); fill-opacity: 0.5; stroke: rgb(255, 102, 146); stroke-opacity: 1;\"/></g></g></g><rect class=\"legendtoggle\" x=\"0\" y=\"-9.5\" width=\"70.515625\" height=\"19\" style=\"fill: rgb(0, 0, 0); fill-opacity: 0;\"/></g></g><g class=\"groups\" transform=\"\"><g class=\"traces\" transform=\"translate(0,165.7)\" style=\"opacity: 1;\"><text class=\"legendtext\" text-anchor=\"start\" x=\"40\" y=\"4.680000000000001\" style=\"font-family: 'Open Sans', verdana, arial, sans-serif; font-size: 12px; fill: rgb(42, 63, 95); fill-opacity: 1; white-space: pre;\">1970</text><g class=\"layers\" style=\"opacity: 1;\"><g class=\"legendfill\"/><g class=\"legendlines\"/><g class=\"legendsymbols\"><g class=\"legendpoints\"><path class=\"legendbox\" d=\"M6,6H-6V-6H6Z\" transform=\"translate(20,0)\" style=\"stroke-width: 2px; fill: rgb(182, 232, 128); fill-opacity: 0.5; stroke: rgb(182, 232, 128); stroke-opacity: 1;\"/></g></g></g><rect class=\"legendtoggle\" x=\"0\" y=\"-9.5\" width=\"70.515625\" height=\"19\" style=\"fill: rgb(0, 0, 0); fill-opacity: 0;\"/></g></g><g class=\"groups\" transform=\"\"><g class=\"traces\" transform=\"translate(0,184.7)\" style=\"opacity: 1;\"><text class=\"legendtext\" text-anchor=\"start\" x=\"40\" y=\"4.680000000000001\" style=\"font-family: 'Open Sans', verdana, arial, sans-serif; font-size: 12px; fill: rgb(42, 63, 95); fill-opacity: 1; white-space: pre;\">1980</text><g class=\"layers\" style=\"opacity: 1;\"><g class=\"legendfill\"/><g class=\"legendlines\"/><g class=\"legendsymbols\"><g class=\"legendpoints\"><path class=\"legendbox\" d=\"M6,6H-6V-6H6Z\" transform=\"translate(20,0)\" style=\"stroke-width: 2px; fill: rgb(255, 151, 255); fill-opacity: 0.5; stroke: rgb(255, 151, 255); stroke-opacity: 1;\"/></g></g></g><rect class=\"legendtoggle\" x=\"0\" y=\"-9.5\" width=\"70.515625\" height=\"19\" style=\"fill: rgb(0, 0, 0); fill-opacity: 0;\"/></g></g><g class=\"groups\" transform=\"\"><g class=\"traces\" transform=\"translate(0,203.7)\" style=\"opacity: 1;\"><text class=\"legendtext\" text-anchor=\"start\" x=\"40\" y=\"4.680000000000001\" style=\"font-family: 'Open Sans', verdana, arial, sans-serif; font-size: 12px; fill: rgb(42, 63, 95); fill-opacity: 1; white-space: pre;\">2020</text><g class=\"layers\" style=\"opacity: 1;\"><g class=\"legendfill\"/><g class=\"legendlines\"/><g class=\"legendsymbols\"><g class=\"legendpoints\"><path class=\"legendbox\" d=\"M6,6H-6V-6H6Z\" transform=\"translate(20,0)\" style=\"stroke-width: 2px; fill: rgb(254, 203, 82); fill-opacity: 0.5; stroke: rgb(254, 203, 82); stroke-opacity: 1;\"/></g></g></g><rect class=\"legendtoggle\" x=\"0\" y=\"-9.5\" width=\"70.515625\" height=\"19\" style=\"fill: rgb(0, 0, 0); fill-opacity: 0;\"/></g></g><g class=\"groups\" transform=\"\"><g class=\"traces\" transform=\"translate(0,222.7)\" style=\"opacity: 1;\"><text class=\"legendtext\" text-anchor=\"start\" x=\"40\" y=\"4.680000000000001\" style=\"font-family: 'Open Sans', verdana, arial, sans-serif; font-size: 12px; fill: rgb(42, 63, 95); fill-opacity: 1; white-space: pre;\">1920</text><g class=\"layers\" style=\"opacity: 1;\"><g class=\"legendfill\"/><g class=\"legendlines\"/><g class=\"legendsymbols\"><g class=\"legendpoints\"><path class=\"legendbox\" d=\"M6,6H-6V-6H6Z\" transform=\"translate(20,0)\" style=\"stroke-width: 2px; fill: rgb(99, 110, 250); fill-opacity: 0.5; stroke: rgb(99, 110, 250); stroke-opacity: 1;\"/></g></g></g><rect class=\"legendtoggle\" x=\"0\" y=\"-9.5\" width=\"70.515625\" height=\"19\" style=\"fill: rgb(0, 0, 0); fill-opacity: 0;\"/></g></g></g><rect class=\"scrollbar\" rx=\"20\" ry=\"3\" width=\"0\" height=\"0\" style=\"fill: rgb(128, 139, 164); fill-opacity: 1;\" x=\"0\" y=\"0\"/></g><g class=\"g-gtitle\"><text class=\"gtitle\" x=\"35\" y=\"50\" text-anchor=\"start\" dy=\"0em\" style=\"font-family: 'Open Sans', verdana, arial, sans-serif; font-size: 17px; fill: rgb(42, 63, 95); opacity: 1; font-weight: normal; white-space: pre;\">Average Rating of Romance Movies by Decade</text></g><g class=\"g-xtitle\"><text class=\"xtitle\" x=\"341\" y=\"460.3\" text-anchor=\"middle\" style=\"font-family: 'Open Sans', verdana, arial, sans-serif; font-size: 14px; fill: rgb(42, 63, 95); opacity: 1; font-weight: normal; white-space: pre;\">decade</text></g><g class=\"g-ytitle\"><text class=\"ytitle\" transform=\"rotate(-90,46.559375,260)\" x=\"46.559375\" y=\"260\" text-anchor=\"middle\" style=\"font-family: 'Open Sans', verdana, arial, sans-serif; font-size: 14px; fill: rgb(42, 63, 95); opacity: 1; font-weight: normal; white-space: pre;\">rating</text></g></g></svg>"
      ]
     },
     "metadata": {},
     "output_type": "display_data"
    }
   ],
   "source": [
    "rom_df['decade'] = (rom_df['year'] // 10) * 10\n",
    "fig = px.box(rom_df, x = 'decade', y = 'rating', color = \"decade\", title=\n",
    "      \"Average Rating of Romance Movies by Decade\")\n",
    "\n",
    "fig.show(renderer=\"svg\")"
   ]
  },
  {
   "cell_type": "markdown",
   "id": "46d90a68",
   "metadata": {},
   "source": [
    "### Diving deeper into my favorite Sci-Fi Drama: Gattaca"
   ]
  },
  {
   "cell_type": "code",
   "execution_count": 308,
   "id": "08c58205",
   "metadata": {},
   "outputs": [
    {
     "name": "stdout",
     "output_type": "stream",
     "text": [
      " * sqlite:///imdbmini.db\n",
      "Done.\n"
     ]
    },
    {
     "data": {
      "text/html": [
       "<table>\n",
       "    <thead>\n",
       "        <tr>\n",
       "            <th>titleType</th>\n",
       "            <th>title</th>\n",
       "            <th>year</th>\n",
       "            <th>runtimeMinutes</th>\n",
       "            <th>averageRating</th>\n",
       "            <th>numVotes</th>\n",
       "            <th>genres</th>\n",
       "        </tr>\n",
       "    </thead>\n",
       "    <tbody>\n",
       "        <tr>\n",
       "            <td>movie</td>\n",
       "            <td>Gattaca</td>\n",
       "            <td>1997</td>\n",
       "            <td>106</td>\n",
       "            <td>7.8</td>\n",
       "            <td>289846</td>\n",
       "            <td>Drama,Sci-Fi,Thriller</td>\n",
       "        </tr>\n",
       "    </tbody>\n",
       "</table>"
      ],
      "text/plain": [
       "[('movie', 'Gattaca', '1997', '106', '7.8', '289846', 'Drama,Sci-Fi,Thriller')]"
      ]
     },
     "execution_count": 308,
     "metadata": {},
     "output_type": "execute_result"
    }
   ],
   "source": [
    "%%sql\n",
    "SELECT titleType,\n",
    "    primaryTitle AS title, \n",
    "    startYear AS year,\n",
    "    runtimeMinutes,\n",
    "    averageRating, \n",
    "    numVotes,\n",
    "    genres\n",
    "FROM Rating\n",
    "JOIN Title\n",
    "ON Rating.tconst = Title.tconst\n",
    "WHERE primaryTitle LIKE \"Gattaca\";"
   ]
  },
  {
   "cell_type": "code",
   "execution_count": 309,
   "id": "b28c7d69",
   "metadata": {},
   "outputs": [
    {
     "name": "stdout",
     "output_type": "stream",
     "text": [
      " * sqlite:///imdbmini.db\n",
      "Done.\n"
     ]
    },
    {
     "data": {
      "text/html": [
       "<table>\n",
       "    <thead>\n",
       "        <tr>\n",
       "            <th>titleType</th>\n",
       "            <th>title</th>\n",
       "            <th>year</th>\n",
       "            <th>genres</th>\n",
       "            <th>category</th>\n",
       "            <th>characters</th>\n",
       "            <th>primaryName</th>\n",
       "        </tr>\n",
       "    </thead>\n",
       "    <tbody>\n",
       "        <tr>\n",
       "            <td>movie</td>\n",
       "            <td>Gattaca</td>\n",
       "            <td>1997</td>\n",
       "            <td>Drama,Sci-Fi,Thriller</td>\n",
       "            <td>actor</td>\n",
       "            <td>[&quot;Vincent&quot;,&quot;Jerome&quot;]</td>\n",
       "            <td>Ethan Hawke</td>\n",
       "        </tr>\n",
       "        <tr>\n",
       "            <td>movie</td>\n",
       "            <td>Gattaca</td>\n",
       "            <td>1997</td>\n",
       "            <td>Drama,Sci-Fi,Thriller</td>\n",
       "            <td>actor</td>\n",
       "            <td>[&quot;Jerome&quot;,&quot;Eugene&quot;]</td>\n",
       "            <td>Jude Law</td>\n",
       "        </tr>\n",
       "        <tr>\n",
       "            <td>movie</td>\n",
       "            <td>Gattaca</td>\n",
       "            <td>1997</td>\n",
       "            <td>Drama,Sci-Fi,Thriller</td>\n",
       "            <td>actor</td>\n",
       "            <td>[&quot;Director Josef&quot;]</td>\n",
       "            <td>Gore Vidal</td>\n",
       "        </tr>\n",
       "    </tbody>\n",
       "</table>"
      ],
      "text/plain": [
       "[('movie', 'Gattaca', '1997', 'Drama,Sci-Fi,Thriller', 'actor', '[\"Vincent\",\"Jerome\"]', 'Ethan Hawke'),\n",
       " ('movie', 'Gattaca', '1997', 'Drama,Sci-Fi,Thriller', 'actor', '[\"Jerome\",\"Eugene\"]', 'Jude Law'),\n",
       " ('movie', 'Gattaca', '1997', 'Drama,Sci-Fi,Thriller', 'actor', '[\"Director Josef\"]', 'Gore Vidal')]"
      ]
     },
     "execution_count": 309,
     "metadata": {},
     "output_type": "execute_result"
    }
   ],
   "source": [
    "%%sql\n",
    "\n",
    "SELECT titleType, \n",
    "    primaryTitle AS title, \n",
    "    startYear AS year, \n",
    "    genres,\n",
    "    category, \n",
    "    characters,\n",
    "    primaryName\n",
    "FROM Title\n",
    "JOIN Role ON Role.tconst = Title.tconst\n",
    "JOIN Name ON Name.nconst = role.nconst\n",
    "WHERE primaryTitle LIKE \"%Gattaca%\" AND category LIKE \"%actor%\";"
   ]
  },
  {
   "cell_type": "markdown",
   "id": "4dd641f4",
   "metadata": {},
   "source": [
    "### How great are Uma Thurman's movies?"
   ]
  },
  {
   "cell_type": "code",
   "execution_count": 322,
   "id": "a41b0766",
   "metadata": {},
   "outputs": [
    {
     "name": "stdout",
     "output_type": "stream",
     "text": [
      " * sqlite:///imdbmini.db\n",
      "Done.\n",
      "Returning data to local variable uma_sql\n"
     ]
    }
   ],
   "source": [
    "%%sql  uma_sql <<\n",
    "SELECT primaryName AS name,\n",
    "    characters,\n",
    "    startYear AS year,\n",
    "    primaryTitle AS title,\n",
    "    averageRating,\n",
    "    numVotes,\n",
    "    genres\n",
    "FROM Name\n",
    "JOIN Role ON Name.nconst = Role.nconst\n",
    "JOIN Title ON Title.tconst = Role.tconst\n",
    "JOIN Rating ON Rating.tconst = Title.tconst\n",
    "WHERE primaryName LIKE \"%Uma Thurman%\"\n",
    "ORDER BY averageRating DESC;"
   ]
  },
  {
   "cell_type": "code",
   "execution_count": 323,
   "id": "0c891184",
   "metadata": {
    "scrolled": true
   },
   "outputs": [
    {
     "data": {
      "text/html": [
       "<div>\n",
       "<style scoped>\n",
       "    .dataframe tbody tr th:only-of-type {\n",
       "        vertical-align: middle;\n",
       "    }\n",
       "\n",
       "    .dataframe tbody tr th {\n",
       "        vertical-align: top;\n",
       "    }\n",
       "\n",
       "    .dataframe thead th {\n",
       "        text-align: right;\n",
       "    }\n",
       "</style>\n",
       "<table border=\"1\" class=\"dataframe\">\n",
       "  <thead>\n",
       "    <tr style=\"text-align: right;\">\n",
       "      <th></th>\n",
       "      <th>name</th>\n",
       "      <th>characters</th>\n",
       "      <th>year</th>\n",
       "      <th>title</th>\n",
       "      <th>averageRating</th>\n",
       "      <th>numVotes</th>\n",
       "      <th>genres</th>\n",
       "    </tr>\n",
       "  </thead>\n",
       "  <tbody>\n",
       "    <tr>\n",
       "      <th>0</th>\n",
       "      <td>Uma Thurman</td>\n",
       "      <td>[\"Mia Wallace\"]</td>\n",
       "      <td>1994</td>\n",
       "      <td>Pulp Fiction</td>\n",
       "      <td>8.9</td>\n",
       "      <td>1907561</td>\n",
       "      <td>Crime,Drama</td>\n",
       "    </tr>\n",
       "    <tr>\n",
       "      <th>1</th>\n",
       "      <td>Uma Thurman</td>\n",
       "      <td>[\"The Bride\"]</td>\n",
       "      <td>2003</td>\n",
       "      <td>Kill Bill: Vol. 1</td>\n",
       "      <td>8.1</td>\n",
       "      <td>1045398</td>\n",
       "      <td>Action,Crime,Drama</td>\n",
       "    </tr>\n",
       "    <tr>\n",
       "      <th>2</th>\n",
       "      <td>Uma Thurman</td>\n",
       "      <td>[\"Beatrix Kiddo aka The Bride aka Black Mamba ...</td>\n",
       "      <td>2004</td>\n",
       "      <td>Kill Bill: Vol. 2</td>\n",
       "      <td>8.0</td>\n",
       "      <td>713256</td>\n",
       "      <td>Action,Crime,Thriller</td>\n",
       "    </tr>\n",
       "    <tr>\n",
       "      <th>3</th>\n",
       "      <td>Uma Thurman</td>\n",
       "      <td>[\"Irene\"]</td>\n",
       "      <td>1997</td>\n",
       "      <td>Gattaca</td>\n",
       "      <td>7.8</td>\n",
       "      <td>289846</td>\n",
       "      <td>Drama,Sci-Fi,Thriller</td>\n",
       "    </tr>\n",
       "    <tr>\n",
       "      <th>4</th>\n",
       "      <td>Uma Thurman</td>\n",
       "      <td>[\"Fantine\"]</td>\n",
       "      <td>1998</td>\n",
       "      <td>Les Misérables</td>\n",
       "      <td>7.4</td>\n",
       "      <td>40240</td>\n",
       "      <td>Crime,Drama,History</td>\n",
       "    </tr>\n",
       "  </tbody>\n",
       "</table>\n",
       "</div>"
      ],
      "text/plain": [
       "          name                                         characters  year  \\\n",
       "0  Uma Thurman                                    [\"Mia Wallace\"]  1994   \n",
       "1  Uma Thurman                                      [\"The Bride\"]  2003   \n",
       "2  Uma Thurman  [\"Beatrix Kiddo aka The Bride aka Black Mamba ...  2004   \n",
       "3  Uma Thurman                                          [\"Irene\"]  1997   \n",
       "4  Uma Thurman                                        [\"Fantine\"]  1998   \n",
       "\n",
       "               title averageRating numVotes                 genres  \n",
       "0       Pulp Fiction           8.9  1907561            Crime,Drama  \n",
       "1  Kill Bill: Vol. 1           8.1  1045398     Action,Crime,Drama  \n",
       "2  Kill Bill: Vol. 2           8.0   713256  Action,Crime,Thriller  \n",
       "3            Gattaca           7.8   289846  Drama,Sci-Fi,Thriller  \n",
       "4     Les Misérables           7.4    40240    Crime,Drama,History  "
      ]
     },
     "execution_count": 323,
     "metadata": {},
     "output_type": "execute_result"
    }
   ],
   "source": [
    "uma_df = uma_sql.DataFrame()\n",
    "uma_df.head()"
   ]
  },
  {
   "cell_type": "markdown",
   "id": "04effc5d",
   "metadata": {},
   "source": [
    " ## WIP: PCA & Clustering"
   ]
  },
  {
   "cell_type": "markdown",
   "id": "2d17a45c",
   "metadata": {},
   "source": [
    "### What movies get the highest ratings - as predicted my genre?"
   ]
  },
  {
   "cell_type": "code",
   "execution_count": 326,
   "id": "484f833f",
   "metadata": {},
   "outputs": [
    {
     "name": "stdout",
     "output_type": "stream",
     "text": [
      " * sqlite:///imdbmini.db\n",
      "Done.\n",
      "Returning data to local variable pca_pre_sql\n"
     ]
    }
   ],
   "source": [
    "%%sql pca_pre_sql <<\n",
    "SELECT *\n",
    "FROM Title \n",
    "JOIN Rating ON Title.tconst = Rating.tconst;"
   ]
  },
  {
   "cell_type": "code",
   "execution_count": 328,
   "id": "80ca9ccb",
   "metadata": {},
   "outputs": [
    {
     "data": {
      "text/html": [
       "<div>\n",
       "<style scoped>\n",
       "    .dataframe tbody tr th:only-of-type {\n",
       "        vertical-align: middle;\n",
       "    }\n",
       "\n",
       "    .dataframe tbody tr th {\n",
       "        vertical-align: top;\n",
       "    }\n",
       "\n",
       "    .dataframe thead th {\n",
       "        text-align: right;\n",
       "    }\n",
       "</style>\n",
       "<table border=\"1\" class=\"dataframe\">\n",
       "  <thead>\n",
       "    <tr style=\"text-align: right;\">\n",
       "      <th></th>\n",
       "      <th>tconst</th>\n",
       "      <th>titleType</th>\n",
       "      <th>primaryTitle</th>\n",
       "      <th>originalTitle</th>\n",
       "      <th>isAdult</th>\n",
       "      <th>startYear</th>\n",
       "      <th>endYear</th>\n",
       "      <th>runtimeMinutes</th>\n",
       "      <th>genres</th>\n",
       "      <th>tconst</th>\n",
       "      <th>averageRating</th>\n",
       "      <th>numVotes</th>\n",
       "    </tr>\n",
       "  </thead>\n",
       "  <tbody>\n",
       "    <tr>\n",
       "      <th>0</th>\n",
       "      <td>417</td>\n",
       "      <td>short</td>\n",
       "      <td>A Trip to the Moon</td>\n",
       "      <td>Le voyage dans la lune</td>\n",
       "      <td>0</td>\n",
       "      <td>1902</td>\n",
       "      <td>None</td>\n",
       "      <td>13</td>\n",
       "      <td>Action,Adventure,Comedy</td>\n",
       "      <td>417</td>\n",
       "      <td>8.2</td>\n",
       "      <td>46382</td>\n",
       "    </tr>\n",
       "    <tr>\n",
       "      <th>1</th>\n",
       "      <td>4972</td>\n",
       "      <td>movie</td>\n",
       "      <td>The Birth of a Nation</td>\n",
       "      <td>The Birth of a Nation</td>\n",
       "      <td>0</td>\n",
       "      <td>1915</td>\n",
       "      <td>None</td>\n",
       "      <td>195</td>\n",
       "      <td>Drama,History,War</td>\n",
       "      <td>4972</td>\n",
       "      <td>6.3</td>\n",
       "      <td>23836</td>\n",
       "    </tr>\n",
       "    <tr>\n",
       "      <th>2</th>\n",
       "      <td>10323</td>\n",
       "      <td>movie</td>\n",
       "      <td>The Cabinet of Dr. Caligari</td>\n",
       "      <td>Das Cabinet des Dr. Caligari</td>\n",
       "      <td>0</td>\n",
       "      <td>1920</td>\n",
       "      <td>None</td>\n",
       "      <td>76</td>\n",
       "      <td>Fantasy,Horror,Mystery</td>\n",
       "      <td>10323</td>\n",
       "      <td>8.1</td>\n",
       "      <td>60244</td>\n",
       "    </tr>\n",
       "    <tr>\n",
       "      <th>3</th>\n",
       "      <td>12349</td>\n",
       "      <td>movie</td>\n",
       "      <td>The Kid</td>\n",
       "      <td>The Kid</td>\n",
       "      <td>0</td>\n",
       "      <td>1921</td>\n",
       "      <td>None</td>\n",
       "      <td>68</td>\n",
       "      <td>Comedy,Drama,Family</td>\n",
       "      <td>12349</td>\n",
       "      <td>8.3</td>\n",
       "      <td>120059</td>\n",
       "    </tr>\n",
       "    <tr>\n",
       "      <th>4</th>\n",
       "      <td>13442</td>\n",
       "      <td>movie</td>\n",
       "      <td>Nosferatu</td>\n",
       "      <td>Nosferatu, eine Symphonie des Grauens</td>\n",
       "      <td>0</td>\n",
       "      <td>1922</td>\n",
       "      <td>None</td>\n",
       "      <td>94</td>\n",
       "      <td>Fantasy,Horror</td>\n",
       "      <td>13442</td>\n",
       "      <td>7.9</td>\n",
       "      <td>92218</td>\n",
       "    </tr>\n",
       "  </tbody>\n",
       "</table>\n",
       "</div>"
      ],
      "text/plain": [
       "   tconst titleType                 primaryTitle  \\\n",
       "0     417     short           A Trip to the Moon   \n",
       "1    4972     movie        The Birth of a Nation   \n",
       "2   10323     movie  The Cabinet of Dr. Caligari   \n",
       "3   12349     movie                      The Kid   \n",
       "4   13442     movie                    Nosferatu   \n",
       "\n",
       "                           originalTitle isAdult startYear endYear  \\\n",
       "0                 Le voyage dans la lune       0      1902    None   \n",
       "1                  The Birth of a Nation       0      1915    None   \n",
       "2           Das Cabinet des Dr. Caligari       0      1920    None   \n",
       "3                                The Kid       0      1921    None   \n",
       "4  Nosferatu, eine Symphonie des Grauens       0      1922    None   \n",
       "\n",
       "  runtimeMinutes                   genres  tconst averageRating numVotes  \n",
       "0             13  Action,Adventure,Comedy     417           8.2    46382  \n",
       "1            195        Drama,History,War    4972           6.3    23836  \n",
       "2             76   Fantasy,Horror,Mystery   10323           8.1    60244  \n",
       "3             68      Comedy,Drama,Family   12349           8.3   120059  \n",
       "4             94           Fantasy,Horror   13442           7.9    92218  "
      ]
     },
     "execution_count": 328,
     "metadata": {},
     "output_type": "execute_result"
    }
   ],
   "source": [
    "pca_df = pca_pre_sql.DataFrame()\n",
    "pca_df.head()"
   ]
  },
  {
   "cell_type": "code",
   "execution_count": null,
   "id": "7769f533",
   "metadata": {},
   "outputs": [],
   "source": []
  }
 ],
 "metadata": {
  "kernelspec": {
   "display_name": "Python 3 (ipykernel)",
   "language": "python",
   "name": "python3"
  },
  "language_info": {
   "codemirror_mode": {
    "name": "ipython",
    "version": 3
   },
   "file_extension": ".py",
   "mimetype": "text/x-python",
   "name": "python",
   "nbconvert_exporter": "python",
   "pygments_lexer": "ipython3",
   "version": "3.11.5"
  }
 },
 "nbformat": 4,
 "nbformat_minor": 5
}
