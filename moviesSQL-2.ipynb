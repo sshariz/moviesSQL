{
 "cells": [
  {
   "cell_type": "code",
   "execution_count": 1,
   "id": "e2bf6050",
   "metadata": {},
   "outputs": [],
   "source": [
    "# imports\n",
    "import numpy as np\n",
    "import pandas as pd\n",
    "import matplotlib.pyplot as plt\n",
    "#import plotly.express as px\n",
    "import sqlalchemy\n",
    "import sqlite3\n",
    "import os\n",
    "import seaborn as sns\n",
    "import plotly.express as px\n",
    "\n",
    "import warnings\n",
    "warnings.filterwarnings(\"ignore\", \"is_categorical_dtype\")\n",
    "warnings.filterwarnings(\"ignore\", \"use_inf_as_na\")"
   ]
  },
  {
   "cell_type": "code",
   "execution_count": 2,
   "id": "6b5c8c07",
   "metadata": {},
   "outputs": [],
   "source": [
    "os.getcwd()\n",
    "new_path = '/Users/sarasharifzadeh/anaconda3/APROJECTS/projectfiles'\n",
    "os.chdir(new_path)"
   ]
  },
  {
   "cell_type": "markdown",
   "id": "30f7c4b0",
   "metadata": {},
   "source": [
    "# Applying SQL to Movies"
   ]
  },
  {
   "cell_type": "markdown",
   "id": "f83de0e6",
   "metadata": {},
   "source": [
    "In this notebook I show you how I run and use **SQL** through special engines in **Python** to manage large databases & insightfully answer questions with additional analysis through libraries (Plotly, Seaborn, sk-learn). "
   ]
  },
  {
   "cell_type": "markdown",
   "id": "613455b2",
   "metadata": {},
   "source": [
    "#### Why `SQL` with a  `Python` engine?\n",
    "\n",
    "I will be running my queries using `Python` engines **SQLAlchemy** & **SQLite** in absence of a DMBS. \n",
    "\n",
    "I use a combination of the two engines in a **sandboxed workflow** because debugging is easier with `%sql` magic. After I've found the proper query, I like to copy it over to the `pd.read_sql` command for visualization, modeling, and export with Pandas, sklearn, and other Python libraries. This is a worklow I learned at UC Berkeley's Advanced Data Science Principles course, **Data 100**."
   ]
  },
  {
   "cell_type": "markdown",
   "id": "7175449b",
   "metadata": {},
   "source": [
    "### The Data: IMDb Movie Database\n",
    "\n",
    "To apply SQL, I will be using a subset of [IMDb's Movie Database](https://www.imdb.com). The year range is 1902-2021.\n",
    "\n"
   ]
  },
  {
   "cell_type": "markdown",
   "id": "e9d3f441",
   "metadata": {},
   "source": [
    "#### SQLite connection"
   ]
  },
  {
   "cell_type": "code",
   "execution_count": 3,
   "id": "d1a7b460",
   "metadata": {},
   "outputs": [],
   "source": [
    "conn = sqlite3.connect('imdbmini.db')"
   ]
  },
  {
   "cell_type": "code",
   "execution_count": 4,
   "id": "59c5bc75",
   "metadata": {
    "scrolled": true
   },
   "outputs": [],
   "source": [
    "#load\n",
    "%load_ext sql"
   ]
  },
  {
   "cell_type": "code",
   "execution_count": 5,
   "id": "9a3eb18e",
   "metadata": {},
   "outputs": [],
   "source": [
    "%sql sqlite:///imdbmini.db"
   ]
  },
  {
   "cell_type": "markdown",
   "id": "c9356048",
   "metadata": {},
   "source": [
    "## SQLAlchemy connection"
   ]
  },
  {
   "cell_type": "code",
   "execution_count": 6,
   "id": "b5cb7310",
   "metadata": {},
   "outputs": [],
   "source": [
    "sqlite_conn = 'sqlite:///imdbmini.db'"
   ]
  },
  {
   "cell_type": "code",
   "execution_count": 7,
   "id": "1c05a6e5",
   "metadata": {},
   "outputs": [],
   "source": [
    "engine = sqlalchemy.create_engine(sqlite_conn)\n",
    "connection = engine.connect()"
   ]
  },
  {
   "cell_type": "markdown",
   "id": "5d8f476c",
   "metadata": {},
   "source": [
    "## Preview of the Total IMDB Database "
   ]
  },
  {
   "cell_type": "code",
   "execution_count": 8,
   "id": "95de38d9",
   "metadata": {
    "scrolled": true
   },
   "outputs": [
    {
     "name": "stdout",
     "output_type": "stream",
     "text": [
      " * sqlite:///imdbmini.db\n",
      "Done.\n"
     ]
    },
    {
     "data": {
      "text/html": [
       "<table>\n",
       "    <thead>\n",
       "        <tr>\n",
       "            <th>type</th>\n",
       "            <th>name</th>\n",
       "            <th>tbl_name</th>\n",
       "            <th>rootpage</th>\n",
       "            <th>sql</th>\n",
       "        </tr>\n",
       "    </thead>\n",
       "    <tbody>\n",
       "        <tr>\n",
       "            <td>table</td>\n",
       "            <td>Title</td>\n",
       "            <td>Title</td>\n",
       "            <td>2</td>\n",
       "            <td>CREATE TABLE &quot;Title&quot; (<br>&quot;tconst&quot; INTEGER,<br>  &quot;titleType&quot; TEXT,<br>  &quot;primaryTitle&quot; TEXT,<br>  &quot;originalTitle&quot; TEXT,<br>  &quot;isAdult&quot; TEXT,<br>  &quot;startYear&quot; TEXT,<br>  &quot;endYear&quot; TEXT,<br>  &quot;runtimeMinutes&quot; TEXT,<br>  &quot;genres&quot; TEXT<br>)</td>\n",
       "        </tr>\n",
       "        <tr>\n",
       "            <td>table</td>\n",
       "            <td>Name</td>\n",
       "            <td>Name</td>\n",
       "            <td>12</td>\n",
       "            <td>CREATE TABLE &quot;Name&quot; (<br>&quot;nconst&quot; INTEGER,<br>  &quot;primaryName&quot; TEXT,<br>  &quot;birthYear&quot; TEXT,<br>  &quot;deathYear&quot; TEXT,<br>  &quot;primaryProfession&quot; TEXT<br>)</td>\n",
       "        </tr>\n",
       "        <tr>\n",
       "            <td>table</td>\n",
       "            <td>Role</td>\n",
       "            <td>Role</td>\n",
       "            <td>70</td>\n",
       "            <td>CREATE TABLE &quot;Role&quot; (<br>tconst INTEGER,<br>ordering TEXT,<br>nconst INTEGER,<br>category TEXT,<br>job TEXT,<br>characters TEXT<br>)</td>\n",
       "        </tr>\n",
       "        <tr>\n",
       "            <td>table</td>\n",
       "            <td>Rating</td>\n",
       "            <td>Rating</td>\n",
       "            <td>41</td>\n",
       "            <td>CREATE TABLE &quot;Rating&quot; (<br>tconst INTEGER,<br>averageRating TEXT,<br>numVotes TEXT<br>)</td>\n",
       "        </tr>\n",
       "    </tbody>\n",
       "</table>"
      ],
      "text/plain": [
       "[('table', 'Title', 'Title', 2, 'CREATE TABLE \"Title\" (\\n\"tconst\" INTEGER,\\n  \"titleType\" TEXT,\\n  \"primaryTitle\" TEXT,\\n  \"originalTitle\" TEXT,\\n  \"isAdult\" TEXT,\\n  \"startYear\" TEXT,\\n  \"endYear\" TEXT,\\n  \"runtimeMinutes\" TEXT,\\n  \"genres\" TEXT\\n)'),\n",
       " ('table', 'Name', 'Name', 12, 'CREATE TABLE \"Name\" (\\n\"nconst\" INTEGER,\\n  \"primaryName\" TEXT,\\n  \"birthYear\" TEXT,\\n  \"deathYear\" TEXT,\\n  \"primaryProfession\" TEXT\\n)'),\n",
       " ('table', 'Role', 'Role', 70, 'CREATE TABLE \"Role\" (\\ntconst INTEGER,\\nordering TEXT,\\nnconst INTEGER,\\ncategory TEXT,\\njob TEXT,\\ncharacters TEXT\\n)'),\n",
       " ('table', 'Rating', 'Rating', 41, 'CREATE TABLE \"Rating\" (\\ntconst INTEGER,\\naverageRating TEXT,\\nnumVotes TEXT\\n)')]"
      ]
     },
     "execution_count": 8,
     "metadata": {},
     "output_type": "execute_result"
    }
   ],
   "source": [
    "%%sql \n",
    "SELECT * FROM sqlite_master WHERE type='table';"
   ]
  },
  {
   "cell_type": "markdown",
   "id": "8e79c3c2",
   "metadata": {},
   "source": [
    "There are 4 tables in this database: `Name`, `Role`, `Rating`, and `Title`."
   ]
  },
  {
   "cell_type": "markdown",
   "id": "09690570",
   "metadata": {},
   "source": [
    "<details>\n",
    "    <summary>[<b>Click for Table Schema</b>] See descriptions of each table's data.</summary>\n",
    "    \n",
    "**`Name`** – Contains the following information for names of people.\n",
    "    \n",
    "- nconst (text) - alphanumeric unique identifier of the name/person\n",
    "- primaryName (text)– name by which the person is most often credited\n",
    "- birthYear (integer) – in YYYY format\n",
    "- deathYear (integer) – in YYYY format\n",
    "    \n",
    "    \n",
    "**`Role`** – Contains the principal cast/crew for titles.\n",
    "    \n",
    "- tconst (text) - alphanumeric unique identifier of the title\n",
    "- ordering (integer) – a number to uniquely identify rows for a given tconst\n",
    "- nconst (text) - alphanumeric unique identifier of the name/person\n",
    "- category (text) - the category of job that person was in\n",
    "- characters (text) - the name of the character played if applicable, else '\\\\N'\n",
    "    \n",
    "**`Rating`** – Contains the IMDb rating and votes information for titles.\n",
    "    \n",
    "- tconst (text) - alphanumeric unique identifier of the title\n",
    "- averageRating (real) – weighted average of all the individual user ratings\n",
    "- numVotes (integer) - number of votes (i.e., ratings) the title has received\n",
    "    \n",
    "**`Title`** - Contains the following information for titles.\n",
    "    \n",
    "- tconst (text) - alphanumeric unique identifier of the title\n",
    "- titleType (text) -  the type/format of the title\n",
    "- primaryTitle (text) -  the more popular title / the title used by the filmmakers on promotional materials at the point of release\n",
    "- isAdult (text) - 0: non-adult title; 1: adult title\n",
    "- year (YYYY) – represents the release year of a title.\n",
    "- runtimeMinutes (integer)  – primary runtime of the title, in minutes\n",
    "    \n",
    "</details>\n",
    "\n",
    "<br/><br/>\n",
    "\n",
    "From the above descriptions, we can conclude:\n",
    "* `Name.nconst` and `Title.tconst` are **primary keys** of the `Name` and `Title` tables, respectively.\n",
    "* that `Role.nconst` and `Role.tconst` are **foreign keys** that point to `Name.nconst` and `Title.tconst`, respectively."
   ]
  },
  {
   "cell_type": "markdown",
   "id": "75fc1bd6",
   "metadata": {},
   "source": [
    "### Previewing the Title table\n",
    "What kind of information exists regarding movie titles in this database?"
   ]
  },
  {
   "cell_type": "code",
   "execution_count": 9,
   "id": "44b1515a",
   "metadata": {},
   "outputs": [
    {
     "name": "stdout",
     "output_type": "stream",
     "text": [
      " * sqlite:///imdbmini.db\n",
      "Done.\n"
     ]
    },
    {
     "data": {
      "text/html": [
       "<table>\n",
       "    <thead>\n",
       "        <tr>\n",
       "            <th>tconst</th>\n",
       "            <th>titleType</th>\n",
       "            <th>primaryTitle</th>\n",
       "            <th>originalTitle</th>\n",
       "            <th>isAdult</th>\n",
       "            <th>startYear</th>\n",
       "            <th>endYear</th>\n",
       "            <th>runtimeMinutes</th>\n",
       "            <th>genres</th>\n",
       "        </tr>\n",
       "    </thead>\n",
       "    <tbody>\n",
       "        <tr>\n",
       "            <td>417</td>\n",
       "            <td>short</td>\n",
       "            <td>A Trip to the Moon</td>\n",
       "            <td>Le voyage dans la lune</td>\n",
       "            <td>0</td>\n",
       "            <td>1902</td>\n",
       "            <td>None</td>\n",
       "            <td>13</td>\n",
       "            <td>Action,Adventure,Comedy</td>\n",
       "        </tr>\n",
       "        <tr>\n",
       "            <td>4972</td>\n",
       "            <td>movie</td>\n",
       "            <td>The Birth of a Nation</td>\n",
       "            <td>The Birth of a Nation</td>\n",
       "            <td>0</td>\n",
       "            <td>1915</td>\n",
       "            <td>None</td>\n",
       "            <td>195</td>\n",
       "            <td>Drama,History,War</td>\n",
       "        </tr>\n",
       "        <tr>\n",
       "            <td>10323</td>\n",
       "            <td>movie</td>\n",
       "            <td>The Cabinet of Dr. Caligari</td>\n",
       "            <td>Das Cabinet des Dr. Caligari</td>\n",
       "            <td>0</td>\n",
       "            <td>1920</td>\n",
       "            <td>None</td>\n",
       "            <td>76</td>\n",
       "            <td>Fantasy,Horror,Mystery</td>\n",
       "        </tr>\n",
       "        <tr>\n",
       "            <td>12349</td>\n",
       "            <td>movie</td>\n",
       "            <td>The Kid</td>\n",
       "            <td>The Kid</td>\n",
       "            <td>0</td>\n",
       "            <td>1921</td>\n",
       "            <td>None</td>\n",
       "            <td>68</td>\n",
       "            <td>Comedy,Drama,Family</td>\n",
       "        </tr>\n",
       "        <tr>\n",
       "            <td>13442</td>\n",
       "            <td>movie</td>\n",
       "            <td>Nosferatu</td>\n",
       "            <td>Nosferatu, eine Symphonie des Grauens</td>\n",
       "            <td>0</td>\n",
       "            <td>1922</td>\n",
       "            <td>None</td>\n",
       "            <td>94</td>\n",
       "            <td>Fantasy,Horror</td>\n",
       "        </tr>\n",
       "    </tbody>\n",
       "</table>"
      ],
      "text/plain": [
       "[(417, 'short', 'A Trip to the Moon', 'Le voyage dans la lune', '0', '1902', None, '13', 'Action,Adventure,Comedy'),\n",
       " (4972, 'movie', 'The Birth of a Nation', 'The Birth of a Nation', '0', '1915', None, '195', 'Drama,History,War'),\n",
       " (10323, 'movie', 'The Cabinet of Dr. Caligari', 'Das Cabinet des Dr. Caligari', '0', '1920', None, '76', 'Fantasy,Horror,Mystery'),\n",
       " (12349, 'movie', 'The Kid', 'The Kid', '0', '1921', None, '68', 'Comedy,Drama,Family'),\n",
       " (13442, 'movie', 'Nosferatu', 'Nosferatu, eine Symphonie des Grauens', '0', '1922', None, '94', 'Fantasy,Horror')]"
      ]
     },
     "execution_count": 9,
     "metadata": {},
     "output_type": "execute_result"
    }
   ],
   "source": [
    "%%sql\n",
    "SELECT * FROM Title\n",
    "LIMIT 5;"
   ]
  },
  {
   "cell_type": "markdown",
   "id": "abfc590b",
   "metadata": {},
   "source": [
    "### What can we learn from the Titles dataset? "
   ]
  },
  {
   "cell_type": "markdown",
   "id": "7e19ad9f",
   "metadata": {},
   "source": [
    "**How far back does the data go for movies?**"
   ]
  },
  {
   "cell_type": "code",
   "execution_count": 10,
   "id": "1e3126b6",
   "metadata": {
    "scrolled": true
   },
   "outputs": [
    {
     "name": "stdout",
     "output_type": "stream",
     "text": [
      " * sqlite:///imdbmini.db\n",
      "Done.\n"
     ]
    },
    {
     "data": {
      "text/html": [
       "<table>\n",
       "    <thead>\n",
       "        <tr>\n",
       "            <th>primaryTitle</th>\n",
       "            <th>startYear</th>\n",
       "            <th>titleType</th>\n",
       "        </tr>\n",
       "    </thead>\n",
       "    <tbody>\n",
       "        <tr>\n",
       "            <td>The Birth of a Nation</td>\n",
       "            <td>1915</td>\n",
       "            <td>movie</td>\n",
       "        </tr>\n",
       "        <tr>\n",
       "            <td>The Cabinet of Dr. Caligari</td>\n",
       "            <td>1920</td>\n",
       "            <td>movie</td>\n",
       "        </tr>\n",
       "        <tr>\n",
       "            <td>The Kid</td>\n",
       "            <td>1921</td>\n",
       "            <td>movie</td>\n",
       "        </tr>\n",
       "        <tr>\n",
       "            <td>Nosferatu</td>\n",
       "            <td>1922</td>\n",
       "            <td>movie</td>\n",
       "        </tr>\n",
       "        <tr>\n",
       "            <td>Sherlock Jr.</td>\n",
       "            <td>1924</td>\n",
       "            <td>movie</td>\n",
       "        </tr>\n",
       "        <tr>\n",
       "            <td>Battleship Potemkin</td>\n",
       "            <td>1925</td>\n",
       "            <td>movie</td>\n",
       "        </tr>\n",
       "        <tr>\n",
       "            <td>The Gold Rush</td>\n",
       "            <td>1925</td>\n",
       "            <td>movie</td>\n",
       "        </tr>\n",
       "        <tr>\n",
       "            <td>The General</td>\n",
       "            <td>1926</td>\n",
       "            <td>movie</td>\n",
       "        </tr>\n",
       "        <tr>\n",
       "            <td>Metropolis</td>\n",
       "            <td>1927</td>\n",
       "            <td>movie</td>\n",
       "        </tr>\n",
       "        <tr>\n",
       "            <td>Sunrise</td>\n",
       "            <td>1927</td>\n",
       "            <td>movie</td>\n",
       "        </tr>\n",
       "    </tbody>\n",
       "</table>"
      ],
      "text/plain": [
       "[('The Birth of a Nation', '1915', 'movie'),\n",
       " ('The Cabinet of Dr. Caligari', '1920', 'movie'),\n",
       " ('The Kid', '1921', 'movie'),\n",
       " ('Nosferatu', '1922', 'movie'),\n",
       " ('Sherlock Jr.', '1924', 'movie'),\n",
       " ('Battleship Potemkin', '1925', 'movie'),\n",
       " ('The Gold Rush', '1925', 'movie'),\n",
       " ('The General', '1926', 'movie'),\n",
       " ('Metropolis', '1927', 'movie'),\n",
       " ('Sunrise', '1927', 'movie')]"
      ]
     },
     "execution_count": 10,
     "metadata": {},
     "output_type": "execute_result"
    }
   ],
   "source": [
    "%%sql\n",
    "SELECT primaryTitle, startYear, titleType\n",
    "FROM Title\n",
    "WHERE startYear IS NOT NULL AND titleType IS 'movie'\n",
    "ORDER BY startYear\n",
    "LIMIT 10;"
   ]
  },
  {
   "cell_type": "markdown",
   "id": "76a0e7d2",
   "metadata": {},
   "source": [
    "**What are the distribution of movies premiering each year?**"
   ]
  },
  {
   "cell_type": "code",
   "execution_count": 11,
   "id": "ad398ef4",
   "metadata": {},
   "outputs": [
    {
     "data": {
      "text/html": [
       "<div>\n",
       "<style scoped>\n",
       "    .dataframe tbody tr th:only-of-type {\n",
       "        vertical-align: middle;\n",
       "    }\n",
       "\n",
       "    .dataframe tbody tr th {\n",
       "        vertical-align: top;\n",
       "    }\n",
       "\n",
       "    .dataframe thead th {\n",
       "        text-align: right;\n",
       "    }\n",
       "</style>\n",
       "<table border=\"1\" class=\"dataframe\">\n",
       "  <thead>\n",
       "    <tr style=\"text-align: right;\">\n",
       "      <th></th>\n",
       "      <th>startYear</th>\n",
       "      <th>total</th>\n",
       "    </tr>\n",
       "  </thead>\n",
       "  <tbody>\n",
       "    <tr>\n",
       "      <th>0</th>\n",
       "      <td>1915</td>\n",
       "      <td>1</td>\n",
       "    </tr>\n",
       "    <tr>\n",
       "      <th>1</th>\n",
       "      <td>1920</td>\n",
       "      <td>1</td>\n",
       "    </tr>\n",
       "    <tr>\n",
       "      <th>2</th>\n",
       "      <td>1921</td>\n",
       "      <td>1</td>\n",
       "    </tr>\n",
       "    <tr>\n",
       "      <th>3</th>\n",
       "      <td>1922</td>\n",
       "      <td>1</td>\n",
       "    </tr>\n",
       "    <tr>\n",
       "      <th>4</th>\n",
       "      <td>1924</td>\n",
       "      <td>1</td>\n",
       "    </tr>\n",
       "    <tr>\n",
       "      <th>...</th>\n",
       "      <td>...</td>\n",
       "      <td>...</td>\n",
       "    </tr>\n",
       "    <tr>\n",
       "      <th>97</th>\n",
       "      <td>2017</td>\n",
       "      <td>213</td>\n",
       "    </tr>\n",
       "    <tr>\n",
       "      <th>98</th>\n",
       "      <td>2018</td>\n",
       "      <td>230</td>\n",
       "    </tr>\n",
       "    <tr>\n",
       "      <th>99</th>\n",
       "      <td>2019</td>\n",
       "      <td>194</td>\n",
       "    </tr>\n",
       "    <tr>\n",
       "      <th>100</th>\n",
       "      <td>2020</td>\n",
       "      <td>117</td>\n",
       "    </tr>\n",
       "    <tr>\n",
       "      <th>101</th>\n",
       "      <td>2021</td>\n",
       "      <td>85</td>\n",
       "    </tr>\n",
       "  </tbody>\n",
       "</table>\n",
       "<p>102 rows × 2 columns</p>\n",
       "</div>"
      ],
      "text/plain": [
       "    startYear  total\n",
       "0        1915      1\n",
       "1        1920      1\n",
       "2        1921      1\n",
       "3        1922      1\n",
       "4        1924      1\n",
       "..        ...    ...\n",
       "97       2017    213\n",
       "98       2018    230\n",
       "99       2019    194\n",
       "100      2020    117\n",
       "101      2021     85\n",
       "\n",
       "[102 rows x 2 columns]"
      ]
     },
     "execution_count": 11,
     "metadata": {},
     "output_type": "execute_result"
    }
   ],
   "source": [
    "query_ydist = \"\"\"\n",
    "SELECT startYear, COUNT(*) AS total\n",
    "FROM Title\n",
    "WHERE startYear IS NOT NULL AND titleType IS 'movie'\n",
    "GROUP BY startYear;\n",
    "\"\"\"\n",
    "\n",
    "res_ydist = pd.read_sql(query_ydist, engine)\n",
    "res_ydist"
   ]
  },
  {
   "cell_type": "code",
   "execution_count": 12,
   "id": "a6f90b10",
   "metadata": {},
   "outputs": [
    {
     "data": {
      "image/svg+xml": [
       "<svg class=\"main-svg\" xmlns=\"http://www.w3.org/2000/svg\" xmlns:xlink=\"http://www.w3.org/1999/xlink\" width=\"700\" height=\"500\" style=\"\" viewBox=\"0 0 700 500\"><rect x=\"0\" y=\"0\" width=\"700\" height=\"500\" style=\"fill: rgb(255, 255, 255); fill-opacity: 1;\"/><defs id=\"defs-682f3f\"><g class=\"clips\"><clipPath id=\"clip682f3fxyplot\" class=\"plotclip\"><rect width=\"540\" height=\"320\"/></clipPath><clipPath class=\"axesclip\" id=\"clip682f3fx\"><rect x=\"80\" y=\"0\" width=\"540\" height=\"500\"/></clipPath><clipPath class=\"axesclip\" id=\"clip682f3fy\"><rect x=\"0\" y=\"100\" width=\"700\" height=\"320\"/></clipPath><clipPath class=\"axesclip\" id=\"clip682f3fxy\"><rect x=\"80\" y=\"100\" width=\"540\" height=\"320\"/></clipPath></g><g class=\"gradients\"/><g class=\"patterns\"/></defs><g class=\"bglayer\"><rect class=\"bg\" x=\"80\" y=\"100\" width=\"540\" height=\"320\" style=\"fill: rgb(229, 236, 246); fill-opacity: 1; stroke-width: 0;\"/></g><g class=\"layer-below\"><g class=\"imagelayer\"/><g class=\"shapelayer\"/></g><g class=\"cartesianlayer\"><g class=\"subplot xy\"><g class=\"layer-subplot\"><g class=\"shapelayer\"/><g class=\"imagelayer\"/></g><g class=\"minor-gridlayer\"><g class=\"x\"/><g class=\"y\"/></g><g class=\"gridlayer\"><g class=\"x\"/><g class=\"y\"><path class=\"ygrid crisp\" transform=\"translate(0,360.16)\" d=\"M80,0h540\" style=\"stroke: rgb(255, 255, 255); stroke-opacity: 1; stroke-width: 1px;\"/><path class=\"ygrid crisp\" transform=\"translate(0,300.31)\" d=\"M80,0h540\" style=\"stroke: rgb(255, 255, 255); stroke-opacity: 1; stroke-width: 1px;\"/><path class=\"ygrid crisp\" transform=\"translate(0,240.47)\" d=\"M80,0h540\" style=\"stroke: rgb(255, 255, 255); stroke-opacity: 1; stroke-width: 1px;\"/><path class=\"ygrid crisp\" transform=\"translate(0,180.63)\" d=\"M80,0h540\" style=\"stroke: rgb(255, 255, 255); stroke-opacity: 1; stroke-width: 1px;\"/><path class=\"ygrid crisp\" transform=\"translate(0,120.78999999999999)\" d=\"M80,0h540\" style=\"stroke: rgb(255, 255, 255); stroke-opacity: 1; stroke-width: 1px;\"/></g></g><g class=\"zerolinelayer\"><path class=\"yzl zl crisp\" transform=\"translate(0,420)\" d=\"M80,0h540\" style=\"stroke: rgb(255, 255, 255); stroke-opacity: 1; stroke-width: 2px;\"/></g><path class=\"xlines-below\"/><path class=\"ylines-below\"/><g class=\"overlines-below\"/><g class=\"xaxislayer-below\"/><g class=\"yaxislayer-below\"/><g class=\"overaxes-below\"/><g class=\"plot\" transform=\"translate(80,100)\" clip-path=\"url(#clip682f3fxyplot)\"><g class=\"barlayer mlayer\"><g class=\"trace bars\" style=\"opacity: 1;\"><g class=\"points\"><g class=\"point\"><path d=\"M0.53,320V318.8H4.76V320Z\" style=\"vector-effect: non-scaling-stroke; opacity: 1; stroke-width: 0.5px; fill: rgb(99, 110, 250); fill-opacity: 1; stroke: rgb(229, 236, 246); stroke-opacity: 1;\"/></g><g class=\"point\"><path d=\"M5.82,320V318.8H10.06V320Z\" style=\"vector-effect: non-scaling-stroke; opacity: 1; stroke-width: 0.5px; fill: rgb(99, 110, 250); fill-opacity: 1; stroke: rgb(229, 236, 246); stroke-opacity: 1;\"/></g><g class=\"point\"><path d=\"M11.12,320V318.8H15.35V320Z\" style=\"vector-effect: non-scaling-stroke; opacity: 1; stroke-width: 0.5px; fill: rgb(99, 110, 250); fill-opacity: 1; stroke: rgb(229, 236, 246); stroke-opacity: 1;\"/></g><g class=\"point\"><path d=\"M16.41,320V318.8H20.65V320Z\" style=\"vector-effect: non-scaling-stroke; opacity: 1; stroke-width: 0.5px; fill: rgb(99, 110, 250); fill-opacity: 1; stroke: rgb(229, 236, 246); stroke-opacity: 1;\"/></g><g class=\"point\"><path d=\"M21.71,320V318.8H25.94V320Z\" style=\"vector-effect: non-scaling-stroke; opacity: 1; stroke-width: 0.5px; fill: rgb(99, 110, 250); fill-opacity: 1; stroke: rgb(229, 236, 246); stroke-opacity: 1;\"/></g><g class=\"point\"><path d=\"M27,320V317.61H31.24V320Z\" style=\"vector-effect: non-scaling-stroke; opacity: 1; stroke-width: 0.5px; fill: rgb(99, 110, 250); fill-opacity: 1; stroke: rgb(229, 236, 246); stroke-opacity: 1;\"/></g><g class=\"point\"><path d=\"M32.29,320V318.8H36.53V320Z\" style=\"vector-effect: non-scaling-stroke; opacity: 1; stroke-width: 0.5px; fill: rgb(99, 110, 250); fill-opacity: 1; stroke: rgb(229, 236, 246); stroke-opacity: 1;\"/></g><g class=\"point\"><path d=\"M37.59,320V317.61H41.82V320Z\" style=\"vector-effect: non-scaling-stroke; opacity: 1; stroke-width: 0.5px; fill: rgb(99, 110, 250); fill-opacity: 1; stroke: rgb(229, 236, 246); stroke-opacity: 1;\"/></g><g class=\"point\"><path d=\"M42.88,320V317.61H47.12V320Z\" style=\"vector-effect: non-scaling-stroke; opacity: 1; stroke-width: 0.5px; fill: rgb(99, 110, 250); fill-opacity: 1; stroke: rgb(229, 236, 246); stroke-opacity: 1;\"/></g><g class=\"point\"><path d=\"M48.18,320V318.8H52.41V320Z\" style=\"vector-effect: non-scaling-stroke; opacity: 1; stroke-width: 0.5px; fill: rgb(99, 110, 250); fill-opacity: 1; stroke: rgb(229, 236, 246); stroke-opacity: 1;\"/></g><g class=\"point\"><path d=\"M53.47,320V318.8H57.71V320Z\" style=\"vector-effect: non-scaling-stroke; opacity: 1; stroke-width: 0.5px; fill: rgb(99, 110, 250); fill-opacity: 1; stroke: rgb(229, 236, 246); stroke-opacity: 1;\"/></g><g class=\"point\"><path d=\"M58.76,320V314.02H63V320Z\" style=\"vector-effect: non-scaling-stroke; opacity: 1; stroke-width: 0.5px; fill: rgb(99, 110, 250); fill-opacity: 1; stroke: rgb(229, 236, 246); stroke-opacity: 1;\"/></g><g class=\"point\"><path d=\"M64.06,320V316.41H68.29V320Z\" style=\"vector-effect: non-scaling-stroke; opacity: 1; stroke-width: 0.5px; fill: rgb(99, 110, 250); fill-opacity: 1; stroke: rgb(229, 236, 246); stroke-opacity: 1;\"/></g><g class=\"point\"><path d=\"M69.35,320V316.41H73.59V320Z\" style=\"vector-effect: non-scaling-stroke; opacity: 1; stroke-width: 0.5px; fill: rgb(99, 110, 250); fill-opacity: 1; stroke: rgb(229, 236, 246); stroke-opacity: 1;\"/></g><g class=\"point\"><path d=\"M74.65,320V317.61H78.88V320Z\" style=\"vector-effect: non-scaling-stroke; opacity: 1; stroke-width: 0.5px; fill: rgb(99, 110, 250); fill-opacity: 1; stroke: rgb(229, 236, 246); stroke-opacity: 1;\"/></g><g class=\"point\"><path d=\"M79.94,320V315.21H84.18V320Z\" style=\"vector-effect: non-scaling-stroke; opacity: 1; stroke-width: 0.5px; fill: rgb(99, 110, 250); fill-opacity: 1; stroke: rgb(229, 236, 246); stroke-opacity: 1;\"/></g><g class=\"point\"><path d=\"M85.24,320V316.41H89.47V320Z\" style=\"vector-effect: non-scaling-stroke; opacity: 1; stroke-width: 0.5px; fill: rgb(99, 110, 250); fill-opacity: 1; stroke: rgb(229, 236, 246); stroke-opacity: 1;\"/></g><g class=\"point\"><path d=\"M90.53,320V317.61H94.76V320Z\" style=\"vector-effect: non-scaling-stroke; opacity: 1; stroke-width: 0.5px; fill: rgb(99, 110, 250); fill-opacity: 1; stroke: rgb(229, 236, 246); stroke-opacity: 1;\"/></g><g class=\"point\"><path d=\"M95.82,320V314.02H100.06V320Z\" style=\"vector-effect: non-scaling-stroke; opacity: 1; stroke-width: 0.5px; fill: rgb(99, 110, 250); fill-opacity: 1; stroke: rgb(229, 236, 246); stroke-opacity: 1;\"/></g><g class=\"point\"><path d=\"M101.12,320V312.82H105.35V320Z\" style=\"vector-effect: non-scaling-stroke; opacity: 1; stroke-width: 0.5px; fill: rgb(99, 110, 250); fill-opacity: 1; stroke: rgb(229, 236, 246); stroke-opacity: 1;\"/></g><g class=\"point\"><path d=\"M106.41,320V310.43H110.65V320Z\" style=\"vector-effect: non-scaling-stroke; opacity: 1; stroke-width: 0.5px; fill: rgb(99, 110, 250); fill-opacity: 1; stroke: rgb(229, 236, 246); stroke-opacity: 1;\"/></g><g class=\"point\"><path d=\"M111.71,320V310.43H115.94V320Z\" style=\"vector-effect: non-scaling-stroke; opacity: 1; stroke-width: 0.5px; fill: rgb(99, 110, 250); fill-opacity: 1; stroke: rgb(229, 236, 246); stroke-opacity: 1;\"/></g><g class=\"point\"><path d=\"M117,320V311.62H121.24V320Z\" style=\"vector-effect: non-scaling-stroke; opacity: 1; stroke-width: 0.5px; fill: rgb(99, 110, 250); fill-opacity: 1; stroke: rgb(229, 236, 246); stroke-opacity: 1;\"/></g><g class=\"point\"><path d=\"M122.29,320V317.61H126.53V320Z\" style=\"vector-effect: non-scaling-stroke; opacity: 1; stroke-width: 0.5px; fill: rgb(99, 110, 250); fill-opacity: 1; stroke: rgb(229, 236, 246); stroke-opacity: 1;\"/></g><g class=\"point\"><path d=\"M127.59,320V312.82H131.82V320Z\" style=\"vector-effect: non-scaling-stroke; opacity: 1; stroke-width: 0.5px; fill: rgb(99, 110, 250); fill-opacity: 1; stroke: rgb(229, 236, 246); stroke-opacity: 1;\"/></g><g class=\"point\"><path d=\"M132.88,320V314.02H137.12V320Z\" style=\"vector-effect: non-scaling-stroke; opacity: 1; stroke-width: 0.5px; fill: rgb(99, 110, 250); fill-opacity: 1; stroke: rgb(229, 236, 246); stroke-opacity: 1;\"/></g><g class=\"point\"><path d=\"M138.18,320V306.83H142.41V320Z\" style=\"vector-effect: non-scaling-stroke; opacity: 1; stroke-width: 0.5px; fill: rgb(99, 110, 250); fill-opacity: 1; stroke: rgb(229, 236, 246); stroke-opacity: 1;\"/></g><g class=\"point\"><path d=\"M143.47,320V315.21H147.71V320Z\" style=\"vector-effect: non-scaling-stroke; opacity: 1; stroke-width: 0.5px; fill: rgb(99, 110, 250); fill-opacity: 1; stroke: rgb(229, 236, 246); stroke-opacity: 1;\"/></g><g class=\"point\"><path d=\"M148.76,320V312.82H153V320Z\" style=\"vector-effect: non-scaling-stroke; opacity: 1; stroke-width: 0.5px; fill: rgb(99, 110, 250); fill-opacity: 1; stroke: rgb(229, 236, 246); stroke-opacity: 1;\"/></g><g class=\"point\"><path d=\"M154.06,320V315.21H158.29V320Z\" style=\"vector-effect: non-scaling-stroke; opacity: 1; stroke-width: 0.5px; fill: rgb(99, 110, 250); fill-opacity: 1; stroke: rgb(229, 236, 246); stroke-opacity: 1;\"/></g><g class=\"point\"><path d=\"M159.35,320V311.62H163.59V320Z\" style=\"vector-effect: non-scaling-stroke; opacity: 1; stroke-width: 0.5px; fill: rgb(99, 110, 250); fill-opacity: 1; stroke: rgb(229, 236, 246); stroke-opacity: 1;\"/></g><g class=\"point\"><path d=\"M164.65,320V308.03H168.88V320Z\" style=\"vector-effect: non-scaling-stroke; opacity: 1; stroke-width: 0.5px; fill: rgb(99, 110, 250); fill-opacity: 1; stroke: rgb(229, 236, 246); stroke-opacity: 1;\"/></g><g class=\"point\"><path d=\"M169.94,320V314.02H174.18V320Z\" style=\"vector-effect: non-scaling-stroke; opacity: 1; stroke-width: 0.5px; fill: rgb(99, 110, 250); fill-opacity: 1; stroke: rgb(229, 236, 246); stroke-opacity: 1;\"/></g><g class=\"point\"><path d=\"M175.24,320V304.44H179.47V320Z\" style=\"vector-effect: non-scaling-stroke; opacity: 1; stroke-width: 0.5px; fill: rgb(99, 110, 250); fill-opacity: 1; stroke: rgb(229, 236, 246); stroke-opacity: 1;\"/></g><g class=\"point\"><path d=\"M180.53,320V304.44H184.76V320Z\" style=\"vector-effect: non-scaling-stroke; opacity: 1; stroke-width: 0.5px; fill: rgb(99, 110, 250); fill-opacity: 1; stroke: rgb(229, 236, 246); stroke-opacity: 1;\"/></g><g class=\"point\"><path d=\"M185.82,320V303.24H190.06V320Z\" style=\"vector-effect: non-scaling-stroke; opacity: 1; stroke-width: 0.5px; fill: rgb(99, 110, 250); fill-opacity: 1; stroke: rgb(229, 236, 246); stroke-opacity: 1;\"/></g><g class=\"point\"><path d=\"M191.12,320V306.83H195.35V320Z\" style=\"vector-effect: non-scaling-stroke; opacity: 1; stroke-width: 0.5px; fill: rgb(99, 110, 250); fill-opacity: 1; stroke: rgb(229, 236, 246); stroke-opacity: 1;\"/></g><g class=\"point\"><path d=\"M196.41,320V305.64H200.65V320Z\" style=\"vector-effect: non-scaling-stroke; opacity: 1; stroke-width: 0.5px; fill: rgb(99, 110, 250); fill-opacity: 1; stroke: rgb(229, 236, 246); stroke-opacity: 1;\"/></g><g class=\"point\"><path d=\"M201.71,320V308.03H205.94V320Z\" style=\"vector-effect: non-scaling-stroke; opacity: 1; stroke-width: 0.5px; fill: rgb(99, 110, 250); fill-opacity: 1; stroke: rgb(229, 236, 246); stroke-opacity: 1;\"/></g><g class=\"point\"><path d=\"M207,320V308.03H211.24V320Z\" style=\"vector-effect: non-scaling-stroke; opacity: 1; stroke-width: 0.5px; fill: rgb(99, 110, 250); fill-opacity: 1; stroke: rgb(229, 236, 246); stroke-opacity: 1;\"/></g><g class=\"point\"><path d=\"M212.29,320V304.44H216.53V320Z\" style=\"vector-effect: non-scaling-stroke; opacity: 1; stroke-width: 0.5px; fill: rgb(99, 110, 250); fill-opacity: 1; stroke: rgb(229, 236, 246); stroke-opacity: 1;\"/></g><g class=\"point\"><path d=\"M217.59,320V304.44H221.82V320Z\" style=\"vector-effect: non-scaling-stroke; opacity: 1; stroke-width: 0.5px; fill: rgb(99, 110, 250); fill-opacity: 1; stroke: rgb(229, 236, 246); stroke-opacity: 1;\"/></g><g class=\"point\"><path d=\"M222.88,320V298.46H227.12V320Z\" style=\"vector-effect: non-scaling-stroke; opacity: 1; stroke-width: 0.5px; fill: rgb(99, 110, 250); fill-opacity: 1; stroke: rgb(229, 236, 246); stroke-opacity: 1;\"/></g><g class=\"point\"><path d=\"M228.18,320V300.85H232.41V320Z\" style=\"vector-effect: non-scaling-stroke; opacity: 1; stroke-width: 0.5px; fill: rgb(99, 110, 250); fill-opacity: 1; stroke: rgb(229, 236, 246); stroke-opacity: 1;\"/></g><g class=\"point\"><path d=\"M233.47,320V304.44H237.71V320Z\" style=\"vector-effect: non-scaling-stroke; opacity: 1; stroke-width: 0.5px; fill: rgb(99, 110, 250); fill-opacity: 1; stroke: rgb(229, 236, 246); stroke-opacity: 1;\"/></g><g class=\"point\"><path d=\"M238.76,320V311.62H243V320Z\" style=\"vector-effect: non-scaling-stroke; opacity: 1; stroke-width: 0.5px; fill: rgb(99, 110, 250); fill-opacity: 1; stroke: rgb(229, 236, 246); stroke-opacity: 1;\"/></g><g class=\"point\"><path d=\"M244.06,320V303.24H248.29V320Z\" style=\"vector-effect: non-scaling-stroke; opacity: 1; stroke-width: 0.5px; fill: rgb(99, 110, 250); fill-opacity: 1; stroke: rgb(229, 236, 246); stroke-opacity: 1;\"/></g><g class=\"point\"><path d=\"M249.35,320V300.85H253.59V320Z\" style=\"vector-effect: non-scaling-stroke; opacity: 1; stroke-width: 0.5px; fill: rgb(99, 110, 250); fill-opacity: 1; stroke: rgb(229, 236, 246); stroke-opacity: 1;\"/></g><g class=\"point\"><path d=\"M254.65,320V297.26H258.88V320Z\" style=\"vector-effect: non-scaling-stroke; opacity: 1; stroke-width: 0.5px; fill: rgb(99, 110, 250); fill-opacity: 1; stroke: rgb(229, 236, 246); stroke-opacity: 1;\"/></g><g class=\"point\"><path d=\"M259.94,320V306.83H264.18V320Z\" style=\"vector-effect: non-scaling-stroke; opacity: 1; stroke-width: 0.5px; fill: rgb(99, 110, 250); fill-opacity: 1; stroke: rgb(229, 236, 246); stroke-opacity: 1;\"/></g><g class=\"point\"><path d=\"M265.24,320V302.05H269.47V320Z\" style=\"vector-effect: non-scaling-stroke; opacity: 1; stroke-width: 0.5px; fill: rgb(99, 110, 250); fill-opacity: 1; stroke: rgb(229, 236, 246); stroke-opacity: 1;\"/></g><g class=\"point\"><path d=\"M270.53,320V290.08H274.76V320Z\" style=\"vector-effect: non-scaling-stroke; opacity: 1; stroke-width: 0.5px; fill: rgb(99, 110, 250); fill-opacity: 1; stroke: rgb(229, 236, 246); stroke-opacity: 1;\"/></g><g class=\"point\"><path d=\"M275.82,320V293.67H280.06V320Z\" style=\"vector-effect: non-scaling-stroke; opacity: 1; stroke-width: 0.5px; fill: rgb(99, 110, 250); fill-opacity: 1; stroke: rgb(229, 236, 246); stroke-opacity: 1;\"/></g><g class=\"point\"><path d=\"M281.12,320V285.29H285.35V320Z\" style=\"vector-effect: non-scaling-stroke; opacity: 1; stroke-width: 0.5px; fill: rgb(99, 110, 250); fill-opacity: 1; stroke: rgb(229, 236, 246); stroke-opacity: 1;\"/></g><g class=\"point\"><path d=\"M286.41,320V297.26H290.65V320Z\" style=\"vector-effect: non-scaling-stroke; opacity: 1; stroke-width: 0.5px; fill: rgb(99, 110, 250); fill-opacity: 1; stroke: rgb(229, 236, 246); stroke-opacity: 1;\"/></g><g class=\"point\"><path d=\"M291.71,320V293.67H295.94V320Z\" style=\"vector-effect: non-scaling-stroke; opacity: 1; stroke-width: 0.5px; fill: rgb(99, 110, 250); fill-opacity: 1; stroke: rgb(229, 236, 246); stroke-opacity: 1;\"/></g><g class=\"point\"><path d=\"M297,320V291.28H301.24V320Z\" style=\"vector-effect: non-scaling-stroke; opacity: 1; stroke-width: 0.5px; fill: rgb(99, 110, 250); fill-opacity: 1; stroke: rgb(229, 236, 246); stroke-opacity: 1;\"/></g><g class=\"point\"><path d=\"M302.29,320V292.47H306.53V320Z\" style=\"vector-effect: non-scaling-stroke; opacity: 1; stroke-width: 0.5px; fill: rgb(99, 110, 250); fill-opacity: 1; stroke: rgb(229, 236, 246); stroke-opacity: 1;\"/></g><g class=\"point\"><path d=\"M307.59,320V293.67H311.82V320Z\" style=\"vector-effect: non-scaling-stroke; opacity: 1; stroke-width: 0.5px; fill: rgb(99, 110, 250); fill-opacity: 1; stroke: rgb(229, 236, 246); stroke-opacity: 1;\"/></g><g class=\"point\"><path d=\"M312.88,320V282.9H317.12V320Z\" style=\"vector-effect: non-scaling-stroke; opacity: 1; stroke-width: 0.5px; fill: rgb(99, 110, 250); fill-opacity: 1; stroke: rgb(229, 236, 246); stroke-opacity: 1;\"/></g><g class=\"point\"><path d=\"M318.18,320V284.09H322.41V320Z\" style=\"vector-effect: non-scaling-stroke; opacity: 1; stroke-width: 0.5px; fill: rgb(99, 110, 250); fill-opacity: 1; stroke: rgb(229, 236, 246); stroke-opacity: 1;\"/></g><g class=\"point\"><path d=\"M323.47,320V278.11H327.71V320Z\" style=\"vector-effect: non-scaling-stroke; opacity: 1; stroke-width: 0.5px; fill: rgb(99, 110, 250); fill-opacity: 1; stroke: rgb(229, 236, 246); stroke-opacity: 1;\"/></g><g class=\"point\"><path d=\"M328.76,320V272.13H333V320Z\" style=\"vector-effect: non-scaling-stroke; opacity: 1; stroke-width: 0.5px; fill: rgb(99, 110, 250); fill-opacity: 1; stroke: rgb(229, 236, 246); stroke-opacity: 1;\"/></g><g class=\"point\"><path d=\"M334.06,320V280.5H338.29V320Z\" style=\"vector-effect: non-scaling-stroke; opacity: 1; stroke-width: 0.5px; fill: rgb(99, 110, 250); fill-opacity: 1; stroke: rgb(229, 236, 246); stroke-opacity: 1;\"/></g><g class=\"point\"><path d=\"M339.35,320V264.94H343.59V320Z\" style=\"vector-effect: non-scaling-stroke; opacity: 1; stroke-width: 0.5px; fill: rgb(99, 110, 250); fill-opacity: 1; stroke: rgb(229, 236, 246); stroke-opacity: 1;\"/></g><g class=\"point\"><path d=\"M344.65,320V245.8H348.88V320Z\" style=\"vector-effect: non-scaling-stroke; opacity: 1; stroke-width: 0.5px; fill: rgb(99, 110, 250); fill-opacity: 1; stroke: rgb(229, 236, 246); stroke-opacity: 1;\"/></g><g class=\"point\"><path d=\"M349.94,320V251.78H354.18V320Z\" style=\"vector-effect: non-scaling-stroke; opacity: 1; stroke-width: 0.5px; fill: rgb(99, 110, 250); fill-opacity: 1; stroke: rgb(229, 236, 246); stroke-opacity: 1;\"/></g><g class=\"point\"><path d=\"M355.24,320V248.19H359.47V320Z\" style=\"vector-effect: non-scaling-stroke; opacity: 1; stroke-width: 0.5px; fill: rgb(99, 110, 250); fill-opacity: 1; stroke: rgb(229, 236, 246); stroke-opacity: 1;\"/></g><g class=\"point\"><path d=\"M360.53,320V241.01H364.76V320Z\" style=\"vector-effect: non-scaling-stroke; opacity: 1; stroke-width: 0.5px; fill: rgb(99, 110, 250); fill-opacity: 1; stroke: rgb(229, 236, 246); stroke-opacity: 1;\"/></g><g class=\"point\"><path d=\"M365.82,320V237.42H370.06V320Z\" style=\"vector-effect: non-scaling-stroke; opacity: 1; stroke-width: 0.5px; fill: rgb(99, 110, 250); fill-opacity: 1; stroke: rgb(229, 236, 246); stroke-opacity: 1;\"/></g><g class=\"point\"><path d=\"M371.12,320V236.22H375.35V320Z\" style=\"vector-effect: non-scaling-stroke; opacity: 1; stroke-width: 0.5px; fill: rgb(99, 110, 250); fill-opacity: 1; stroke: rgb(229, 236, 246); stroke-opacity: 1;\"/></g><g class=\"point\"><path d=\"M376.41,320V245.8H380.65V320Z\" style=\"vector-effect: non-scaling-stroke; opacity: 1; stroke-width: 0.5px; fill: rgb(99, 110, 250); fill-opacity: 1; stroke: rgb(229, 236, 246); stroke-opacity: 1;\"/></g><g class=\"point\"><path d=\"M381.71,320V223.06H385.94V320Z\" style=\"vector-effect: non-scaling-stroke; opacity: 1; stroke-width: 0.5px; fill: rgb(99, 110, 250); fill-opacity: 1; stroke: rgb(229, 236, 246); stroke-opacity: 1;\"/></g><g class=\"point\"><path d=\"M387,320V202.71H391.24V320Z\" style=\"vector-effect: non-scaling-stroke; opacity: 1; stroke-width: 0.5px; fill: rgb(99, 110, 250); fill-opacity: 1; stroke: rgb(229, 236, 246); stroke-opacity: 1;\"/></g><g class=\"point\"><path d=\"M392.29,320V213.48H396.53V320Z\" style=\"vector-effect: non-scaling-stroke; opacity: 1; stroke-width: 0.5px; fill: rgb(99, 110, 250); fill-opacity: 1; stroke: rgb(229, 236, 246); stroke-opacity: 1;\"/></g><g class=\"point\"><path d=\"M397.59,320V190.74H401.82V320Z\" style=\"vector-effect: non-scaling-stroke; opacity: 1; stroke-width: 0.5px; fill: rgb(99, 110, 250); fill-opacity: 1; stroke: rgb(229, 236, 246); stroke-opacity: 1;\"/></g><g class=\"point\"><path d=\"M402.88,320V196.72H407.12V320Z\" style=\"vector-effect: non-scaling-stroke; opacity: 1; stroke-width: 0.5px; fill: rgb(99, 110, 250); fill-opacity: 1; stroke: rgb(229, 236, 246); stroke-opacity: 1;\"/></g><g class=\"point\"><path d=\"M408.18,320V184.76H412.41V320Z\" style=\"vector-effect: non-scaling-stroke; opacity: 1; stroke-width: 0.5px; fill: rgb(99, 110, 250); fill-opacity: 1; stroke: rgb(229, 236, 246); stroke-opacity: 1;\"/></g><g class=\"point\"><path d=\"M413.47,320V172.79H417.71V320Z\" style=\"vector-effect: non-scaling-stroke; opacity: 1; stroke-width: 0.5px; fill: rgb(99, 110, 250); fill-opacity: 1; stroke: rgb(229, 236, 246); stroke-opacity: 1;\"/></g><g class=\"point\"><path d=\"M418.76,320V178.77H423V320Z\" style=\"vector-effect: non-scaling-stroke; opacity: 1; stroke-width: 0.5px; fill: rgb(99, 110, 250); fill-opacity: 1; stroke: rgb(229, 236, 246); stroke-opacity: 1;\"/></g><g class=\"point\"><path d=\"M424.06,320V165.61H428.29V320Z\" style=\"vector-effect: non-scaling-stroke; opacity: 1; stroke-width: 0.5px; fill: rgb(99, 110, 250); fill-opacity: 1; stroke: rgb(229, 236, 246); stroke-opacity: 1;\"/></g><g class=\"point\"><path d=\"M429.35,320V138.08H433.59V320Z\" style=\"vector-effect: non-scaling-stroke; opacity: 1; stroke-width: 0.5px; fill: rgb(99, 110, 250); fill-opacity: 1; stroke: rgb(229, 236, 246); stroke-opacity: 1;\"/></g><g class=\"point\"><path d=\"M434.65,320V120.13H438.88V320Z\" style=\"vector-effect: non-scaling-stroke; opacity: 1; stroke-width: 0.5px; fill: rgb(99, 110, 250); fill-opacity: 1; stroke: rgb(229, 236, 246); stroke-opacity: 1;\"/></g><g class=\"point\"><path d=\"M439.94,320V124.91H444.18V320Z\" style=\"vector-effect: non-scaling-stroke; opacity: 1; stroke-width: 0.5px; fill: rgb(99, 110, 250); fill-opacity: 1; stroke: rgb(229, 236, 246); stroke-opacity: 1;\"/></g><g class=\"point\"><path d=\"M445.24,320V99.78H449.47V320Z\" style=\"vector-effect: non-scaling-stroke; opacity: 1; stroke-width: 0.5px; fill: rgb(99, 110, 250); fill-opacity: 1; stroke: rgb(229, 236, 246); stroke-opacity: 1;\"/></g><g class=\"point\"><path d=\"M450.53,320V91.4H454.76V320Z\" style=\"vector-effect: non-scaling-stroke; opacity: 1; stroke-width: 0.5px; fill: rgb(99, 110, 250); fill-opacity: 1; stroke: rgb(229, 236, 246); stroke-opacity: 1;\"/></g><g class=\"point\"><path d=\"M455.82,320V54.3H460.06V320Z\" style=\"vector-effect: non-scaling-stroke; opacity: 1; stroke-width: 0.5px; fill: rgb(99, 110, 250); fill-opacity: 1; stroke: rgb(229, 236, 246); stroke-opacity: 1;\"/></g><g class=\"point\"><path d=\"M461.12,320V51.91H465.35V320Z\" style=\"vector-effect: non-scaling-stroke; opacity: 1; stroke-width: 0.5px; fill: rgb(99, 110, 250); fill-opacity: 1; stroke: rgb(229, 236, 246); stroke-opacity: 1;\"/></g><g class=\"point\"><path d=\"M466.41,320V57.89H470.65V320Z\" style=\"vector-effect: non-scaling-stroke; opacity: 1; stroke-width: 0.5px; fill: rgb(99, 110, 250); fill-opacity: 1; stroke: rgb(229, 236, 246); stroke-opacity: 1;\"/></g><g class=\"point\"><path d=\"M471.71,320V49.51H475.94V320Z\" style=\"vector-effect: non-scaling-stroke; opacity: 1; stroke-width: 0.5px; fill: rgb(99, 110, 250); fill-opacity: 1; stroke: rgb(229, 236, 246); stroke-opacity: 1;\"/></g><g class=\"point\"><path d=\"M477,320V67.46H481.24V320Z\" style=\"vector-effect: non-scaling-stroke; opacity: 1; stroke-width: 0.5px; fill: rgb(99, 110, 250); fill-opacity: 1; stroke: rgb(229, 236, 246); stroke-opacity: 1;\"/></g><g class=\"point\"><path d=\"M482.29,320V43.53H486.53V320Z\" style=\"vector-effect: non-scaling-stroke; opacity: 1; stroke-width: 0.5px; fill: rgb(99, 110, 250); fill-opacity: 1; stroke: rgb(229, 236, 246); stroke-opacity: 1;\"/></g><g class=\"point\"><path d=\"M487.59,320V65.07H491.82V320Z\" style=\"vector-effect: non-scaling-stroke; opacity: 1; stroke-width: 0.5px; fill: rgb(99, 110, 250); fill-opacity: 1; stroke: rgb(229, 236, 246); stroke-opacity: 1;\"/></g><g class=\"point\"><path d=\"M492.88,320V31.56H497.12V320Z\" style=\"vector-effect: non-scaling-stroke; opacity: 1; stroke-width: 0.5px; fill: rgb(99, 110, 250); fill-opacity: 1; stroke: rgb(229, 236, 246); stroke-opacity: 1;\"/></g><g class=\"point\"><path d=\"M498.18,320V16H502.41V320Z\" style=\"vector-effect: non-scaling-stroke; opacity: 1; stroke-width: 0.5px; fill: rgb(99, 110, 250); fill-opacity: 1; stroke: rgb(229, 236, 246); stroke-opacity: 1;\"/></g><g class=\"point\"><path d=\"M503.47,320V59.09H507.71V320Z\" style=\"vector-effect: non-scaling-stroke; opacity: 1; stroke-width: 0.5px; fill: rgb(99, 110, 250); fill-opacity: 1; stroke: rgb(229, 236, 246); stroke-opacity: 1;\"/></g><g class=\"point\"><path d=\"M508.76,320V48.31H513V320Z\" style=\"vector-effect: non-scaling-stroke; opacity: 1; stroke-width: 0.5px; fill: rgb(99, 110, 250); fill-opacity: 1; stroke: rgb(229, 236, 246); stroke-opacity: 1;\"/></g><g class=\"point\"><path d=\"M514.06,320V65.07H518.29V320Z\" style=\"vector-effect: non-scaling-stroke; opacity: 1; stroke-width: 0.5px; fill: rgb(99, 110, 250); fill-opacity: 1; stroke: rgb(229, 236, 246); stroke-opacity: 1;\"/></g><g class=\"point\"><path d=\"M519.35,320V44.72H523.59V320Z\" style=\"vector-effect: non-scaling-stroke; opacity: 1; stroke-width: 0.5px; fill: rgb(99, 110, 250); fill-opacity: 1; stroke: rgb(229, 236, 246); stroke-opacity: 1;\"/></g><g class=\"point\"><path d=\"M524.65,320V87.81H528.88V320Z\" style=\"vector-effect: non-scaling-stroke; opacity: 1; stroke-width: 0.5px; fill: rgb(99, 110, 250); fill-opacity: 1; stroke: rgb(229, 236, 246); stroke-opacity: 1;\"/></g><g class=\"point\"><path d=\"M529.94,320V179.97H534.18V320Z\" style=\"vector-effect: non-scaling-stroke; opacity: 1; stroke-width: 0.5px; fill: rgb(99, 110, 250); fill-opacity: 1; stroke: rgb(229, 236, 246); stroke-opacity: 1;\"/></g><g class=\"point\"><path d=\"M535.24,320V218.27H539.47V320Z\" style=\"vector-effect: non-scaling-stroke; opacity: 1; stroke-width: 0.5px; fill: rgb(99, 110, 250); fill-opacity: 1; stroke: rgb(229, 236, 246); stroke-opacity: 1;\"/></g></g></g></g></g><g class=\"overplot\"/><path class=\"xlines-above crisp\" d=\"M0,0\" style=\"fill: none;\"/><path class=\"ylines-above crisp\" d=\"M0,0\" style=\"fill: none;\"/><g class=\"overlines-above\"/><g class=\"xaxislayer-above\"><g class=\"xtick\"><text text-anchor=\"start\" x=\"0\" y=\"433\" transform=\"translate(82.65,0) rotate(90,0,427)\" style=\"font-family: 'Open Sans', verdana, arial, sans-serif; font-size: 12px; fill: rgb(42, 63, 95); fill-opacity: 1; white-space: pre; opacity: 1;\">1915</text></g><g class=\"xtick\"><text text-anchor=\"start\" x=\"0\" y=\"433\" transform=\"translate(98.53,0) rotate(90,0,427)\" style=\"font-family: 'Open Sans', verdana, arial, sans-serif; font-size: 12px; fill: rgb(42, 63, 95); fill-opacity: 1; white-space: pre; opacity: 1;\">1922</text></g><g class=\"xtick\"><text text-anchor=\"start\" x=\"0\" y=\"433\" transform=\"translate(114.41,0) rotate(90,0,427)\" style=\"font-family: 'Open Sans', verdana, arial, sans-serif; font-size: 12px; fill: rgb(42, 63, 95); fill-opacity: 1; white-space: pre; opacity: 1;\">1926</text></g><g class=\"xtick\"><text text-anchor=\"start\" x=\"0\" y=\"433\" transform=\"translate(130.29,0) rotate(90,0,427)\" style=\"font-family: 'Open Sans', verdana, arial, sans-serif; font-size: 12px; fill: rgb(42, 63, 95); fill-opacity: 1; white-space: pre; opacity: 1;\">1929</text></g><g class=\"xtick\"><text text-anchor=\"start\" x=\"0\" y=\"433\" transform=\"translate(146.18,0) rotate(90,0,427)\" style=\"font-family: 'Open Sans', verdana, arial, sans-serif; font-size: 12px; fill: rgb(42, 63, 95); fill-opacity: 1; white-space: pre; opacity: 1;\">1932</text></g><g class=\"xtick\"><text text-anchor=\"start\" x=\"0\" y=\"433\" transform=\"translate(162.06,0) rotate(90,0,427)\" style=\"font-family: 'Open Sans', verdana, arial, sans-serif; font-size: 12px; fill: rgb(42, 63, 95); fill-opacity: 1; white-space: pre; opacity: 1;\">1935</text></g><g class=\"xtick\"><text text-anchor=\"start\" x=\"0\" y=\"433\" transform=\"translate(177.94,0) rotate(90,0,427)\" style=\"font-family: 'Open Sans', verdana, arial, sans-serif; font-size: 12px; fill: rgb(42, 63, 95); fill-opacity: 1; white-space: pre; opacity: 1;\">1938</text></g><g class=\"xtick\"><text text-anchor=\"start\" x=\"0\" y=\"433\" transform=\"translate(193.82,0) rotate(90,0,427)\" style=\"font-family: 'Open Sans', verdana, arial, sans-serif; font-size: 12px; fill: rgb(42, 63, 95); fill-opacity: 1; white-space: pre; opacity: 1;\">1941</text></g><g class=\"xtick\"><text text-anchor=\"start\" x=\"0\" y=\"433\" transform=\"translate(209.71,0) rotate(90,0,427)\" style=\"font-family: 'Open Sans', verdana, arial, sans-serif; font-size: 12px; fill: rgb(42, 63, 95); fill-opacity: 1; white-space: pre; opacity: 1;\">1944</text></g><g class=\"xtick\"><text text-anchor=\"start\" x=\"0\" y=\"433\" transform=\"translate(225.59,0) rotate(90,0,427)\" style=\"font-family: 'Open Sans', verdana, arial, sans-serif; font-size: 12px; fill: rgb(42, 63, 95); fill-opacity: 1; white-space: pre; opacity: 1;\">1947</text></g><g class=\"xtick\"><text text-anchor=\"start\" x=\"0\" y=\"433\" transform=\"translate(241.47,0) rotate(90,0,427)\" style=\"font-family: 'Open Sans', verdana, arial, sans-serif; font-size: 12px; fill: rgb(42, 63, 95); fill-opacity: 1; white-space: pre; opacity: 1;\">1950</text></g><g class=\"xtick\"><text text-anchor=\"start\" x=\"0\" y=\"433\" transform=\"translate(257.35,0) rotate(90,0,427)\" style=\"font-family: 'Open Sans', verdana, arial, sans-serif; font-size: 12px; fill: rgb(42, 63, 95); fill-opacity: 1; white-space: pre; opacity: 1;\">1953</text></g><g class=\"xtick\"><text text-anchor=\"start\" x=\"0\" y=\"433\" transform=\"translate(273.24,0) rotate(90,0,427)\" style=\"font-family: 'Open Sans', verdana, arial, sans-serif; font-size: 12px; fill: rgb(42, 63, 95); fill-opacity: 1; white-space: pre; opacity: 1;\">1956</text></g><g class=\"xtick\"><text text-anchor=\"start\" x=\"0\" y=\"433\" transform=\"translate(289.12,0) rotate(90,0,427)\" style=\"font-family: 'Open Sans', verdana, arial, sans-serif; font-size: 12px; fill: rgb(42, 63, 95); fill-opacity: 1; white-space: pre; opacity: 1;\">1959</text></g><g class=\"xtick\"><text text-anchor=\"start\" x=\"0\" y=\"433\" transform=\"translate(305,0) rotate(90,0,427)\" style=\"font-family: 'Open Sans', verdana, arial, sans-serif; font-size: 12px; fill: rgb(42, 63, 95); fill-opacity: 1; white-space: pre; opacity: 1;\">1962</text></g><g class=\"xtick\"><text text-anchor=\"start\" x=\"0\" y=\"433\" transform=\"translate(320.88,0) rotate(90,0,427)\" style=\"font-family: 'Open Sans', verdana, arial, sans-serif; font-size: 12px; fill: rgb(42, 63, 95); fill-opacity: 1; white-space: pre; opacity: 1;\">1965</text></g><g class=\"xtick\"><text text-anchor=\"start\" x=\"0\" y=\"433\" transform=\"translate(336.76,0) rotate(90,0,427)\" style=\"font-family: 'Open Sans', verdana, arial, sans-serif; font-size: 12px; fill: rgb(42, 63, 95); fill-opacity: 1; white-space: pre; opacity: 1;\">1968</text></g><g class=\"xtick\"><text text-anchor=\"start\" x=\"0\" y=\"433\" transform=\"translate(352.65,0) rotate(90,0,427)\" style=\"font-family: 'Open Sans', verdana, arial, sans-serif; font-size: 12px; fill: rgb(42, 63, 95); fill-opacity: 1; white-space: pre; opacity: 1;\">1971</text></g><g class=\"xtick\"><text text-anchor=\"start\" x=\"0\" y=\"433\" transform=\"translate(368.53,0) rotate(90,0,427)\" style=\"font-family: 'Open Sans', verdana, arial, sans-serif; font-size: 12px; fill: rgb(42, 63, 95); fill-opacity: 1; white-space: pre; opacity: 1;\">1974</text></g><g class=\"xtick\"><text text-anchor=\"start\" x=\"0\" y=\"433\" transform=\"translate(384.41,0) rotate(90,0,427)\" style=\"font-family: 'Open Sans', verdana, arial, sans-serif; font-size: 12px; fill: rgb(42, 63, 95); fill-opacity: 1; white-space: pre; opacity: 1;\">1977</text></g><g class=\"xtick\"><text text-anchor=\"start\" x=\"0\" y=\"433\" transform=\"translate(400.29,0) rotate(90,0,427)\" style=\"font-family: 'Open Sans', verdana, arial, sans-serif; font-size: 12px; fill: rgb(42, 63, 95); fill-opacity: 1; white-space: pre; opacity: 1;\">1980</text></g><g class=\"xtick\"><text text-anchor=\"start\" x=\"0\" y=\"433\" transform=\"translate(416.18,0) rotate(90,0,427)\" style=\"font-family: 'Open Sans', verdana, arial, sans-serif; font-size: 12px; fill: rgb(42, 63, 95); fill-opacity: 1; white-space: pre; opacity: 1;\">1983</text></g><g class=\"xtick\"><text text-anchor=\"start\" x=\"0\" y=\"433\" transform=\"translate(432.06,0) rotate(90,0,427)\" style=\"font-family: 'Open Sans', verdana, arial, sans-serif; font-size: 12px; fill: rgb(42, 63, 95); fill-opacity: 1; white-space: pre; opacity: 1;\">1986</text></g><g class=\"xtick\"><text text-anchor=\"start\" x=\"0\" y=\"433\" transform=\"translate(447.94,0) rotate(90,0,427)\" style=\"font-family: 'Open Sans', verdana, arial, sans-serif; font-size: 12px; fill: rgb(42, 63, 95); fill-opacity: 1; white-space: pre; opacity: 1;\">1989</text></g><g class=\"xtick\"><text text-anchor=\"start\" x=\"0\" y=\"433\" transform=\"translate(463.82,0) rotate(90,0,427)\" style=\"font-family: 'Open Sans', verdana, arial, sans-serif; font-size: 12px; fill: rgb(42, 63, 95); fill-opacity: 1; white-space: pre; opacity: 1;\">1992</text></g><g class=\"xtick\"><text text-anchor=\"start\" x=\"0\" y=\"433\" transform=\"translate(479.71,0) rotate(90,0,427)\" style=\"font-family: 'Open Sans', verdana, arial, sans-serif; font-size: 12px; fill: rgb(42, 63, 95); fill-opacity: 1; white-space: pre; opacity: 1;\">1995</text></g><g class=\"xtick\"><text text-anchor=\"start\" x=\"0\" y=\"433\" transform=\"translate(495.59,0) rotate(90,0,427)\" style=\"font-family: 'Open Sans', verdana, arial, sans-serif; font-size: 12px; fill: rgb(42, 63, 95); fill-opacity: 1; white-space: pre; opacity: 1;\">1998</text></g><g class=\"xtick\"><text text-anchor=\"start\" x=\"0\" y=\"433\" transform=\"translate(511.47,0) rotate(90,0,427)\" style=\"font-family: 'Open Sans', verdana, arial, sans-serif; font-size: 12px; fill: rgb(42, 63, 95); fill-opacity: 1; white-space: pre; opacity: 1;\">2001</text></g><g class=\"xtick\"><text text-anchor=\"start\" x=\"0\" y=\"433\" transform=\"translate(527.35,0) rotate(90,0,427)\" style=\"font-family: 'Open Sans', verdana, arial, sans-serif; font-size: 12px; fill: rgb(42, 63, 95); fill-opacity: 1; white-space: pre; opacity: 1;\">2004</text></g><g class=\"xtick\"><text text-anchor=\"start\" x=\"0\" y=\"433\" transform=\"translate(543.24,0) rotate(90,0,427)\" style=\"font-family: 'Open Sans', verdana, arial, sans-serif; font-size: 12px; fill: rgb(42, 63, 95); fill-opacity: 1; white-space: pre; opacity: 1;\">2007</text></g><g class=\"xtick\"><text text-anchor=\"start\" x=\"0\" y=\"433\" transform=\"translate(559.12,0) rotate(90,0,427)\" style=\"font-family: 'Open Sans', verdana, arial, sans-serif; font-size: 12px; fill: rgb(42, 63, 95); fill-opacity: 1; white-space: pre; opacity: 1;\">2010</text></g><g class=\"xtick\"><text text-anchor=\"start\" x=\"0\" y=\"433\" transform=\"translate(575,0) rotate(90,0,427)\" style=\"font-family: 'Open Sans', verdana, arial, sans-serif; font-size: 12px; fill: rgb(42, 63, 95); fill-opacity: 1; white-space: pre; opacity: 1;\">2013</text></g><g class=\"xtick\"><text text-anchor=\"start\" x=\"0\" y=\"433\" transform=\"translate(590.88,0) rotate(90,0,427)\" style=\"font-family: 'Open Sans', verdana, arial, sans-serif; font-size: 12px; fill: rgb(42, 63, 95); fill-opacity: 1; white-space: pre; opacity: 1;\">2016</text></g><g class=\"xtick\"><text text-anchor=\"start\" x=\"0\" y=\"433\" transform=\"translate(606.76,0) rotate(90,0,427)\" style=\"font-family: 'Open Sans', verdana, arial, sans-serif; font-size: 12px; fill: rgb(42, 63, 95); fill-opacity: 1; white-space: pre; opacity: 1;\">2019</text></g></g><g class=\"yaxislayer-above\"><g class=\"ytick\"><text text-anchor=\"end\" x=\"79\" y=\"4.199999999999999\" transform=\"translate(0,420)\" style=\"font-family: 'Open Sans', verdana, arial, sans-serif; font-size: 12px; fill: rgb(42, 63, 95); fill-opacity: 1; white-space: pre; opacity: 1;\">0</text></g><g class=\"ytick\"><text text-anchor=\"end\" x=\"79\" y=\"4.199999999999999\" style=\"font-family: 'Open Sans', verdana, arial, sans-serif; font-size: 12px; fill: rgb(42, 63, 95); fill-opacity: 1; white-space: pre; opacity: 1;\" transform=\"translate(0,360.16)\">50</text></g><g class=\"ytick\"><text text-anchor=\"end\" x=\"79\" y=\"4.199999999999999\" style=\"font-family: 'Open Sans', verdana, arial, sans-serif; font-size: 12px; fill: rgb(42, 63, 95); fill-opacity: 1; white-space: pre; opacity: 1;\" transform=\"translate(0,300.31)\">100</text></g><g class=\"ytick\"><text text-anchor=\"end\" x=\"79\" y=\"4.199999999999999\" style=\"font-family: 'Open Sans', verdana, arial, sans-serif; font-size: 12px; fill: rgb(42, 63, 95); fill-opacity: 1; white-space: pre; opacity: 1;\" transform=\"translate(0,240.47)\">150</text></g><g class=\"ytick\"><text text-anchor=\"end\" x=\"79\" y=\"4.199999999999999\" style=\"font-family: 'Open Sans', verdana, arial, sans-serif; font-size: 12px; fill: rgb(42, 63, 95); fill-opacity: 1; white-space: pre; opacity: 1;\" transform=\"translate(0,180.63)\">200</text></g><g class=\"ytick\"><text text-anchor=\"end\" x=\"79\" y=\"4.199999999999999\" style=\"font-family: 'Open Sans', verdana, arial, sans-serif; font-size: 12px; fill: rgb(42, 63, 95); fill-opacity: 1; white-space: pre; opacity: 1;\" transform=\"translate(0,120.78999999999999)\">250</text></g></g><g class=\"overaxes-above\"/></g></g><g class=\"polarlayer\"/><g class=\"smithlayer\"/><g class=\"ternarylayer\"/><g class=\"geolayer\"/><g class=\"funnelarealayer\"/><g class=\"pielayer\"/><g class=\"iciclelayer\"/><g class=\"treemaplayer\"/><g class=\"sunburstlayer\"/><g class=\"glimages\"/><defs id=\"topdefs-682f3f\"><g class=\"clips\"/></defs><g class=\"layer-above\"><g class=\"imagelayer\"/><g class=\"shapelayer\"/></g><g class=\"infolayer\"><g class=\"g-gtitle\"><text class=\"gtitle\" x=\"35\" y=\"50\" text-anchor=\"start\" dy=\"0em\" style=\"font-family: 'Open Sans', verdana, arial, sans-serif; font-size: 17px; fill: rgb(42, 63, 95); opacity: 1; font-weight: normal; white-space: pre;\">Number of movies premiered each year</text></g><g class=\"g-xtitle\"><text class=\"xtitle\" x=\"350\" y=\"482.315625\" text-anchor=\"middle\" style=\"font-family: 'Open Sans', verdana, arial, sans-serif; font-size: 14px; fill: rgb(42, 63, 95); opacity: 1; font-weight: normal; white-space: pre;\">startYear</text></g><g class=\"g-ytitle\"><text class=\"ytitle\" transform=\"rotate(-90,31.309375000000003,260)\" x=\"31.309375000000003\" y=\"260\" text-anchor=\"middle\" style=\"font-family: 'Open Sans', verdana, arial, sans-serif; font-size: 14px; fill: rgb(42, 63, 95); opacity: 1; font-weight: normal; white-space: pre;\">total</text></g></g></svg>"
      ]
     },
     "metadata": {},
     "output_type": "display_data"
    }
   ],
   "source": [
    "fig = px.bar(res_ydist, x=\"startYear\", y=\"total\", title=\"Number of movies premiered each year\")\n",
    "fig.show(renderer=\"svg\")"
   ]
  },
  {
   "cell_type": "markdown",
   "id": "4093429c",
   "metadata": {},
   "source": [
    "**Who are the most prolific actors/actresses?**"
   ]
  },
  {
   "cell_type": "code",
   "execution_count": 13,
   "id": "5c74a144",
   "metadata": {},
   "outputs": [
    {
     "name": "stdout",
     "output_type": "stream",
     "text": [
      " * sqlite:///imdbmini.db\n",
      "Done.\n"
     ]
    },
    {
     "data": {
      "text/html": [
       "<table>\n",
       "    <thead>\n",
       "        <tr>\n",
       "            <th>name</th>\n",
       "            <th>total</th>\n",
       "        </tr>\n",
       "    </thead>\n",
       "    <tbody>\n",
       "        <tr>\n",
       "            <td>Robert De Niro</td>\n",
       "            <td>64</td>\n",
       "        </tr>\n",
       "        <tr>\n",
       "            <td>Samuel L. Jackson</td>\n",
       "            <td>54</td>\n",
       "        </tr>\n",
       "        <tr>\n",
       "            <td>Nicolas Cage</td>\n",
       "            <td>53</td>\n",
       "        </tr>\n",
       "        <tr>\n",
       "            <td>Bruce Willis</td>\n",
       "            <td>49</td>\n",
       "        </tr>\n",
       "        <tr>\n",
       "            <td>Tom Hanks</td>\n",
       "            <td>46</td>\n",
       "        </tr>\n",
       "        <tr>\n",
       "            <td>Johnny Depp</td>\n",
       "            <td>43</td>\n",
       "        </tr>\n",
       "        <tr>\n",
       "            <td>Mark Wahlberg</td>\n",
       "            <td>41</td>\n",
       "        </tr>\n",
       "        <tr>\n",
       "            <td>Morgan Freeman</td>\n",
       "            <td>40</td>\n",
       "        </tr>\n",
       "        <tr>\n",
       "            <td>Liam Neeson</td>\n",
       "            <td>40</td>\n",
       "        </tr>\n",
       "        <tr>\n",
       "            <td>Sylvester Stallone</td>\n",
       "            <td>39</td>\n",
       "        </tr>\n",
       "    </tbody>\n",
       "</table>"
      ],
      "text/plain": [
       "[('Robert De Niro', 64),\n",
       " ('Samuel L. Jackson', 54),\n",
       " ('Nicolas Cage', 53),\n",
       " ('Bruce Willis', 49),\n",
       " ('Tom Hanks', 46),\n",
       " ('Johnny Depp', 43),\n",
       " ('Mark Wahlberg', 41),\n",
       " ('Morgan Freeman', 40),\n",
       " ('Liam Neeson', 40),\n",
       " ('Sylvester Stallone', 39)]"
      ]
     },
     "execution_count": 13,
     "metadata": {},
     "output_type": "execute_result"
    }
   ],
   "source": [
    "%%sql\n",
    "SELECT primaryName AS name, COUNT(*) AS total\n",
    "FROM Name\n",
    "INNER JOIN Role ON Name.nconst = Role.nconst\n",
    "INNER JOIN Title ON Title.tconst = Role.tconst\n",
    "WHERE (category = \"actor\" OR category = \"actress\") AND titleType = \"movie\"\n",
    "GROUP BY primaryName\n",
    "ORDER BY total DESC\n",
    "LIMIT 10;"
   ]
  },
  {
   "cell_type": "markdown",
   "id": "29753f21",
   "metadata": {},
   "source": [
    "**What are the top 10 highest rated movies?**"
   ]
  },
  {
   "cell_type": "code",
   "execution_count": 14,
   "id": "ed9ca106",
   "metadata": {
    "scrolled": true
   },
   "outputs": [
    {
     "name": "stdout",
     "output_type": "stream",
     "text": [
      " * sqlite:///imdbmini.db\n",
      "Done.\n"
     ]
    },
    {
     "data": {
      "text/html": [
       "<table>\n",
       "    <thead>\n",
       "        <tr>\n",
       "            <th>title</th>\n",
       "            <th>numVotes</th>\n",
       "            <th>averageRating</th>\n",
       "        </tr>\n",
       "    </thead>\n",
       "    <tbody>\n",
       "        <tr>\n",
       "            <td>The Shawshank Redemption</td>\n",
       "            <td>2462686</td>\n",
       "            <td>9.3</td>\n",
       "        </tr>\n",
       "        <tr>\n",
       "            <td>The Dark Knight</td>\n",
       "            <td>2417875</td>\n",
       "            <td>9.0</td>\n",
       "        </tr>\n",
       "        <tr>\n",
       "            <td>Inception</td>\n",
       "            <td>2169255</td>\n",
       "            <td>8.8</td>\n",
       "        </tr>\n",
       "        <tr>\n",
       "            <td>Fight Club</td>\n",
       "            <td>1939312</td>\n",
       "            <td>8.8</td>\n",
       "        </tr>\n",
       "        <tr>\n",
       "            <td>Pulp Fiction</td>\n",
       "            <td>1907561</td>\n",
       "            <td>8.9</td>\n",
       "        </tr>\n",
       "        <tr>\n",
       "            <td>Forrest Gump</td>\n",
       "            <td>1903969</td>\n",
       "            <td>8.8</td>\n",
       "        </tr>\n",
       "        <tr>\n",
       "            <td>Game of Thrones</td>\n",
       "            <td>1874040</td>\n",
       "            <td>9.2</td>\n",
       "        </tr>\n",
       "        <tr>\n",
       "            <td>The Matrix</td>\n",
       "            <td>1756469</td>\n",
       "            <td>8.7</td>\n",
       "        </tr>\n",
       "        <tr>\n",
       "            <td>The Lord of the Rings: The Fellowship of the Ring</td>\n",
       "            <td>1730296</td>\n",
       "            <td>8.8</td>\n",
       "        </tr>\n",
       "        <tr>\n",
       "            <td>The Lord of the Rings: The Return of the King</td>\n",
       "            <td>1709023</td>\n",
       "            <td>8.9</td>\n",
       "        </tr>\n",
       "    </tbody>\n",
       "</table>"
      ],
      "text/plain": [
       "[('The Shawshank Redemption', 2462686, '9.3'),\n",
       " ('The Dark Knight', 2417875, '9.0'),\n",
       " ('Inception', 2169255, '8.8'),\n",
       " ('Fight Club', 1939312, '8.8'),\n",
       " ('Pulp Fiction', 1907561, '8.9'),\n",
       " ('Forrest Gump', 1903969, '8.8'),\n",
       " ('Game of Thrones', 1874040, '9.2'),\n",
       " ('The Matrix', 1756469, '8.7'),\n",
       " ('The Lord of the Rings: The Fellowship of the Ring', 1730296, '8.8'),\n",
       " ('The Lord of the Rings: The Return of the King', 1709023, '8.9')]"
      ]
     },
     "execution_count": 14,
     "metadata": {},
     "output_type": "execute_result"
    }
   ],
   "source": [
    "%%sql\n",
    "SELECT primaryTitle AS title, \n",
    "    CAST(Rating.numVotes AS int) AS numVotes, \n",
    "    averageRating\n",
    "FROM Rating\n",
    "JOIN Title\n",
    "ON Rating.tconst = Title.tconst\n",
    "ORDER BY numVotes DESC\n",
    "LIMIT 10;"
   ]
  },
  {
   "cell_type": "markdown",
   "id": "93e7b817",
   "metadata": {},
   "source": [
    "### What about Harry Potter Movies ? \n",
    "#### How many movies, when were they made, how long are they?"
   ]
  },
  {
   "cell_type": "markdown",
   "id": "caec62c6",
   "metadata": {},
   "source": [
    "FYI: I do NOT consider \"Fantastic Beasts\" as belonging with Harry Potter..."
   ]
  },
  {
   "cell_type": "code",
   "execution_count": 15,
   "id": "ae5e61cd",
   "metadata": {},
   "outputs": [
    {
     "name": "stdout",
     "output_type": "stream",
     "text": [
      " * sqlite:///imdbmini.db\n",
      "Done.\n"
     ]
    },
    {
     "data": {
      "text/html": [
       "<table>\n",
       "    <thead>\n",
       "        <tr>\n",
       "            <th>id</th>\n",
       "            <th>titleType</th>\n",
       "            <th>movieName</th>\n",
       "            <th>yearMade</th>\n",
       "            <th>runtimeMinutes</th>\n",
       "        </tr>\n",
       "    </thead>\n",
       "    <tbody>\n",
       "        <tr>\n",
       "            <td>241527</td>\n",
       "            <td>movie</td>\n",
       "            <td>Harry Potter and the Sorcerer&#x27;s Stone</td>\n",
       "            <td>2001</td>\n",
       "            <td>152</td>\n",
       "        </tr>\n",
       "        <tr>\n",
       "            <td>295297</td>\n",
       "            <td>movie</td>\n",
       "            <td>Harry Potter and the Chamber of Secrets</td>\n",
       "            <td>2002</td>\n",
       "            <td>161</td>\n",
       "        </tr>\n",
       "        <tr>\n",
       "            <td>304141</td>\n",
       "            <td>movie</td>\n",
       "            <td>Harry Potter and the Prisoner of Azkaban</td>\n",
       "            <td>2004</td>\n",
       "            <td>142</td>\n",
       "        </tr>\n",
       "        <tr>\n",
       "            <td>330373</td>\n",
       "            <td>movie</td>\n",
       "            <td>Harry Potter and the Goblet of Fire</td>\n",
       "            <td>2005</td>\n",
       "            <td>157</td>\n",
       "        </tr>\n",
       "        <tr>\n",
       "            <td>373889</td>\n",
       "            <td>movie</td>\n",
       "            <td>Harry Potter and the Order of the Phoenix</td>\n",
       "            <td>2007</td>\n",
       "            <td>138</td>\n",
       "        </tr>\n",
       "        <tr>\n",
       "            <td>417741</td>\n",
       "            <td>movie</td>\n",
       "            <td>Harry Potter and the Half-Blood Prince</td>\n",
       "            <td>2009</td>\n",
       "            <td>153</td>\n",
       "        </tr>\n",
       "        <tr>\n",
       "            <td>926084</td>\n",
       "            <td>movie</td>\n",
       "            <td>Harry Potter and the Deathly Hallows: Part 1</td>\n",
       "            <td>2010</td>\n",
       "            <td>146</td>\n",
       "        </tr>\n",
       "        <tr>\n",
       "            <td>1201607</td>\n",
       "            <td>movie</td>\n",
       "            <td>Harry Potter and the Deathly Hallows: Part 2</td>\n",
       "            <td>2011</td>\n",
       "            <td>130</td>\n",
       "        </tr>\n",
       "    </tbody>\n",
       "</table>"
      ],
      "text/plain": [
       "[(241527, 'movie', \"Harry Potter and the Sorcerer's Stone\", '2001', '152'),\n",
       " (295297, 'movie', 'Harry Potter and the Chamber of Secrets', '2002', '161'),\n",
       " (304141, 'movie', 'Harry Potter and the Prisoner of Azkaban', '2004', '142'),\n",
       " (330373, 'movie', 'Harry Potter and the Goblet of Fire', '2005', '157'),\n",
       " (373889, 'movie', 'Harry Potter and the Order of the Phoenix', '2007', '138'),\n",
       " (417741, 'movie', 'Harry Potter and the Half-Blood Prince', '2009', '153'),\n",
       " (926084, 'movie', 'Harry Potter and the Deathly Hallows: Part 1', '2010', '146'),\n",
       " (1201607, 'movie', 'Harry Potter and the Deathly Hallows: Part 2', '2011', '130')]"
      ]
     },
     "execution_count": 15,
     "metadata": {},
     "output_type": "execute_result"
    }
   ],
   "source": [
    "%%sql\n",
    "SELECT tconst AS id,\n",
    "    titleType, \n",
    "    primaryTitle AS movieName, \n",
    "    startYear AS yearMade, \n",
    "    runtimeMinutes FROM Title\n",
    "WHERE primaryTitle LIKE '%Harry%' AND primaryTitle LIKE '%Potter%';"
   ]
  },
  {
   "cell_type": "markdown",
   "id": "bcfe78b3",
   "metadata": {},
   "source": [
    "### Im going to deep-dive into my favorite genre:  Sci-Fi Drama "
   ]
  },
  {
   "cell_type": "markdown",
   "id": "d39f2369",
   "metadata": {},
   "source": [
    "### problem:\n",
    "The genres column applies multiple genres to every movie. This makes it ***really hard*** to specify a unique singular genre type as every unique instance of a list of genres is \"distinct\". "
   ]
  },
  {
   "cell_type": "code",
   "execution_count": 16,
   "id": "98404bca",
   "metadata": {},
   "outputs": [
    {
     "name": "stdout",
     "output_type": "stream",
     "text": [
      " * sqlite:///imdbmini.db\n",
      "Done.\n"
     ]
    },
    {
     "data": {
      "text/html": [
       "<table>\n",
       "    <thead>\n",
       "        <tr>\n",
       "            <th>genres</th>\n",
       "        </tr>\n",
       "    </thead>\n",
       "    <tbody>\n",
       "        <tr>\n",
       "            <td>Drama,History,War</td>\n",
       "        </tr>\n",
       "        <tr>\n",
       "            <td>Fantasy,Horror,Mystery</td>\n",
       "        </tr>\n",
       "        <tr>\n",
       "            <td>Comedy,Drama,Family</td>\n",
       "        </tr>\n",
       "        <tr>\n",
       "            <td>Fantasy,Horror</td>\n",
       "        </tr>\n",
       "        <tr>\n",
       "            <td>Action,Comedy,Romance</td>\n",
       "        </tr>\n",
       "    </tbody>\n",
       "</table>"
      ],
      "text/plain": [
       "[('Drama,History,War',),\n",
       " ('Fantasy,Horror,Mystery',),\n",
       " ('Comedy,Drama,Family',),\n",
       " ('Fantasy,Horror',),\n",
       " ('Action,Comedy,Romance',)]"
      ]
     },
     "execution_count": 16,
     "metadata": {},
     "output_type": "execute_result"
    }
   ],
   "source": [
    "%%sql\n",
    "SELECT DISTINCT genres\n",
    "FROM Title\n",
    "WHERE titleType = \"movie\"\n",
    "LIMIT 5;"
   ]
  },
  {
   "cell_type": "code",
   "execution_count": 17,
   "id": "19ec4674",
   "metadata": {
    "scrolled": true
   },
   "outputs": [
    {
     "name": "stdout",
     "output_type": "stream",
     "text": [
      " * sqlite:///imdbmini.db\n",
      "Done.\n",
      "Returning data to local variable genre_sql\n"
     ]
    }
   ],
   "source": [
    "%%sql genre_sql <<\n",
    "SELECT * FROM Title;"
   ]
  },
  {
   "cell_type": "code",
   "execution_count": 18,
   "id": "f6b3a2b7",
   "metadata": {
    "scrolled": true
   },
   "outputs": [
    {
     "data": {
      "text/plain": [
       "['Action',\n",
       " 'Adventure',\n",
       " 'Comedy',\n",
       " 'Drama',\n",
       " 'History',\n",
       " 'War',\n",
       " 'Fantasy',\n",
       " 'Horror',\n",
       " 'Mystery',\n",
       " 'Family',\n",
       " 'Romance',\n",
       " 'Thriller',\n",
       " 'Sci-Fi',\n",
       " 'Biography',\n",
       " 'Documentary',\n",
       " 'Music',\n",
       " 'Short',\n",
       " 'Crime',\n",
       " 'Musical',\n",
       " 'Animation',\n",
       " 'Film-Noir',\n",
       " 'Western',\n",
       " 'Sport',\n",
       " 'News',\n",
       " 'Talk-Show',\n",
       " 'Game-Show',\n",
       " 'Reality-TV']"
      ]
     },
     "execution_count": 18,
     "metadata": {},
     "output_type": "execute_result"
    }
   ],
   "source": [
    "genre_df = genre_sql.DataFrame()\n",
    "\n",
    "#pythonically\n",
    "#genre_list = []\n",
    "#genre_list = [word for sentence in genre_df[\"genres\"].str.split(\",\") \n",
    "#                  for word in sentence \n",
    "#                      if word not in genre_list]\n",
    "#genre_list\n",
    "\n",
    "#iteratively\n",
    "genres_list = []\n",
    "type(genre_df[\"genres\"][0])\n",
    "\n",
    "for i in genre_df[\"genres\"].str.split(\",\"):\n",
    "    for j in i:\n",
    "        if j not in genres_list: \n",
    "            genres_list.append(j)\n",
    "\n",
    "genres_list"
   ]
  },
  {
   "cell_type": "markdown",
   "id": "0c0bda9f",
   "metadata": {},
   "source": [
    "Now I have a list of genres names to work with.\n",
    "\n",
    "### new problem: most movies are tagged as having multiple genres, skewing results of individual genres. It's better to work with multiple genres."
   ]
  },
  {
   "cell_type": "code",
   "execution_count": 19,
   "id": "191244af",
   "metadata": {},
   "outputs": [
    {
     "name": "stdout",
     "output_type": "stream",
     "text": [
      " * sqlite:///imdbmini.db\n",
      "Done.\n"
     ]
    },
    {
     "data": {
      "text/html": [
       "<table>\n",
       "    <thead>\n",
       "        <tr>\n",
       "            <th>genres</th>\n",
       "            <th>count</th>\n",
       "        </tr>\n",
       "    </thead>\n",
       "    <tbody>\n",
       "        <tr>\n",
       "            <td>Drama</td>\n",
       "            <td>209</td>\n",
       "        </tr>\n",
       "        <tr>\n",
       "            <td>Comedy</td>\n",
       "            <td>181</td>\n",
       "        </tr>\n",
       "        <tr>\n",
       "            <td>Horror</td>\n",
       "            <td>52</td>\n",
       "        </tr>\n",
       "        <tr>\n",
       "            <td>Documentary</td>\n",
       "            <td>16</td>\n",
       "        </tr>\n",
       "        <tr>\n",
       "            <td>Thriller</td>\n",
       "            <td>7</td>\n",
       "        </tr>\n",
       "        <tr>\n",
       "            <td>Western</td>\n",
       "            <td>4</td>\n",
       "        </tr>\n",
       "        <tr>\n",
       "            <td>Action</td>\n",
       "            <td>3</td>\n",
       "        </tr>\n",
       "    </tbody>\n",
       "</table>"
      ],
      "text/plain": [
       "[('Drama', 209),\n",
       " ('Comedy', 181),\n",
       " ('Horror', 52),\n",
       " ('Documentary', 16),\n",
       " ('Thriller', 7),\n",
       " ('Western', 4),\n",
       " ('Action', 3)]"
      ]
     },
     "execution_count": 19,
     "metadata": {},
     "output_type": "execute_result"
    }
   ],
   "source": [
    "%%sql\n",
    "SELECT genres, COUNT(*) AS count\n",
    "FROM Title\n",
    "WHERE genres NOT LIKE \"%,%\" AND titleType = \"movie\"\n",
    "GROUP BY genres\n",
    "ORDER BY count DESC;"
   ]
  },
  {
   "cell_type": "markdown",
   "id": "b65c0a9c",
   "metadata": {},
   "source": [
    "Im going to now explore the data accounting for the fact that multiple genres are tagged."
   ]
  },
  {
   "cell_type": "markdown",
   "id": "09af0f7e",
   "metadata": {},
   "source": [
    "#### What are the top-rated Sci-Drama movies of all time (within range)? "
   ]
  },
  {
   "cell_type": "code",
   "execution_count": 20,
   "id": "60894a22",
   "metadata": {
    "scrolled": true
   },
   "outputs": [
    {
     "name": "stdout",
     "output_type": "stream",
     "text": [
      " * sqlite:///imdbmini.db\n",
      "Done.\n"
     ]
    },
    {
     "data": {
      "text/html": [
       "<table>\n",
       "    <thead>\n",
       "        <tr>\n",
       "            <th>id</th>\n",
       "            <th>title</th>\n",
       "            <th>titleType</th>\n",
       "            <th>genres</th>\n",
       "            <th>year</th>\n",
       "            <th>rating</th>\n",
       "            <th>numRatings</th>\n",
       "        </tr>\n",
       "    </thead>\n",
       "    <tbody>\n",
       "        <tr>\n",
       "            <td>816692</td>\n",
       "            <td>Interstellar</td>\n",
       "            <td>movie</td>\n",
       "            <td>Adventure,Drama,Sci-Fi</td>\n",
       "            <td>2014</td>\n",
       "            <td>8.6</td>\n",
       "            <td>1613897</td>\n",
       "        </tr>\n",
       "        <tr>\n",
       "            <td>482571</td>\n",
       "            <td>The Prestige</td>\n",
       "            <td>movie</td>\n",
       "            <td>Drama,Mystery,Sci-Fi</td>\n",
       "            <td>2006</td>\n",
       "            <td>8.5</td>\n",
       "            <td>1244379</td>\n",
       "        </tr>\n",
       "        <tr>\n",
       "            <td>434409</td>\n",
       "            <td>V for Vendetta</td>\n",
       "            <td>movie</td>\n",
       "            <td>Action,Drama,Sci-Fi</td>\n",
       "            <td>2005</td>\n",
       "            <td>8.1</td>\n",
       "            <td>1065965</td>\n",
       "        </tr>\n",
       "        <tr>\n",
       "            <td>338013</td>\n",
       "            <td>Eternal Sunshine of the Spotless Mind</td>\n",
       "            <td>movie</td>\n",
       "            <td>Drama,Romance,Sci-Fi</td>\n",
       "            <td>2004</td>\n",
       "            <td>8.3</td>\n",
       "            <td>948018</td>\n",
       "        </tr>\n",
       "        <tr>\n",
       "            <td>3659388</td>\n",
       "            <td>The Martian</td>\n",
       "            <td>movie</td>\n",
       "            <td>Adventure,Drama,Sci-Fi</td>\n",
       "            <td>2015</td>\n",
       "            <td>8.0</td>\n",
       "            <td>794444</td>\n",
       "        </tr>\n",
       "    </tbody>\n",
       "</table>"
      ],
      "text/plain": [
       "[(816692, 'Interstellar', 'movie', 'Adventure,Drama,Sci-Fi', 2014, 8.6, 1613897),\n",
       " (482571, 'The Prestige', 'movie', 'Drama,Mystery,Sci-Fi', 2006, 8.5, 1244379),\n",
       " (434409, 'V for Vendetta', 'movie', 'Action,Drama,Sci-Fi', 2005, 8.1, 1065965),\n",
       " (338013, 'Eternal Sunshine of the Spotless Mind', 'movie', 'Drama,Romance,Sci-Fi', 2004, 8.3, 948018),\n",
       " (3659388, 'The Martian', 'movie', 'Adventure,Drama,Sci-Fi', 2015, 8.0, 794444)]"
      ]
     },
     "execution_count": 20,
     "metadata": {},
     "output_type": "execute_result"
    }
   ],
   "source": [
    "%%sql \n",
    "SELECT T.tconst AS id,\n",
    "  primaryTitle AS title, \n",
    "  titleType,\n",
    "  genres,\n",
    "  CAST(startYear AS int) AS year,\n",
    "  CAST(averageRating AS float) AS rating,\n",
    "  CAST(numVotes AS int) AS numRatings  \n",
    "FROM Title AS T INNER JOIN Rating AS R ON T.tconst = R.tconst\n",
    "WHERE year > 0     -- get rid of missing values --\n",
    "      AND titleType = \"movie\"\n",
    "      AND genres LIKE \"%Sci-Fi%\" AND genres LIKE \"%DRAMA%\"\n",
    "ORDER BY numRatings DESC\n",
    "LIMIT 5;"
   ]
  },
  {
   "cell_type": "markdown",
   "id": "18856031",
   "metadata": {},
   "source": [
    "### As of today (2024) the ratings have changed! \n",
    "Remember this dataset was collected from 2021, so I've accounted for that in this [IMDB](https://www.imdb.com/search/title/?title_type=feature&genres=sci-fi,drama&release_date=,2022-01-01&sort=num_votes,desc) search. But naturally, 3 years of additional ratings have shifted things.\n",
    "\n",
    "It looks like \"Avengers: Endgame\" has gone up to 3rd place, shifting  \"V for Vendetta\", \"Eternal Sunshine of the Spotless Mind\" & \"The Martian\" down."
   ]
  },
  {
   "cell_type": "markdown",
   "id": "1f9567ec",
   "metadata": {},
   "source": [
    "<center>\n",
    "<img alt=\"top5scidrammoves\" src=\"top5scidram.png\" width=\"500px;\" />\n",
    "</center>"
   ]
  },
  {
   "cell_type": "markdown",
   "id": "936a8993",
   "metadata": {},
   "source": [
    "### Diving deeper into Sci-Fi Dramas"
   ]
  },
  {
   "cell_type": "markdown",
   "id": "b6f8aaff",
   "metadata": {},
   "source": [
    "#### Im going to convert this into a Python dataframe so that I can explore it a bit more"
   ]
  },
  {
   "cell_type": "code",
   "execution_count": 21,
   "id": "77157b62",
   "metadata": {},
   "outputs": [
    {
     "name": "stdout",
     "output_type": "stream",
     "text": [
      " * sqlite:///imdbmini.db\n",
      "Done.\n",
      "Returning data to local variable sdram_movies_sql\n"
     ]
    }
   ],
   "source": [
    "%%sql sdram_movies_sql <<\n",
    "SELECT T.tconst AS id,\n",
    "  CAST(startYear AS int) AS year,\n",
    "  primaryTitle AS title, \n",
    "  CAST(averageRating AS float) AS rating,\n",
    "  CAST(numVotes AS int) AS numRatings\n",
    "FROM Title AS T INNER JOIN Rating AS R ON T.tconst = R.tconst\n",
    "WHERE year > 0     -- get rid of missing values --\n",
    "      AND titleType = \"movie\"\n",
    "      AND genres LIKE \"%Sci-Fi%\" AND genres LIKE \"%Drama%\"\n",
    "ORDER BY numRatings DESC;"
   ]
  },
  {
   "cell_type": "code",
   "execution_count": 22,
   "id": "f55452db",
   "metadata": {
    "scrolled": true
   },
   "outputs": [
    {
     "data": {
      "text/html": [
       "<div>\n",
       "<style scoped>\n",
       "    .dataframe tbody tr th:only-of-type {\n",
       "        vertical-align: middle;\n",
       "    }\n",
       "\n",
       "    .dataframe tbody tr th {\n",
       "        vertical-align: top;\n",
       "    }\n",
       "\n",
       "    .dataframe thead th {\n",
       "        text-align: right;\n",
       "    }\n",
       "</style>\n",
       "<table border=\"1\" class=\"dataframe\">\n",
       "  <thead>\n",
       "    <tr style=\"text-align: right;\">\n",
       "      <th></th>\n",
       "      <th>id</th>\n",
       "      <th>year</th>\n",
       "      <th>title</th>\n",
       "      <th>rating</th>\n",
       "      <th>numRatings</th>\n",
       "    </tr>\n",
       "  </thead>\n",
       "  <tbody>\n",
       "    <tr>\n",
       "      <th>0</th>\n",
       "      <td>816692</td>\n",
       "      <td>2014</td>\n",
       "      <td>Interstellar</td>\n",
       "      <td>8.6</td>\n",
       "      <td>1613897</td>\n",
       "    </tr>\n",
       "    <tr>\n",
       "      <th>1</th>\n",
       "      <td>482571</td>\n",
       "      <td>2006</td>\n",
       "      <td>The Prestige</td>\n",
       "      <td>8.5</td>\n",
       "      <td>1244379</td>\n",
       "    </tr>\n",
       "    <tr>\n",
       "      <th>2</th>\n",
       "      <td>434409</td>\n",
       "      <td>2005</td>\n",
       "      <td>V for Vendetta</td>\n",
       "      <td>8.1</td>\n",
       "      <td>1065965</td>\n",
       "    </tr>\n",
       "    <tr>\n",
       "      <th>3</th>\n",
       "      <td>338013</td>\n",
       "      <td>2004</td>\n",
       "      <td>Eternal Sunshine of the Spotless Mind</td>\n",
       "      <td>8.3</td>\n",
       "      <td>948018</td>\n",
       "    </tr>\n",
       "    <tr>\n",
       "      <th>4</th>\n",
       "      <td>3659388</td>\n",
       "      <td>2015</td>\n",
       "      <td>The Martian</td>\n",
       "      <td>8.0</td>\n",
       "      <td>794444</td>\n",
       "    </tr>\n",
       "  </tbody>\n",
       "</table>\n",
       "</div>"
      ],
      "text/plain": [
       "        id  year                                  title  rating  numRatings\n",
       "0   816692  2014                           Interstellar     8.6     1613897\n",
       "1   482571  2006                           The Prestige     8.5     1244379\n",
       "2   434409  2005                         V for Vendetta     8.1     1065965\n",
       "3   338013  2004  Eternal Sunshine of the Spotless Mind     8.3      948018\n",
       "4  3659388  2015                            The Martian     8.0      794444"
      ]
     },
     "execution_count": 22,
     "metadata": {},
     "output_type": "execute_result"
    }
   ],
   "source": [
    "sdram_df = sdram_movies_sql.DataFrame()\n",
    "sdram_df.head()"
   ]
  },
  {
   "cell_type": "markdown",
   "id": "6427a7d0",
   "metadata": {},
   "source": [
    "### Average Ratings for Sci-Fi Drama movies across time"
   ]
  },
  {
   "cell_type": "code",
   "execution_count": 23,
   "id": "60adbc63",
   "metadata": {},
   "outputs": [
    {
     "data": {
      "image/png": "[encoded data removed]",
      "text/plain": [
       "<Figure size 640x480 with 1 Axes>"
      ]
     },
     "metadata": {},
     "output_type": "display_data"
    }
   ],
   "source": [
    "sns.lineplot(data=sdram_df, x=\"year\", y=\"rating\");"
   ]
  },
  {
   "cell_type": "code",
   "execution_count": 24,
   "id": "d657ec8e",
   "metadata": {
    "scrolled": true
   },
   "outputs": [
    {
     "data": {
      "image/svg+xml": [
       "<svg class=\"main-svg\" xmlns=\"http://www.w3.org/2000/svg\" xmlns:xlink=\"http://www.w3.org/1999/xlink\" width=\"700\" height=\"500\" style=\"\" viewBox=\"0 0 700 500\"><rect x=\"0\" y=\"0\" width=\"700\" height=\"500\" style=\"fill: rgb(255, 255, 255); fill-opacity: 1;\"/><defs id=\"defs-1b96dc\"><g class=\"clips\"><clipPath id=\"clip1b96dcxyplot\" class=\"plotclip\"><rect width=\"522\" height=\"320\"/></clipPath><clipPath class=\"axesclip\" id=\"clip1b96dcx\"><rect x=\"80\" y=\"0\" width=\"522\" height=\"500\"/></clipPath><clipPath class=\"axesclip\" id=\"clip1b96dcy\"><rect x=\"0\" y=\"100\" width=\"700\" height=\"320\"/></clipPath><clipPath class=\"axesclip\" id=\"clip1b96dcxy\"><rect x=\"80\" y=\"100\" width=\"522\" height=\"320\"/></clipPath></g><g class=\"gradients\"/><g class=\"patterns\"/></defs><g class=\"bglayer\"><rect class=\"bg\" x=\"80\" y=\"100\" width=\"522\" height=\"320\" style=\"fill: rgb(229, 236, 246); fill-opacity: 1; stroke-width: 0;\"/></g><g class=\"layer-below\"><g class=\"imagelayer\"/><g class=\"shapelayer\"/></g><g class=\"cartesianlayer\"><g class=\"subplot xy\"><g class=\"layer-subplot\"><g class=\"shapelayer\"/><g class=\"imagelayer\"/></g><g class=\"minor-gridlayer\"><g class=\"x\"/><g class=\"y\"/></g><g class=\"gridlayer\"><g class=\"x\"/><g class=\"y\"><path class=\"ygrid crisp\" transform=\"translate(0,368.88)\" d=\"M80,0h522\" style=\"stroke: rgb(255, 255, 255); stroke-opacity: 1; stroke-width: 1px;\"/><path class=\"ygrid crisp\" transform=\"translate(0,298.63)\" d=\"M80,0h522\" style=\"stroke: rgb(255, 255, 255); stroke-opacity: 1; stroke-width: 1px;\"/><path class=\"ygrid crisp\" transform=\"translate(0,228.39)\" d=\"M80,0h522\" style=\"stroke: rgb(255, 255, 255); stroke-opacity: 1; stroke-width: 1px;\"/><path class=\"ygrid crisp\" transform=\"translate(0,158.15)\" d=\"M80,0h522\" style=\"stroke: rgb(255, 255, 255); stroke-opacity: 1; stroke-width: 1px;\"/></g></g><g class=\"zerolinelayer\"/><path class=\"xlines-below\"/><path class=\"ylines-below\"/><g class=\"overlines-below\"/><g class=\"xaxislayer-below\"/><g class=\"yaxislayer-below\"/><g class=\"overaxes-below\"/><g class=\"plot\" transform=\"translate(80,100)\" clip-path=\"url(#clip1b96dcxyplot)\"><g class=\"boxlayer mlayer\"><g class=\"trace boxes\" style=\"opacity: 1;\"><path class=\"box\" d=\"M439.19,156.49H462.44M439.19,191.61H462.44V116.1H439.19ZM450.82,191.61V289.95M450.82,116.1V16M445.01,289.95H456.63M445.01,16H456.63\" style=\"vector-effect: non-scaling-stroke; stroke-width: 2px; stroke: rgb(99, 110, 250); stroke-opacity: 1; fill: rgb(99, 110, 250); fill-opacity: 0.5;\"/><g class=\"points\"/></g><g class=\"trace boxes\" style=\"opacity: 1;\"><path class=\"box\" d=\"M391.74,156.49H414.99M391.74,207.41H414.99V100.29H391.74ZM403.36,207.41V304M403.36,100.29V23.02M397.55,304H409.18M397.55,23.02H409.18\" style=\"vector-effect: non-scaling-stroke; stroke-width: 2px; stroke: rgb(239, 85, 59); stroke-opacity: 1; fill: rgb(239, 85, 59); fill-opacity: 0.5;\"/><g class=\"points\"/></g><g class=\"trace boxes\" style=\"opacity: 1;\"><path class=\"box\" d=\"M249.37,128.39H272.63M249.37,149.46H272.63V51.12H249.37ZM261,149.46V163.51M261,51.12V37.07M255.19,163.51H266.81M255.19,37.07H266.81\" style=\"vector-effect: non-scaling-stroke; stroke-width: 2px; stroke: rgb(0, 204, 150); stroke-opacity: 1; fill: rgb(0, 204, 150); fill-opacity: 0.5;\"/><g class=\"points\"/></g><g class=\"trace boxes\" style=\"opacity: 1;\"><path class=\"box\" d=\"M344.28,167.02H367.54M344.28,219.71H367.54V114.34H344.28ZM355.91,219.71V240.78M355.91,114.34V72.2M350.1,240.78H361.72M350.1,72.2H361.72\" style=\"vector-effect: non-scaling-stroke; stroke-width: 2px; stroke: rgb(171, 99, 250); stroke-opacity: 1; fill: rgb(171, 99, 250); fill-opacity: 0.5;\"/><g class=\"points\"/></g><g class=\"trace boxes\" style=\"opacity: 1;\"><path class=\"box\" d=\"M296.83,121.37H320.08M296.83,147.71H320.08V93.27H296.83ZM308.45,147.71V149.46M308.45,93.27V65.17M302.64,149.46H314.27M302.64,65.17H314.27\" style=\"vector-effect: non-scaling-stroke; stroke-width: 2px; stroke: rgb(255, 161, 90); stroke-opacity: 1; fill: rgb(255, 161, 90); fill-opacity: 0.5;\"/><g class=\"points\"><path class=\"point\" transform=\"translate(308.45,261.85)\" d=\"M3,0A3,3 0 1,1 0,-3A3,3 0 0,1 3,0Z\" style=\"opacity: 1; stroke-width: 0px; fill: rgb(255, 161, 90); fill-opacity: 1;\"/></g></g><g class=\"trace boxes\" style=\"opacity: 1;\"><path class=\"box\" d=\"M12.1,37.07H35.35M12.1,37.07H35.35V37.07H12.1ZM23.73,37.07V37.07M23.73,37.07V37.07M17.91,37.07H29.54M17.91,37.07H29.54\" style=\"vector-effect: non-scaling-stroke; stroke-width: 2px; stroke: rgb(25, 211, 243); stroke-opacity: 1; fill: rgb(25, 211, 243); fill-opacity: 0.5;\"/><g class=\"points\"/></g><g class=\"trace boxes\" style=\"opacity: 1;\"><path class=\"box\" d=\"M486.65,191.61H509.9M486.65,226.73H509.9V107.32H486.65ZM498.27,226.73V226.73M498.27,107.32V23.02M492.46,226.73H504.09M492.46,23.02H504.09\" style=\"vector-effect: non-scaling-stroke; stroke-width: 2px; stroke: rgb(255, 102, 146); stroke-opacity: 1; fill: rgb(255, 102, 146); fill-opacity: 0.5;\"/><g class=\"points\"/></g><g class=\"trace boxes\" style=\"opacity: 1;\"><path class=\"box\" d=\"M154.46,80.22H177.72M154.46,110.83H177.72V79.22H154.46ZM166.09,110.83V121.37M166.09,79.22V79.22M160.28,121.37H171.9M160.28,79.22H171.9\" style=\"vector-effect: non-scaling-stroke; stroke-width: 2px; stroke: rgb(182, 232, 128); stroke-opacity: 1; fill: rgb(182, 232, 128); fill-opacity: 0.5;\"/><g class=\"points\"/></g><g class=\"trace boxes\" style=\"opacity: 1;\"><path class=\"box\" d=\"M59.56,72.2H82.81M59.56,72.2H82.81V72.2H59.56ZM71.18,72.2V72.2M71.18,72.2V72.2M65.37,72.2H76.99M65.37,72.2H76.99\" style=\"vector-effect: non-scaling-stroke; stroke-width: 2px; stroke: rgb(255, 151, 255); stroke-opacity: 1; fill: rgb(255, 151, 255); fill-opacity: 0.5;\"/><g class=\"points\"/></g><g class=\"trace boxes\" style=\"opacity: 1;\"><path class=\"box\" d=\"M201.92,117.85H225.17M201.92,121.37H225.17V114.34H201.92ZM213.55,121.37V121.37M213.55,114.34V114.34M207.73,121.37H219.36M207.73,114.34H219.36\" style=\"vector-effect: non-scaling-stroke; stroke-width: 2px; stroke: rgb(254, 203, 82); stroke-opacity: 1; fill: rgb(254, 203, 82); fill-opacity: 0.5;\"/><g class=\"points\"/></g></g></g><g class=\"overplot\"/><path class=\"xlines-above crisp\" d=\"M0,0\" style=\"fill: none;\"/><path class=\"ylines-above crisp\" d=\"M0,0\" style=\"fill: none;\"/><g class=\"overlines-above\"/><g class=\"xaxislayer-above\"><g class=\"xtick\"><text text-anchor=\"middle\" x=\"0\" y=\"433\" transform=\"translate(103.73,0)\" style=\"font-family: 'Open Sans', verdana, arial, sans-serif; font-size: 12px; fill: rgb(42, 63, 95); fill-opacity: 1; white-space: pre; opacity: 1;\">1920</text></g><g class=\"xtick\"><text text-anchor=\"middle\" x=\"0\" y=\"433\" style=\"font-family: 'Open Sans', verdana, arial, sans-serif; font-size: 12px; fill: rgb(42, 63, 95); fill-opacity: 1; white-space: pre; opacity: 1;\" transform=\"translate(198.64,0)\">1940</text></g><g class=\"xtick\"><text text-anchor=\"middle\" x=\"0\" y=\"433\" style=\"font-family: 'Open Sans', verdana, arial, sans-serif; font-size: 12px; fill: rgb(42, 63, 95); fill-opacity: 1; white-space: pre; opacity: 1;\" transform=\"translate(293.55,0)\">1960</text></g><g class=\"xtick\"><text text-anchor=\"middle\" x=\"0\" y=\"433\" style=\"font-family: 'Open Sans', verdana, arial, sans-serif; font-size: 12px; fill: rgb(42, 63, 95); fill-opacity: 1; white-space: pre; opacity: 1;\" transform=\"translate(388.45,0)\">1980</text></g><g class=\"xtick\"><text text-anchor=\"middle\" x=\"0\" y=\"433\" style=\"font-family: 'Open Sans', verdana, arial, sans-serif; font-size: 12px; fill: rgb(42, 63, 95); fill-opacity: 1; white-space: pre; opacity: 1;\" transform=\"translate(483.36,0)\">2000</text></g><g class=\"xtick\"><text text-anchor=\"middle\" x=\"0\" y=\"433\" style=\"font-family: 'Open Sans', verdana, arial, sans-serif; font-size: 12px; fill: rgb(42, 63, 95); fill-opacity: 1; white-space: pre; opacity: 1;\" transform=\"translate(578.27,0)\">2020</text></g></g><g class=\"yaxislayer-above\"><g class=\"ytick\"><text text-anchor=\"end\" x=\"79\" y=\"4.199999999999999\" transform=\"translate(0,368.88)\" style=\"font-family: 'Open Sans', verdana, arial, sans-serif; font-size: 12px; fill: rgb(42, 63, 95); fill-opacity: 1; white-space: pre; opacity: 1;\">5</text></g><g class=\"ytick\"><text text-anchor=\"end\" x=\"79\" y=\"4.199999999999999\" style=\"font-family: 'Open Sans', verdana, arial, sans-serif; font-size: 12px; fill: rgb(42, 63, 95); fill-opacity: 1; white-space: pre; opacity: 1;\" transform=\"translate(0,298.63)\">6</text></g><g class=\"ytick\"><text text-anchor=\"end\" x=\"79\" y=\"4.199999999999999\" style=\"font-family: 'Open Sans', verdana, arial, sans-serif; font-size: 12px; fill: rgb(42, 63, 95); fill-opacity: 1; white-space: pre; opacity: 1;\" transform=\"translate(0,228.39)\">7</text></g><g class=\"ytick\"><text text-anchor=\"end\" x=\"79\" y=\"4.199999999999999\" style=\"font-family: 'Open Sans', verdana, arial, sans-serif; font-size: 12px; fill: rgb(42, 63, 95); fill-opacity: 1; white-space: pre; opacity: 1;\" transform=\"translate(0,158.15)\">8</text></g></g><g class=\"overaxes-above\"/></g></g><g class=\"polarlayer\"/><g class=\"smithlayer\"/><g class=\"ternarylayer\"/><g class=\"geolayer\"/><g class=\"funnelarealayer\"/><g class=\"pielayer\"/><g class=\"iciclelayer\"/><g class=\"treemaplayer\"/><g class=\"sunburstlayer\"/><g class=\"glimages\"/><defs id=\"topdefs-1b96dc\"><g class=\"clips\"/><clipPath id=\"legend1b96dc\"><rect width=\"76\" height=\"219\" x=\"0\" y=\"0\"/></clipPath></defs><g class=\"layer-above\"><g class=\"imagelayer\"/><g class=\"shapelayer\"/></g><g class=\"infolayer\"><g class=\"legend\" pointer-events=\"all\" transform=\"translate(612.44,100)\"><rect class=\"bg\" shape-rendering=\"crispEdges\" style=\"stroke: rgb(68, 68, 68); stroke-opacity: 1; fill: rgb(255, 255, 255); fill-opacity: 1; stroke-width: 0px;\" width=\"76\" height=\"219\" x=\"0\" y=\"0\"/><g class=\"scrollbox\" transform=\"\" clip-path=\"url(#legend1b96dc)\"><text class=\"legendtitletext\" text-anchor=\"start\" x=\"2\" y=\"18.2\" style=\"font-family: 'Open Sans', verdana, arial, sans-serif; font-size: 14px; fill: rgb(42, 63, 95); fill-opacity: 1; white-space: pre;\">decade</text><g class=\"groups\" transform=\"\"><g class=\"traces\" transform=\"translate(0,32.7)\" style=\"opacity: 1;\"><text class=\"legendtext\" text-anchor=\"start\" x=\"40\" y=\"4.680000000000001\" style=\"font-family: 'Open Sans', verdana, arial, sans-serif; font-size: 12px; fill: rgb(42, 63, 95); fill-opacity: 1; white-space: pre;\">2010</text><g class=\"layers\" style=\"opacity: 1;\"><g class=\"legendfill\"/><g class=\"legendlines\"/><g class=\"legendsymbols\"><g class=\"legendpoints\"><path class=\"legendbox\" d=\"M6,6H-6V-6H6Z\" transform=\"translate(20,0)\" style=\"stroke-width: 2px; fill: rgb(99, 110, 250); fill-opacity: 0.5; stroke: rgb(99, 110, 250); stroke-opacity: 1;\"/></g></g></g><rect class=\"legendtoggle\" x=\"0\" y=\"-9.5\" width=\"70.515625\" height=\"19\" style=\"fill: rgb(0, 0, 0); fill-opacity: 0;\"/></g></g><g class=\"groups\" transform=\"\"><g class=\"traces\" transform=\"translate(0,51.7)\" style=\"opacity: 1;\"><text class=\"legendtext\" text-anchor=\"start\" x=\"40\" y=\"4.680000000000001\" style=\"font-family: 'Open Sans', verdana, arial, sans-serif; font-size: 12px; fill: rgb(42, 63, 95); fill-opacity: 1; white-space: pre;\">2000</text><g class=\"layers\" style=\"opacity: 1;\"><g class=\"legendfill\"/><g class=\"legendlines\"/><g class=\"legendsymbols\"><g class=\"legendpoints\"><path class=\"legendbox\" d=\"M6,6H-6V-6H6Z\" transform=\"translate(20,0)\" style=\"stroke-width: 2px; fill: rgb(239, 85, 59); fill-opacity: 0.5; stroke: rgb(239, 85, 59); stroke-opacity: 1;\"/></g></g></g><rect class=\"legendtoggle\" x=\"0\" y=\"-9.5\" width=\"70.515625\" height=\"19\" style=\"fill: rgb(0, 0, 0); fill-opacity: 0;\"/></g></g><g class=\"groups\" transform=\"\"><g class=\"traces\" transform=\"translate(0,70.7)\" style=\"opacity: 1;\"><text class=\"legendtext\" text-anchor=\"start\" x=\"40\" y=\"4.680000000000001\" style=\"font-family: 'Open Sans', verdana, arial, sans-serif; font-size: 12px; fill: rgb(42, 63, 95); fill-opacity: 1; white-space: pre;\">1970</text><g class=\"layers\" style=\"opacity: 1;\"><g class=\"legendfill\"/><g class=\"legendlines\"/><g class=\"legendsymbols\"><g class=\"legendpoints\"><path class=\"legendbox\" d=\"M6,6H-6V-6H6Z\" transform=\"translate(20,0)\" style=\"stroke-width: 2px; fill: rgb(0, 204, 150); fill-opacity: 0.5; stroke: rgb(0, 204, 150); stroke-opacity: 1;\"/></g></g></g><rect class=\"legendtoggle\" x=\"0\" y=\"-9.5\" width=\"70.515625\" height=\"19\" style=\"fill: rgb(0, 0, 0); fill-opacity: 0;\"/></g></g><g class=\"groups\" transform=\"\"><g class=\"traces\" transform=\"translate(0,89.7)\" style=\"opacity: 1;\"><text class=\"legendtext\" text-anchor=\"start\" x=\"40\" y=\"4.680000000000001\" style=\"font-family: 'Open Sans', verdana, arial, sans-serif; font-size: 12px; fill: rgb(42, 63, 95); fill-opacity: 1; white-space: pre;\">1990</text><g class=\"layers\" style=\"opacity: 1;\"><g class=\"legendfill\"/><g class=\"legendlines\"/><g class=\"legendsymbols\"><g class=\"legendpoints\"><path class=\"legendbox\" d=\"M6,6H-6V-6H6Z\" transform=\"translate(20,0)\" style=\"stroke-width: 2px; fill: rgb(171, 99, 250); fill-opacity: 0.5; stroke: rgb(171, 99, 250); stroke-opacity: 1;\"/></g></g></g><rect class=\"legendtoggle\" x=\"0\" y=\"-9.5\" width=\"70.515625\" height=\"19\" style=\"fill: rgb(0, 0, 0); fill-opacity: 0;\"/></g></g><g class=\"groups\" transform=\"\"><g class=\"traces\" transform=\"translate(0,108.7)\" style=\"opacity: 1;\"><text class=\"legendtext\" text-anchor=\"start\" x=\"40\" y=\"4.680000000000001\" style=\"font-family: 'Open Sans', verdana, arial, sans-serif; font-size: 12px; fill: rgb(42, 63, 95); fill-opacity: 1; white-space: pre;\">1980</text><g class=\"layers\" style=\"opacity: 1;\"><g class=\"legendfill\"/><g class=\"legendlines\"/><g class=\"legendsymbols\"><g class=\"legendpoints\"><path class=\"legendbox\" d=\"M6,6H-6V-6H6Z\" transform=\"translate(20,0)\" style=\"stroke-width: 2px; fill: rgb(255, 161, 90); fill-opacity: 0.5; stroke: rgb(255, 161, 90); stroke-opacity: 1;\"/></g></g></g><rect class=\"legendtoggle\" x=\"0\" y=\"-9.5\" width=\"70.515625\" height=\"19\" style=\"fill: rgb(0, 0, 0); fill-opacity: 0;\"/></g></g><g class=\"groups\" transform=\"\"><g class=\"traces\" transform=\"translate(0,127.7)\" style=\"opacity: 1;\"><text class=\"legendtext\" text-anchor=\"start\" x=\"40\" y=\"4.680000000000001\" style=\"font-family: 'Open Sans', verdana, arial, sans-serif; font-size: 12px; fill: rgb(42, 63, 95); fill-opacity: 1; white-space: pre;\">1920</text><g class=\"layers\" style=\"opacity: 1;\"><g class=\"legendfill\"/><g class=\"legendlines\"/><g class=\"legendsymbols\"><g class=\"legendpoints\"><path class=\"legendbox\" d=\"M6,6H-6V-6H6Z\" transform=\"translate(20,0)\" style=\"stroke-width: 2px; fill: rgb(25, 211, 243); fill-opacity: 0.5; stroke: rgb(25, 211, 243); stroke-opacity: 1;\"/></g></g></g><rect class=\"legendtoggle\" x=\"0\" y=\"-9.5\" width=\"70.515625\" height=\"19\" style=\"fill: rgb(0, 0, 0); fill-opacity: 0;\"/></g></g><g class=\"groups\" transform=\"\"><g class=\"traces\" transform=\"translate(0,146.7)\" style=\"opacity: 1;\"><text class=\"legendtext\" text-anchor=\"start\" x=\"40\" y=\"4.680000000000001\" style=\"font-family: 'Open Sans', verdana, arial, sans-serif; font-size: 12px; fill: rgb(42, 63, 95); fill-opacity: 1; white-space: pre;\">2020</text><g class=\"layers\" style=\"opacity: 1;\"><g class=\"legendfill\"/><g class=\"legendlines\"/><g class=\"legendsymbols\"><g class=\"legendpoints\"><path class=\"legendbox\" d=\"M6,6H-6V-6H6Z\" transform=\"translate(20,0)\" style=\"stroke-width: 2px; fill: rgb(255, 102, 146); fill-opacity: 0.5; stroke: rgb(255, 102, 146); stroke-opacity: 1;\"/></g></g></g><rect class=\"legendtoggle\" x=\"0\" y=\"-9.5\" width=\"70.515625\" height=\"19\" style=\"fill: rgb(0, 0, 0); fill-opacity: 0;\"/></g></g><g class=\"groups\" transform=\"\"><g class=\"traces\" transform=\"translate(0,165.7)\" style=\"opacity: 1;\"><text class=\"legendtext\" text-anchor=\"start\" x=\"40\" y=\"4.680000000000001\" style=\"font-family: 'Open Sans', verdana, arial, sans-serif; font-size: 12px; fill: rgb(42, 63, 95); fill-opacity: 1; white-space: pre;\">1950</text><g class=\"layers\" style=\"opacity: 1;\"><g class=\"legendfill\"/><g class=\"legendlines\"/><g class=\"legendsymbols\"><g class=\"legendpoints\"><path class=\"legendbox\" d=\"M6,6H-6V-6H6Z\" transform=\"translate(20,0)\" style=\"stroke-width: 2px; fill: rgb(182, 232, 128); fill-opacity: 0.5; stroke: rgb(182, 232, 128); stroke-opacity: 1;\"/></g></g></g><rect class=\"legendtoggle\" x=\"0\" y=\"-9.5\" width=\"70.515625\" height=\"19\" style=\"fill: rgb(0, 0, 0); fill-opacity: 0;\"/></g></g><g class=\"groups\" transform=\"\"><g class=\"traces\" transform=\"translate(0,184.7)\" style=\"opacity: 1;\"><text class=\"legendtext\" text-anchor=\"start\" x=\"40\" y=\"4.680000000000001\" style=\"font-family: 'Open Sans', verdana, arial, sans-serif; font-size: 12px; fill: rgb(42, 63, 95); fill-opacity: 1; white-space: pre;\">1930</text><g class=\"layers\" style=\"opacity: 1;\"><g class=\"legendfill\"/><g class=\"legendlines\"/><g class=\"legendsymbols\"><g class=\"legendpoints\"><path class=\"legendbox\" d=\"M6,6H-6V-6H6Z\" transform=\"translate(20,0)\" style=\"stroke-width: 2px; fill: rgb(255, 151, 255); fill-opacity: 0.5; stroke: rgb(255, 151, 255); stroke-opacity: 1;\"/></g></g></g><rect class=\"legendtoggle\" x=\"0\" y=\"-9.5\" width=\"70.515625\" height=\"19\" style=\"fill: rgb(0, 0, 0); fill-opacity: 0;\"/></g></g><g class=\"groups\" transform=\"\"><g class=\"traces\" transform=\"translate(0,203.7)\" style=\"opacity: 1;\"><text class=\"legendtext\" text-anchor=\"start\" x=\"40\" y=\"4.680000000000001\" style=\"font-family: 'Open Sans', verdana, arial, sans-serif; font-size: 12px; fill: rgb(42, 63, 95); fill-opacity: 1; white-space: pre;\">1960</text><g class=\"layers\" style=\"opacity: 1;\"><g class=\"legendfill\"/><g class=\"legendlines\"/><g class=\"legendsymbols\"><g class=\"legendpoints\"><path class=\"legendbox\" d=\"M6,6H-6V-6H6Z\" transform=\"translate(20,0)\" style=\"stroke-width: 2px; fill: rgb(254, 203, 82); fill-opacity: 0.5; stroke: rgb(254, 203, 82); stroke-opacity: 1;\"/></g></g></g><rect class=\"legendtoggle\" x=\"0\" y=\"-9.5\" width=\"70.515625\" height=\"19\" style=\"fill: rgb(0, 0, 0); fill-opacity: 0;\"/></g></g></g><rect class=\"scrollbar\" rx=\"20\" ry=\"3\" width=\"0\" height=\"0\" style=\"fill: rgb(128, 139, 164); fill-opacity: 1;\" x=\"0\" y=\"0\"/></g><g class=\"g-gtitle\"><text class=\"gtitle\" x=\"35\" y=\"50\" text-anchor=\"start\" dy=\"0em\" style=\"font-family: 'Open Sans', verdana, arial, sans-serif; font-size: 17px; fill: rgb(42, 63, 95); opacity: 1; font-weight: normal; white-space: pre;\">Average Rating of SciFi-Drama Movies by Decade</text></g><g class=\"g-xtitle\"><text class=\"xtitle\" x=\"341\" y=\"460.3\" text-anchor=\"middle\" style=\"font-family: 'Open Sans', verdana, arial, sans-serif; font-size: 14px; fill: rgb(42, 63, 95); opacity: 1; font-weight: normal; white-space: pre;\">decade</text></g><g class=\"g-ytitle\"><text class=\"ytitle\" transform=\"rotate(-90,46.559375,260)\" x=\"46.559375\" y=\"260\" text-anchor=\"middle\" style=\"font-family: 'Open Sans', verdana, arial, sans-serif; font-size: 14px; fill: rgb(42, 63, 95); opacity: 1; font-weight: normal; white-space: pre;\">rating</text></g></g></svg>"
      ]
     },
     "metadata": {},
     "output_type": "display_data"
    }
   ],
   "source": [
    "sdram_df['decade'] = (sdram_df['year'] // 10) * 10\n",
    "fig = px.box(sdram_df, x = 'decade', y = 'rating', color = \"decade\", title=\n",
    "      \"Average Rating of SciFi-Drama Movies by Decade\")\n",
    "\n",
    "fig.show(renderer=\"svg\")"
   ]
  },
  {
   "cell_type": "markdown",
   "id": "1c9f140c",
   "metadata": {},
   "source": [
    "### What can we find out about the first spike right before the 1980s?\n"
   ]
  },
  {
   "cell_type": "markdown",
   "id": "6bd87957",
   "metadata": {},
   "source": [
    "Which **category** of **Sci-Fi movies** have the highest average ratings across all the movies in the 1970s-1980s? \n",
    "\n",
    "$$\n",
    "\\text{genreRating} = \n",
    "\\frac{\\sum_m \\text{averageRating}[m] * \\text{numVotes}[m]}{\\sum_m \\text{numVotes}[m]}\n",
    "$$"
   ]
  },
  {
   "cell_type": "code",
   "execution_count": 25,
   "id": "f5297503",
   "metadata": {
    "scrolled": true
   },
   "outputs": [
    {
     "name": "stdout",
     "output_type": "stream",
     "text": [
      " * sqlite:///imdbmini.db\n",
      "Done.\n"
     ]
    },
    {
     "data": {
      "text/html": [
       "<table>\n",
       "    <thead>\n",
       "        <tr>\n",
       "            <th>genre</th>\n",
       "            <th>genreRating</th>\n",
       "        </tr>\n",
       "    </thead>\n",
       "    <tbody>\n",
       "        <tr>\n",
       "            <td>Horror,Sci-Fi</td>\n",
       "            <td>8.240916267311826</td>\n",
       "        </tr>\n",
       "        <tr>\n",
       "            <td>Drama,Mystery,Sci-Fi</td>\n",
       "            <td>7.839297346784274</td>\n",
       "        </tr>\n",
       "        <tr>\n",
       "            <td>Drama,Sci-Fi</td>\n",
       "            <td>7.6407270571432395</td>\n",
       "        </tr>\n",
       "        <tr>\n",
       "            <td>Action,Adventure,Sci-Fi</td>\n",
       "            <td>6.664460068612673</td>\n",
       "        </tr>\n",
       "        <tr>\n",
       "            <td>Action,Sci-Fi</td>\n",
       "            <td>5.985656750035588</td>\n",
       "        </tr>\n",
       "    </tbody>\n",
       "</table>"
      ],
      "text/plain": [
       "[('Horror,Sci-Fi', 8.240916267311826),\n",
       " ('Drama,Mystery,Sci-Fi', 7.839297346784274),\n",
       " ('Drama,Sci-Fi', 7.6407270571432395),\n",
       " ('Action,Adventure,Sci-Fi', 6.664460068612673),\n",
       " ('Action,Sci-Fi', 5.985656750035588)]"
      ]
     },
     "execution_count": 25,
     "metadata": {},
     "output_type": "execute_result"
    }
   ],
   "source": [
    "%%sql\n",
    "\n",
    "SELECT genres AS genre, SUM((averageRating)*numVotes)/SUM(numVotes) AS genreRating\n",
    "FROM Name\n",
    "INNER JOIN Role ON Name.nconst = Role.nconst\n",
    "INNER JOIN Title ON Title.tconst = Role.tconst\n",
    "INNER JOIN Rating ON Title.tconst = Rating.tconst\n",
    "WHERE titleType = \"movie\"\n",
    "    AND genre LIKE \"%Sci-Fi%\"\n",
    "    AND CAST(numVotes AS int) > 1000\n",
    "    AND (startYear <= 1980 AND startYear > 1969)\n",
    "GROUP BY genre\n",
    "HAVING COUNT(*) >= 20 \n",
    "ORDER BY genreRating DESC\n",
    "LIMIT 5; \n"
   ]
  },
  {
   "cell_type": "markdown",
   "id": "1213d369-6f6d-451a-852b-2a6d0be0b417",
   "metadata": {},
   "source": [
    "### It seems like the 70s preferred Horror / Drama Sci-Fi"
   ]
  },
  {
   "cell_type": "code",
   "execution_count": 26,
   "id": "afb91b79-2692-44ce-b3b5-edf17c5646ba",
   "metadata": {},
   "outputs": [
    {
     "name": "stdout",
     "output_type": "stream",
     "text": [
      " * sqlite:///imdbmini.db\n",
      "Done.\n"
     ]
    },
    {
     "data": {
      "text/html": [
       "<table>\n",
       "    <thead>\n",
       "        <tr>\n",
       "            <th>id</th>\n",
       "            <th>year</th>\n",
       "            <th>title</th>\n",
       "            <th>genres</th>\n",
       "            <th>averageRating</th>\n",
       "            <th>numVotes</th>\n",
       "        </tr>\n",
       "    </thead>\n",
       "    <tbody>\n",
       "        <tr>\n",
       "            <td>78748</td>\n",
       "            <td>1979</td>\n",
       "            <td>Alien</td>\n",
       "            <td>Horror,Sci-Fi</td>\n",
       "            <td>8.4</td>\n",
       "            <td>822820</td>\n",
       "        </tr>\n",
       "        <tr>\n",
       "            <td>66921</td>\n",
       "            <td>1971</td>\n",
       "            <td>A Clockwork Orange</td>\n",
       "            <td>Crime,Drama,Sci-Fi</td>\n",
       "            <td>8.3</td>\n",
       "            <td>785475</td>\n",
       "        </tr>\n",
       "        <tr>\n",
       "            <td>69293</td>\n",
       "            <td>1972</td>\n",
       "            <td>Solaris</td>\n",
       "            <td>Drama,Mystery,Sci-Fi</td>\n",
       "            <td>8.1</td>\n",
       "            <td>86675</td>\n",
       "        </tr>\n",
       "        <tr>\n",
       "            <td>79944</td>\n",
       "            <td>1979</td>\n",
       "            <td>Stalker</td>\n",
       "            <td>Drama,Sci-Fi</td>\n",
       "            <td>8.1</td>\n",
       "            <td>125999</td>\n",
       "        </tr>\n",
       "        <tr>\n",
       "            <td>70544</td>\n",
       "            <td>1973</td>\n",
       "            <td>Fantastic Planet</td>\n",
       "            <td>Animation,Sci-Fi</td>\n",
       "            <td>7.8</td>\n",
       "            <td>28098</td>\n",
       "        </tr>\n",
       "    </tbody>\n",
       "</table>"
      ],
      "text/plain": [
       "[(78748, '1979', 'Alien', 'Horror,Sci-Fi', '8.4', '822820'),\n",
       " (66921, '1971', 'A Clockwork Orange', 'Crime,Drama,Sci-Fi', '8.3', '785475'),\n",
       " (69293, '1972', 'Solaris', 'Drama,Mystery,Sci-Fi', '8.1', '86675'),\n",
       " (79944, '1979', 'Stalker', 'Drama,Sci-Fi', '8.1', '125999'),\n",
       " (70544, '1973', 'Fantastic Planet', 'Animation,Sci-Fi', '7.8', '28098')]"
      ]
     },
     "execution_count": 26,
     "metadata": {},
     "output_type": "execute_result"
    }
   ],
   "source": [
    "%%sql \n",
    "SELECT T.tconst AS id,\n",
    "    startYear AS year,\n",
    "    primaryTitle AS title,\n",
    "    genres,\n",
    "    averageRating,\n",
    "    numVotes\n",
    "FROM Title AS T INNER JOIN Rating AS R ON T.tconst = R.tconst\n",
    "WHERE titleType = \"movie\"\n",
    "      AND startYear <= 1980 AND startYear > 1969\n",
    "      AND genres LIKE \"%Sci-Fi%\"     \n",
    "ORDER BY averageRating DESC\n",
    "LIMIT 5;"
   ]
  },
  {
   "cell_type": "markdown",
   "id": "8f8b214d",
   "metadata": {},
   "source": [
    "### It seems like the 80s preferred Adventure / Comedy Sci-Fi\n",
    "#### What were they watching?\n",
    "\n"
   ]
  },
  {
   "cell_type": "code",
   "execution_count": 27,
   "id": "6a4359be",
   "metadata": {
    "scrolled": true
   },
   "outputs": [
    {
     "name": "stdout",
     "output_type": "stream",
     "text": [
      " * sqlite:///imdbmini.db\n",
      "Done.\n"
     ]
    },
    {
     "data": {
      "text/html": [
       "<table>\n",
       "    <thead>\n",
       "        <tr>\n",
       "            <th>id</th>\n",
       "            <th>year</th>\n",
       "            <th>title</th>\n",
       "            <th>genres</th>\n",
       "            <th>averageRating</th>\n",
       "            <th>numVotes</th>\n",
       "        </tr>\n",
       "    </thead>\n",
       "    <tbody>\n",
       "        <tr>\n",
       "            <td>88763</td>\n",
       "            <td>1985</td>\n",
       "            <td>Back to the Future</td>\n",
       "            <td>Adventure,Comedy,Sci-Fi</td>\n",
       "            <td>8.5</td>\n",
       "            <td>1112320</td>\n",
       "        </tr>\n",
       "        <tr>\n",
       "            <td>90605</td>\n",
       "            <td>1986</td>\n",
       "            <td>Aliens</td>\n",
       "            <td>Action,Adventure,Sci-Fi</td>\n",
       "            <td>8.3</td>\n",
       "            <td>678152</td>\n",
       "        </tr>\n",
       "        <tr>\n",
       "            <td>83658</td>\n",
       "            <td>1982</td>\n",
       "            <td>Blade Runner</td>\n",
       "            <td>Action,Sci-Fi,Thriller</td>\n",
       "            <td>8.1</td>\n",
       "            <td>721364</td>\n",
       "        </tr>\n",
       "        <tr>\n",
       "            <td>84787</td>\n",
       "            <td>1982</td>\n",
       "            <td>The Thing</td>\n",
       "            <td>Horror,Mystery,Sci-Fi</td>\n",
       "            <td>8.1</td>\n",
       "            <td>390752</td>\n",
       "        </tr>\n",
       "        <tr>\n",
       "            <td>88247</td>\n",
       "            <td>1984</td>\n",
       "            <td>The Terminator</td>\n",
       "            <td>Action,Sci-Fi</td>\n",
       "            <td>8.0</td>\n",
       "            <td>820648</td>\n",
       "        </tr>\n",
       "    </tbody>\n",
       "</table>"
      ],
      "text/plain": [
       "[(88763, '1985', 'Back to the Future', 'Adventure,Comedy,Sci-Fi', '8.5', '1112320'),\n",
       " (90605, '1986', 'Aliens', 'Action,Adventure,Sci-Fi', '8.3', '678152'),\n",
       " (83658, '1982', 'Blade Runner', 'Action,Sci-Fi,Thriller', '8.1', '721364'),\n",
       " (84787, '1982', 'The Thing', 'Horror,Mystery,Sci-Fi', '8.1', '390752'),\n",
       " (88247, '1984', 'The Terminator', 'Action,Sci-Fi', '8.0', '820648')]"
      ]
     },
     "execution_count": 27,
     "metadata": {},
     "output_type": "execute_result"
    }
   ],
   "source": [
    "%%sql \n",
    "SELECT T.tconst AS id,\n",
    "    startYear AS year,\n",
    "    primaryTitle AS title,\n",
    "    genres,\n",
    "    averageRating,\n",
    "    numVotes\n",
    "FROM Title AS T INNER JOIN Rating AS R ON T.tconst = R.tconst\n",
    "WHERE titleType = \"movie\"\n",
    "      AND startYear <= 1990 AND startYear > 1979\n",
    "      AND genres LIKE \"%Sci-Fi%\"     \n",
    "ORDER BY averageRating DESC\n",
    "LIMIT 5;"
   ]
  },
  {
   "cell_type": "markdown",
   "id": "30bfc2a1",
   "metadata": {},
   "source": [
    "### How does this compare to other popular genres of the 80s ? "
   ]
  },
  {
   "cell_type": "code",
   "execution_count": 28,
   "id": "fb9d7949",
   "metadata": {},
   "outputs": [
    {
     "name": "stdout",
     "output_type": "stream",
     "text": [
      " * sqlite:///imdbmini.db\n",
      "Done.\n"
     ]
    },
    {
     "data": {
      "text/html": [
       "<table>\n",
       "    <thead>\n",
       "        <tr>\n",
       "            <th>genre</th>\n",
       "            <th>genreRating</th>\n",
       "        </tr>\n",
       "    </thead>\n",
       "    <tbody>\n",
       "        <tr>\n",
       "            <td>Biography,Crime,Drama</td>\n",
       "            <td>8.647548818814863</td>\n",
       "        </tr>\n",
       "        <tr>\n",
       "            <td>Drama,Horror</td>\n",
       "            <td>8.330405368695358</td>\n",
       "        </tr>\n",
       "        <tr>\n",
       "            <td>Drama,War</td>\n",
       "            <td>8.158557477117057</td>\n",
       "        </tr>\n",
       "        <tr>\n",
       "            <td>Adventure,Drama</td>\n",
       "            <td>8.100000000000001</td>\n",
       "        </tr>\n",
       "        <tr>\n",
       "            <td>Action,Adventure,Fantasy</td>\n",
       "            <td>8.058857547263708</td>\n",
       "        </tr>\n",
       "    </tbody>\n",
       "</table>"
      ],
      "text/plain": [
       "[('Biography,Crime,Drama', 8.647548818814863),\n",
       " ('Drama,Horror', 8.330405368695358),\n",
       " ('Drama,War', 8.158557477117057),\n",
       " ('Adventure,Drama', 8.100000000000001),\n",
       " ('Action,Adventure,Fantasy', 8.058857547263708)]"
      ]
     },
     "execution_count": 28,
     "metadata": {},
     "output_type": "execute_result"
    }
   ],
   "source": [
    "%%sql \n",
    "SELECT genres AS genre, SUM((averageRating)*numVotes)/SUM(numVotes) AS genreRating\n",
    "FROM Name\n",
    "INNER JOIN Role ON Name.nconst = Role.nconst\n",
    "INNER JOIN Title ON Title.tconst = Role.tconst\n",
    "INNER JOIN Rating ON Title.tconst = Rating.tconst\n",
    "WHERE titleType = \"movie\"\n",
    "    AND CAST(numVotes AS int) > 1000\n",
    "    AND (startYear <= 1990 AND startYear > 1979)\n",
    "GROUP BY genre\n",
    "HAVING COUNT(*) >= 20 \n",
    "ORDER BY genreRating DESC\n",
    "LIMIT 5; "
   ]
  },
  {
   "cell_type": "code",
   "execution_count": 29,
   "id": "8391b35d",
   "metadata": {},
   "outputs": [
    {
     "name": "stdout",
     "output_type": "stream",
     "text": [
      " * sqlite:///imdbmini.db\n",
      "Done.\n"
     ]
    },
    {
     "data": {
      "text/html": [
       "<table>\n",
       "    <thead>\n",
       "        <tr>\n",
       "            <th>id</th>\n",
       "            <th>year</th>\n",
       "            <th>title</th>\n",
       "            <th>genres</th>\n",
       "            <th>rating</th>\n",
       "            <th>numRatings</th>\n",
       "        </tr>\n",
       "    </thead>\n",
       "    <tbody>\n",
       "        <tr>\n",
       "            <td>99685</td>\n",
       "            <td>1990</td>\n",
       "            <td>Goodfellas</td>\n",
       "            <td>Biography,Crime,Drama</td>\n",
       "            <td>8.7</td>\n",
       "            <td>1069422</td>\n",
       "        </tr>\n",
       "        <tr>\n",
       "            <td>81505</td>\n",
       "            <td>1980</td>\n",
       "            <td>The Shining</td>\n",
       "            <td>Drama,Horror</td>\n",
       "            <td>8.4</td>\n",
       "            <td>941780</td>\n",
       "        </tr>\n",
       "        <tr>\n",
       "            <td>86250</td>\n",
       "            <td>1983</td>\n",
       "            <td>Scarface</td>\n",
       "            <td>Crime,Drama</td>\n",
       "            <td>8.3</td>\n",
       "            <td>777942</td>\n",
       "        </tr>\n",
       "        <tr>\n",
       "            <td>93058</td>\n",
       "            <td>1987</td>\n",
       "            <td>Full Metal Jacket</td>\n",
       "            <td>Drama,War</td>\n",
       "            <td>8.3</td>\n",
       "            <td>701160</td>\n",
       "        </tr>\n",
       "        <tr>\n",
       "            <td>95953</td>\n",
       "            <td>1988</td>\n",
       "            <td>Rain Man</td>\n",
       "            <td>Drama</td>\n",
       "            <td>8.0</td>\n",
       "            <td>489908</td>\n",
       "        </tr>\n",
       "    </tbody>\n",
       "</table>"
      ],
      "text/plain": [
       "[(99685, 1990, 'Goodfellas', 'Biography,Crime,Drama', 8.7, 1069422),\n",
       " (81505, 1980, 'The Shining', 'Drama,Horror', 8.4, 941780),\n",
       " (86250, 1983, 'Scarface', 'Crime,Drama', 8.3, 777942),\n",
       " (93058, 1987, 'Full Metal Jacket', 'Drama,War', 8.3, 701160),\n",
       " (95953, 1988, 'Rain Man', 'Drama', 8.0, 489908)]"
      ]
     },
     "execution_count": 29,
     "metadata": {},
     "output_type": "execute_result"
    }
   ],
   "source": [
    "%%sql  \n",
    "SELECT T.tconst AS id,\n",
    " CAST(startYear AS int) AS year,\n",
    "  primaryTitle AS title,\n",
    "  genres,\n",
    "  CAST(averageRating AS float) AS rating,\n",
    "  CAST(numVotes AS int) AS numRatings  \n",
    "FROM Title AS T INNER JOIN Rating AS R ON T.tconst = R.tconst\n",
    "WHERE (year <= 1990 AND year > 1979)\n",
    "      AND titleType = \"movie\"\n",
    "      AND genres LIKE \"%Drama%\" \n",
    "ORDER BY numRatings DESC\n",
    "LIMIT 5;"
   ]
  },
  {
   "cell_type": "code",
   "execution_count": null,
   "id": "a8a36cc0-f77b-43fc-b67b-dc04f8105eaa",
   "metadata": {},
   "outputs": [],
   "source": []
  },
  {
   "cell_type": "code",
   "execution_count": null,
   "id": "203f3118-d973-45e2-98fc-e09e1dcb757d",
   "metadata": {},
   "outputs": [],
   "source": []
  },
  {
   "cell_type": "code",
   "execution_count": 30,
   "id": "ab96455c-e764-4684-b51c-33b772560ed8",
   "metadata": {},
   "outputs": [],
   "source": [
    "#best movies of all time"
   ]
  },
  {
   "cell_type": "code",
   "execution_count": 31,
   "id": "76a5ecdf-3f3b-4527-af99-fe9a0bf6713e",
   "metadata": {},
   "outputs": [
    {
     "name": "stdout",
     "output_type": "stream",
     "text": [
      " * sqlite:///imdbmini.db\n",
      "Done.\n"
     ]
    },
    {
     "data": {
      "text/html": [
       "<table>\n",
       "    <thead>\n",
       "        <tr>\n",
       "            <th>id</th>\n",
       "            <th>year</th>\n",
       "            <th>title</th>\n",
       "            <th>genres</th>\n",
       "            <th>rating</th>\n",
       "            <th>numRatings</th>\n",
       "        </tr>\n",
       "    </thead>\n",
       "    <tbody>\n",
       "        <tr>\n",
       "            <td>80684</td>\n",
       "            <td>1980</td>\n",
       "            <td>Star Wars: Episode V - The Empire Strikes Back</td>\n",
       "            <td>Action,Adventure,Fantasy</td>\n",
       "            <td>8.7</td>\n",
       "            <td>1204594</td>\n",
       "        </tr>\n",
       "        <tr>\n",
       "            <td>88763</td>\n",
       "            <td>1985</td>\n",
       "            <td>Back to the Future</td>\n",
       "            <td>Adventure,Comedy,Sci-Fi</td>\n",
       "            <td>8.5</td>\n",
       "            <td>1112320</td>\n",
       "        </tr>\n",
       "        <tr>\n",
       "            <td>99685</td>\n",
       "            <td>1990</td>\n",
       "            <td>Goodfellas</td>\n",
       "            <td>Biography,Crime,Drama</td>\n",
       "            <td>8.7</td>\n",
       "            <td>1069422</td>\n",
       "        </tr>\n",
       "        <tr>\n",
       "            <td>86190</td>\n",
       "            <td>1983</td>\n",
       "            <td>Star Wars: Episode VI - Return of the Jedi</td>\n",
       "            <td>Action,Adventure,Fantasy</td>\n",
       "            <td>8.3</td>\n",
       "            <td>985787</td>\n",
       "        </tr>\n",
       "        <tr>\n",
       "            <td>81505</td>\n",
       "            <td>1980</td>\n",
       "            <td>The Shining</td>\n",
       "            <td>Drama,Horror</td>\n",
       "            <td>8.4</td>\n",
       "            <td>941780</td>\n",
       "        </tr>\n",
       "    </tbody>\n",
       "</table>"
      ],
      "text/plain": [
       "[(80684, 1980, 'Star Wars: Episode V - The Empire Strikes Back', 'Action,Adventure,Fantasy', 8.7, 1204594),\n",
       " (88763, 1985, 'Back to the Future', 'Adventure,Comedy,Sci-Fi', 8.5, 1112320),\n",
       " (99685, 1990, 'Goodfellas', 'Biography,Crime,Drama', 8.7, 1069422),\n",
       " (86190, 1983, 'Star Wars: Episode VI - Return of the Jedi', 'Action,Adventure,Fantasy', 8.3, 985787),\n",
       " (81505, 1980, 'The Shining', 'Drama,Horror', 8.4, 941780)]"
      ]
     },
     "execution_count": 31,
     "metadata": {},
     "output_type": "execute_result"
    }
   ],
   "source": [
    "%%sql  \n",
    "SELECT T.tconst AS id,\n",
    " CAST(startYear AS int) AS year,\n",
    "  primaryTitle AS title,\n",
    "  genres,\n",
    "  CAST(averageRating AS float) AS rating,\n",
    "  CAST(numVotes AS int) AS numRatings  \n",
    "FROM Title AS T INNER JOIN Rating AS R ON T.tconst = R.tconst\n",
    "WHERE (year <= 1990 AND year > 1979)\n",
    "      AND titleType = \"movie\"\n",
    "ORDER BY numRatings DESC\n",
    "LIMIT 5;"
   ]
  },
  {
   "cell_type": "code",
   "execution_count": null,
   "id": "a506db01-fe9a-4d86-8d86-5ec9d573822f",
   "metadata": {},
   "outputs": [],
   "source": []
  },
  {
   "cell_type": "code",
   "execution_count": null,
   "id": "62a93713-3f37-4a1b-87cf-79f59cf769d4",
   "metadata": {},
   "outputs": [],
   "source": []
  },
  {
   "cell_type": "markdown",
   "id": "569642aa",
   "metadata": {},
   "source": [
    " ## WIP: PCA & Clustering"
   ]
  },
  {
   "cell_type": "markdown",
   "id": "28b14184",
   "metadata": {},
   "source": [
    "### Classifying movies into a decade based on popularity in the genre."
   ]
  },
  {
   "cell_type": "code",
   "execution_count": 32,
   "id": "016a2472",
   "metadata": {},
   "outputs": [
    {
     "name": "stdout",
     "output_type": "stream",
     "text": [
      " * sqlite:///imdbmini.db\n",
      "Done.\n",
      "Returning data to local variable pca_pre_sql\n"
     ]
    }
   ],
   "source": [
    "%%sql pca_pre_sql <<\n",
    "SELECT *\n",
    "FROM Title \n",
    "JOIN Rating ON Title.tconst = Rating.tconst;"
   ]
  },
  {
   "cell_type": "code",
   "execution_count": 33,
   "id": "92359730",
   "metadata": {
    "scrolled": true
   },
   "outputs": [
    {
     "data": {
      "text/html": [
       "<div>\n",
       "<style scoped>\n",
       "    .dataframe tbody tr th:only-of-type {\n",
       "        vertical-align: middle;\n",
       "    }\n",
       "\n",
       "    .dataframe tbody tr th {\n",
       "        vertical-align: top;\n",
       "    }\n",
       "\n",
       "    .dataframe thead th {\n",
       "        text-align: right;\n",
       "    }\n",
       "</style>\n",
       "<table border=\"1\" class=\"dataframe\">\n",
       "  <thead>\n",
       "    <tr style=\"text-align: right;\">\n",
       "      <th></th>\n",
       "      <th>tconst</th>\n",
       "      <th>titleType</th>\n",
       "      <th>primaryTitle</th>\n",
       "      <th>originalTitle</th>\n",
       "      <th>isAdult</th>\n",
       "      <th>startYear</th>\n",
       "      <th>endYear</th>\n",
       "      <th>runtimeMinutes</th>\n",
       "      <th>genres</th>\n",
       "      <th>tconst</th>\n",
       "      <th>averageRating</th>\n",
       "      <th>numVotes</th>\n",
       "    </tr>\n",
       "  </thead>\n",
       "  <tbody>\n",
       "    <tr>\n",
       "      <th>0</th>\n",
       "      <td>417</td>\n",
       "      <td>short</td>\n",
       "      <td>A Trip to the Moon</td>\n",
       "      <td>Le voyage dans la lune</td>\n",
       "      <td>0</td>\n",
       "      <td>1902</td>\n",
       "      <td>None</td>\n",
       "      <td>13</td>\n",
       "      <td>Action,Adventure,Comedy</td>\n",
       "      <td>417</td>\n",
       "      <td>8.2</td>\n",
       "      <td>46382</td>\n",
       "    </tr>\n",
       "    <tr>\n",
       "      <th>1</th>\n",
       "      <td>4972</td>\n",
       "      <td>movie</td>\n",
       "      <td>The Birth of a Nation</td>\n",
       "      <td>The Birth of a Nation</td>\n",
       "      <td>0</td>\n",
       "      <td>1915</td>\n",
       "      <td>None</td>\n",
       "      <td>195</td>\n",
       "      <td>Drama,History,War</td>\n",
       "      <td>4972</td>\n",
       "      <td>6.3</td>\n",
       "      <td>23836</td>\n",
       "    </tr>\n",
       "    <tr>\n",
       "      <th>2</th>\n",
       "      <td>10323</td>\n",
       "      <td>movie</td>\n",
       "      <td>The Cabinet of Dr. Caligari</td>\n",
       "      <td>Das Cabinet des Dr. Caligari</td>\n",
       "      <td>0</td>\n",
       "      <td>1920</td>\n",
       "      <td>None</td>\n",
       "      <td>76</td>\n",
       "      <td>Fantasy,Horror,Mystery</td>\n",
       "      <td>10323</td>\n",
       "      <td>8.1</td>\n",
       "      <td>60244</td>\n",
       "    </tr>\n",
       "    <tr>\n",
       "      <th>3</th>\n",
       "      <td>12349</td>\n",
       "      <td>movie</td>\n",
       "      <td>The Kid</td>\n",
       "      <td>The Kid</td>\n",
       "      <td>0</td>\n",
       "      <td>1921</td>\n",
       "      <td>None</td>\n",
       "      <td>68</td>\n",
       "      <td>Comedy,Drama,Family</td>\n",
       "      <td>12349</td>\n",
       "      <td>8.3</td>\n",
       "      <td>120059</td>\n",
       "    </tr>\n",
       "    <tr>\n",
       "      <th>4</th>\n",
       "      <td>13442</td>\n",
       "      <td>movie</td>\n",
       "      <td>Nosferatu</td>\n",
       "      <td>Nosferatu, eine Symphonie des Grauens</td>\n",
       "      <td>0</td>\n",
       "      <td>1922</td>\n",
       "      <td>None</td>\n",
       "      <td>94</td>\n",
       "      <td>Fantasy,Horror</td>\n",
       "      <td>13442</td>\n",
       "      <td>7.9</td>\n",
       "      <td>92218</td>\n",
       "    </tr>\n",
       "  </tbody>\n",
       "</table>\n",
       "</div>"
      ],
      "text/plain": [
       "   tconst titleType                 primaryTitle  \\\n",
       "0     417     short           A Trip to the Moon   \n",
       "1    4972     movie        The Birth of a Nation   \n",
       "2   10323     movie  The Cabinet of Dr. Caligari   \n",
       "3   12349     movie                      The Kid   \n",
       "4   13442     movie                    Nosferatu   \n",
       "\n",
       "                           originalTitle isAdult startYear endYear  \\\n",
       "0                 Le voyage dans la lune       0      1902    None   \n",
       "1                  The Birth of a Nation       0      1915    None   \n",
       "2           Das Cabinet des Dr. Caligari       0      1920    None   \n",
       "3                                The Kid       0      1921    None   \n",
       "4  Nosferatu, eine Symphonie des Grauens       0      1922    None   \n",
       "\n",
       "  runtimeMinutes                   genres  tconst averageRating numVotes  \n",
       "0             13  Action,Adventure,Comedy     417           8.2    46382  \n",
       "1            195        Drama,History,War    4972           6.3    23836  \n",
       "2             76   Fantasy,Horror,Mystery   10323           8.1    60244  \n",
       "3             68      Comedy,Drama,Family   12349           8.3   120059  \n",
       "4             94           Fantasy,Horror   13442           7.9    92218  "
      ]
     },
     "execution_count": 33,
     "metadata": {},
     "output_type": "execute_result"
    }
   ],
   "source": [
    "pca_df = pca_pre_sql.DataFrame()\n",
    "pca_df.head()"
   ]
  },
  {
   "cell_type": "code",
   "execution_count": 34,
   "id": "b3104f20-233a-41a2-90b5-742f0058bc0e",
   "metadata": {},
   "outputs": [
    {
     "data": {
      "text/plain": [
       "(7574, 12)"
      ]
     },
     "execution_count": 34,
     "metadata": {},
     "output_type": "execute_result"
    }
   ],
   "source": [
    "pca_df.shape"
   ]
  },
  {
   "cell_type": "code",
   "execution_count": 35,
   "id": "d0b3b983-3c6d-4768-ab24-41285ca4236a",
   "metadata": {},
   "outputs": [],
   "source": [
    "# I want to classify a movie into a decade 1900 - 2020 based on the genre(s)\n",
    "\n",
    "# I need to assign the movie year to a decade 1902 --> 1900, 2019 --> 2010 X dec_sql\n",
    "# I need to feed the model movie genres in a list of separated genres,     X genres_list\n",
    "    #but it as to assess the combination of genres together (2 criteria)\n",
    "#   might lead to blurred classes ?\n",
    "# "
   ]
  },
  {
   "cell_type": "code",
   "execution_count": 36,
   "id": "71751aff-e707-4aad-b1bc-c70c60b703a9",
   "metadata": {},
   "outputs": [
    {
     "name": "stdout",
     "output_type": "stream",
     "text": [
      " * sqlite:///imdbmini.db\n",
      "Done.\n",
      "Returning data to local variable dec_sql\n"
     ]
    }
   ],
   "source": [
    "%%sql dec_sql <<\n",
    "SELECT *, startYear as year, \n",
    "CASE WHEN startYear BETWEEN 1900 AND 1910 THEN 1900\n",
    "     WHEN startYear BETWEEN 1910 AND 1919 THEN 1910\n",
    "     WHEN startYear BETWEEN 1920 AND 1929 THEN 1920\n",
    "     WHEN startYear BETWEEN 1930 AND 1939 THEN 1930\n",
    "     WHEN startYear BETWEEN 1940 AND 1949 THEN 1940\n",
    "     WHEN startYear BETWEEN 1950 AND 1959 THEN 1950\n",
    "     WHEN startYear BETWEEN 1960 AND 1969 THEN 1960\n",
    "     WHEN startYear BETWEEN 1970 AND 1979 THEN 1970\n",
    "     WHEN startYear BETWEEN 1980 AND 1989 THEN 1980\n",
    "     WHEN startYear BETWEEN 1990 AND 1999 THEN 1990\n",
    "     WHEN startYear BETWEEN 2000 AND 2009 THEN 2000\n",
    "     WHEN startYear BETWEEN 2010 AND 2019 THEN 2010\n",
    "     WHEN startYear BETWEEN 2020 AND 2029 THEN 2020\n",
    "    END AS decade\n",
    "FROM Title;"
   ]
  },
  {
   "cell_type": "code",
   "execution_count": 37,
   "id": "f6f1fce7-dd36-4a9b-a554-70f102ac8ed9",
   "metadata": {},
   "outputs": [
    {
     "data": {
      "text/html": [
       "<div>\n",
       "<style scoped>\n",
       "    .dataframe tbody tr th:only-of-type {\n",
       "        vertical-align: middle;\n",
       "    }\n",
       "\n",
       "    .dataframe tbody tr th {\n",
       "        vertical-align: top;\n",
       "    }\n",
       "\n",
       "    .dataframe thead th {\n",
       "        text-align: right;\n",
       "    }\n",
       "</style>\n",
       "<table border=\"1\" class=\"dataframe\">\n",
       "  <thead>\n",
       "    <tr style=\"text-align: right;\">\n",
       "      <th></th>\n",
       "      <th>tconst</th>\n",
       "      <th>titleType</th>\n",
       "      <th>primaryTitle</th>\n",
       "      <th>originalTitle</th>\n",
       "      <th>isAdult</th>\n",
       "      <th>startYear</th>\n",
       "      <th>endYear</th>\n",
       "      <th>runtimeMinutes</th>\n",
       "      <th>genres</th>\n",
       "      <th>year</th>\n",
       "      <th>decade</th>\n",
       "    </tr>\n",
       "  </thead>\n",
       "  <tbody>\n",
       "    <tr>\n",
       "      <th>0</th>\n",
       "      <td>417</td>\n",
       "      <td>short</td>\n",
       "      <td>A Trip to the Moon</td>\n",
       "      <td>Le voyage dans la lune</td>\n",
       "      <td>0</td>\n",
       "      <td>1902</td>\n",
       "      <td>None</td>\n",
       "      <td>13</td>\n",
       "      <td>Action,Adventure,Comedy</td>\n",
       "      <td>1902</td>\n",
       "      <td>1900</td>\n",
       "    </tr>\n",
       "    <tr>\n",
       "      <th>1</th>\n",
       "      <td>4972</td>\n",
       "      <td>movie</td>\n",
       "      <td>The Birth of a Nation</td>\n",
       "      <td>The Birth of a Nation</td>\n",
       "      <td>0</td>\n",
       "      <td>1915</td>\n",
       "      <td>None</td>\n",
       "      <td>195</td>\n",
       "      <td>Drama,History,War</td>\n",
       "      <td>1915</td>\n",
       "      <td>1910</td>\n",
       "    </tr>\n",
       "    <tr>\n",
       "      <th>2</th>\n",
       "      <td>10323</td>\n",
       "      <td>movie</td>\n",
       "      <td>The Cabinet of Dr. Caligari</td>\n",
       "      <td>Das Cabinet des Dr. Caligari</td>\n",
       "      <td>0</td>\n",
       "      <td>1920</td>\n",
       "      <td>None</td>\n",
       "      <td>76</td>\n",
       "      <td>Fantasy,Horror,Mystery</td>\n",
       "      <td>1920</td>\n",
       "      <td>1920</td>\n",
       "    </tr>\n",
       "    <tr>\n",
       "      <th>3</th>\n",
       "      <td>12349</td>\n",
       "      <td>movie</td>\n",
       "      <td>The Kid</td>\n",
       "      <td>The Kid</td>\n",
       "      <td>0</td>\n",
       "      <td>1921</td>\n",
       "      <td>None</td>\n",
       "      <td>68</td>\n",
       "      <td>Comedy,Drama,Family</td>\n",
       "      <td>1921</td>\n",
       "      <td>1920</td>\n",
       "    </tr>\n",
       "    <tr>\n",
       "      <th>4</th>\n",
       "      <td>13442</td>\n",
       "      <td>movie</td>\n",
       "      <td>Nosferatu</td>\n",
       "      <td>Nosferatu, eine Symphonie des Grauens</td>\n",
       "      <td>0</td>\n",
       "      <td>1922</td>\n",
       "      <td>None</td>\n",
       "      <td>94</td>\n",
       "      <td>Fantasy,Horror</td>\n",
       "      <td>1922</td>\n",
       "      <td>1920</td>\n",
       "    </tr>\n",
       "  </tbody>\n",
       "</table>\n",
       "</div>"
      ],
      "text/plain": [
       "   tconst titleType                 primaryTitle  \\\n",
       "0     417     short           A Trip to the Moon   \n",
       "1    4972     movie        The Birth of a Nation   \n",
       "2   10323     movie  The Cabinet of Dr. Caligari   \n",
       "3   12349     movie                      The Kid   \n",
       "4   13442     movie                    Nosferatu   \n",
       "\n",
       "                           originalTitle isAdult startYear endYear  \\\n",
       "0                 Le voyage dans la lune       0      1902    None   \n",
       "1                  The Birth of a Nation       0      1915    None   \n",
       "2           Das Cabinet des Dr. Caligari       0      1920    None   \n",
       "3                                The Kid       0      1921    None   \n",
       "4  Nosferatu, eine Symphonie des Grauens       0      1922    None   \n",
       "\n",
       "  runtimeMinutes                   genres  year  decade  \n",
       "0             13  Action,Adventure,Comedy  1902    1900  \n",
       "1            195        Drama,History,War  1915    1910  \n",
       "2             76   Fantasy,Horror,Mystery  1920    1920  \n",
       "3             68      Comedy,Drama,Family  1921    1920  \n",
       "4             94           Fantasy,Horror  1922    1920  "
      ]
     },
     "execution_count": 37,
     "metadata": {},
     "output_type": "execute_result"
    }
   ],
   "source": [
    "dec_sql = dec_sql.DataFrame()\n",
    "dec_sql.head()\n",
    "#dec_sql.size"
   ]
  },
  {
   "cell_type": "code",
   "execution_count": 38,
   "id": "cae1cd39-a96d-42f0-80d3-48e59d251583",
   "metadata": {},
   "outputs": [
    {
     "data": {
      "text/plain": [
       "(6359, 6)"
      ]
     },
     "execution_count": 38,
     "metadata": {},
     "output_type": "execute_result"
    }
   ],
   "source": [
    "# I only want movies, no tv shows or shorts\n",
    "mov_dec = dec_sql[dec_sql[\"titleType\"] == \"movie\"]\n",
    "mov_dec = mov_dec[[\"titleType\", \"primaryTitle\", \"runtimeMinutes\", \"genres\", \"year\", \"decade\"]].rename(columns={\"titleType\":\"type\", \"primaryTitle\":\"title\"})\n",
    "mov_dec.shape"
   ]
  },
  {
   "cell_type": "code",
   "execution_count": 39,
   "id": "f586866f-0814-4ed3-840b-ecbe364af4a0",
   "metadata": {},
   "outputs": [
    {
     "data": {
      "text/html": [
       "<div>\n",
       "<style scoped>\n",
       "    .dataframe tbody tr th:only-of-type {\n",
       "        vertical-align: middle;\n",
       "    }\n",
       "\n",
       "    .dataframe tbody tr th {\n",
       "        vertical-align: top;\n",
       "    }\n",
       "\n",
       "    .dataframe thead th {\n",
       "        text-align: right;\n",
       "    }\n",
       "</style>\n",
       "<table border=\"1\" class=\"dataframe\">\n",
       "  <thead>\n",
       "    <tr style=\"text-align: right;\">\n",
       "      <th></th>\n",
       "      <th>type</th>\n",
       "      <th>title</th>\n",
       "      <th>runtimeMinutes</th>\n",
       "      <th>genres</th>\n",
       "      <th>year</th>\n",
       "      <th>decade</th>\n",
       "    </tr>\n",
       "  </thead>\n",
       "  <tbody>\n",
       "    <tr>\n",
       "      <th>1</th>\n",
       "      <td>movie</td>\n",
       "      <td>The Birth of a Nation</td>\n",
       "      <td>195</td>\n",
       "      <td>Drama,History,War</td>\n",
       "      <td>1915</td>\n",
       "      <td>1910</td>\n",
       "    </tr>\n",
       "    <tr>\n",
       "      <th>2</th>\n",
       "      <td>movie</td>\n",
       "      <td>The Cabinet of Dr. Caligari</td>\n",
       "      <td>76</td>\n",
       "      <td>Fantasy,Horror,Mystery</td>\n",
       "      <td>1920</td>\n",
       "      <td>1920</td>\n",
       "    </tr>\n",
       "    <tr>\n",
       "      <th>3</th>\n",
       "      <td>movie</td>\n",
       "      <td>The Kid</td>\n",
       "      <td>68</td>\n",
       "      <td>Comedy,Drama,Family</td>\n",
       "      <td>1921</td>\n",
       "      <td>1920</td>\n",
       "    </tr>\n",
       "    <tr>\n",
       "      <th>4</th>\n",
       "      <td>movie</td>\n",
       "      <td>Nosferatu</td>\n",
       "      <td>94</td>\n",
       "      <td>Fantasy,Horror</td>\n",
       "      <td>1922</td>\n",
       "      <td>1920</td>\n",
       "    </tr>\n",
       "    <tr>\n",
       "      <th>5</th>\n",
       "      <td>movie</td>\n",
       "      <td>Sherlock Jr.</td>\n",
       "      <td>45</td>\n",
       "      <td>Action,Comedy,Romance</td>\n",
       "      <td>1924</td>\n",
       "      <td>1920</td>\n",
       "    </tr>\n",
       "  </tbody>\n",
       "</table>\n",
       "</div>"
      ],
      "text/plain": [
       "    type                        title runtimeMinutes                  genres  \\\n",
       "1  movie        The Birth of a Nation            195       Drama,History,War   \n",
       "2  movie  The Cabinet of Dr. Caligari             76  Fantasy,Horror,Mystery   \n",
       "3  movie                      The Kid             68     Comedy,Drama,Family   \n",
       "4  movie                    Nosferatu             94          Fantasy,Horror   \n",
       "5  movie                 Sherlock Jr.             45   Action,Comedy,Romance   \n",
       "\n",
       "   year  decade  \n",
       "1  1915    1910  \n",
       "2  1920    1920  \n",
       "3  1921    1920  \n",
       "4  1922    1920  \n",
       "5  1924    1920  "
      ]
     },
     "execution_count": 39,
     "metadata": {},
     "output_type": "execute_result"
    }
   ],
   "source": [
    "mov_dec.head()"
   ]
  },
  {
   "cell_type": "code",
   "execution_count": 40,
   "id": "a2eb9ddf-3aa7-4ca1-9c2a-c396cdc8ae87",
   "metadata": {},
   "outputs": [
    {
     "data": {
      "text/plain": [
       "list"
      ]
     },
     "execution_count": 40,
     "metadata": {},
     "output_type": "execute_result"
    }
   ],
   "source": [
    "#One hot Encoding the genres list\n",
    "\n",
    "#convert to lst of strs\n",
    "mov_dec[\"genres\"] = mov_dec[\"genres\"].str.split(',')\n",
    "mov_dec\n",
    "\n",
    "#type is str\n",
    "type(mov_dec[\"genres\"][1])"
   ]
  },
  {
   "cell_type": "code",
   "execution_count": 41,
   "id": "9f52b7e7-1504-44ec-97aa-180320a70e55",
   "metadata": {},
   "outputs": [],
   "source": [
    "from sklearn.preprocessing import MultiLabelBinarizer\n",
    "\n",
    "mlb = MultiLabelBinarizer(sparse_output=True)\n",
    "\n",
    "#convert to binary\n",
    "ohe_dec = mov_dec.join(\n",
    "            pd.DataFrame.sparse.from_spmatrix(\n",
    "                mlb.fit_transform(mov_dec.pop('genres')),\n",
    "                index=mov_dec.index,\n",
    "                columns=mlb.classes_))\n",
    "\n"
   ]
  },
  {
   "cell_type": "code",
   "execution_count": 42,
   "id": "43c8e52a-b698-49d4-b36f-24f2aeff9f2e",
   "metadata": {},
   "outputs": [
    {
     "data": {
      "text/html": [
       "<div>\n",
       "<style scoped>\n",
       "    .dataframe tbody tr th:only-of-type {\n",
       "        vertical-align: middle;\n",
       "    }\n",
       "\n",
       "    .dataframe tbody tr th {\n",
       "        vertical-align: top;\n",
       "    }\n",
       "\n",
       "    .dataframe thead th {\n",
       "        text-align: right;\n",
       "    }\n",
       "</style>\n",
       "<table border=\"1\" class=\"dataframe\">\n",
       "  <thead>\n",
       "    <tr style=\"text-align: right;\">\n",
       "      <th></th>\n",
       "      <th>type</th>\n",
       "      <th>title</th>\n",
       "      <th>runtimeMinutes</th>\n",
       "      <th>year</th>\n",
       "      <th>decade</th>\n",
       "      <th>Action</th>\n",
       "      <th>Adventure</th>\n",
       "      <th>Animation</th>\n",
       "      <th>Biography</th>\n",
       "      <th>Comedy</th>\n",
       "      <th>...</th>\n",
       "      <th>Music</th>\n",
       "      <th>Musical</th>\n",
       "      <th>Mystery</th>\n",
       "      <th>News</th>\n",
       "      <th>Romance</th>\n",
       "      <th>Sci-Fi</th>\n",
       "      <th>Sport</th>\n",
       "      <th>Thriller</th>\n",
       "      <th>War</th>\n",
       "      <th>Western</th>\n",
       "    </tr>\n",
       "  </thead>\n",
       "  <tbody>\n",
       "    <tr>\n",
       "      <th>549</th>\n",
       "      <td>movie</td>\n",
       "      <td>Star Wars: Episode IV - A New Hope</td>\n",
       "      <td>121</td>\n",
       "      <td>1977</td>\n",
       "      <td>1970</td>\n",
       "      <td>1</td>\n",
       "      <td>1</td>\n",
       "      <td>0</td>\n",
       "      <td>0</td>\n",
       "      <td>0</td>\n",
       "      <td>...</td>\n",
       "      <td>0</td>\n",
       "      <td>0</td>\n",
       "      <td>0</td>\n",
       "      <td>0</td>\n",
       "      <td>0</td>\n",
       "      <td>0</td>\n",
       "      <td>0</td>\n",
       "      <td>0</td>\n",
       "      <td>0</td>\n",
       "      <td>0</td>\n",
       "    </tr>\n",
       "  </tbody>\n",
       "</table>\n",
       "<p>1 rows × 28 columns</p>\n",
       "</div>"
      ],
      "text/plain": [
       "      type                               title runtimeMinutes  year  decade  \\\n",
       "549  movie  Star Wars: Episode IV - A New Hope            121  1977    1970   \n",
       "\n",
       "     Action  Adventure  Animation  Biography  Comedy  ...  Music  Musical  \\\n",
       "549       1          1          0          0       0  ...      0        0   \n",
       "\n",
       "     Mystery  News  Romance  Sci-Fi  Sport  Thriller  War  Western  \n",
       "549        0     0        0       0      0         0    0        0  \n",
       "\n",
       "[1 rows x 28 columns]"
      ]
     },
     "execution_count": 42,
     "metadata": {},
     "output_type": "execute_result"
    }
   ],
   "source": [
    "#testing - what genres are Star Wars IV - A New Hope?   Action, Adventure, Fantasy \n",
    "ohe_dec[ohe_dec[\"title\"].str.contains(\"Star Wars\")].head(1)"
   ]
  },
  {
   "cell_type": "code",
   "execution_count": 100,
   "id": "d76f3fe5-f5cc-463f-a6a6-15467913f9fa",
   "metadata": {},
   "outputs": [
    {
     "name": "stdout",
     "output_type": "stream",
     "text": [
      "Training Data Size:  4451 28\n",
      "Test Data Size:  1908 27\n"
     ]
    }
   ],
   "source": [
    "#To-Do\" create a pipeline for this\n",
    "\n",
    "#training and testing\n",
    "from sklearn.model_selection import train_test_split\n",
    "\n",
    "data_tr, data_te = train_test_split(ohe_dec, test_size=0.30, random_state=42)\n",
    "\n",
    "#save training y \n",
    "te_decade = data_te[\"decade\"].to_frame().reset_index(drop = True)\n",
    "te_decade\n",
    "\n",
    "#remove y from testing\n",
    "data_te.drop(\"decade\", axis=\"columns\", inplace=True)\n",
    "\n",
    "data_tr.reset_index(inplace=True, drop=True)\n",
    "data_te.reset_index(inplace=True, drop=True)\n",
    "\n",
    "print(\"Training Data Size: \", len(data_tr), len(data_tr.columns))\n",
    "print(\"Test Data Size: \", len(data_te), len(data_te.columns)) \n",
    "\n",
    "# checks\n",
    "assert data_tr.shape == (4451, 28)\n",
    "assert data_te.shape == (1908, 27)\n",
    "# Decade\n",
    "assert 'decade' in data_tr.columns.values\n",
    "# Decade is hidden in the test data\n",
    "assert 'decade' not in data_te.columns.values\n",
    "\n",
    "# X & y\n",
    "X_train, X_test = data_tr, data_te.loc[:, data_te.columns != \"decade\"]\n",
    "y_train, y_test = data_tr[\"decade\"], te_decade"
   ]
  },
  {
   "cell_type": "code",
   "execution_count": 103,
   "id": "abdab24b-4dc0-4e2d-beb3-e7ed848a5c88",
   "metadata": {},
   "outputs": [
    {
     "data": {
      "text/html": [
       "<div>\n",
       "<style scoped>\n",
       "    .dataframe tbody tr th:only-of-type {\n",
       "        vertical-align: middle;\n",
       "    }\n",
       "\n",
       "    .dataframe tbody tr th {\n",
       "        vertical-align: top;\n",
       "    }\n",
       "\n",
       "    .dataframe thead th {\n",
       "        text-align: right;\n",
       "    }\n",
       "</style>\n",
       "<table border=\"1\" class=\"dataframe\">\n",
       "  <thead>\n",
       "    <tr style=\"text-align: right;\">\n",
       "      <th></th>\n",
       "      <th>type</th>\n",
       "      <th>title</th>\n",
       "      <th>runtimeMinutes</th>\n",
       "      <th>year</th>\n",
       "      <th>Action</th>\n",
       "      <th>Adventure</th>\n",
       "      <th>Animation</th>\n",
       "      <th>Biography</th>\n",
       "      <th>Comedy</th>\n",
       "      <th>Crime</th>\n",
       "      <th>...</th>\n",
       "      <th>Music</th>\n",
       "      <th>Musical</th>\n",
       "      <th>Mystery</th>\n",
       "      <th>News</th>\n",
       "      <th>Romance</th>\n",
       "      <th>Sci-Fi</th>\n",
       "      <th>Sport</th>\n",
       "      <th>Thriller</th>\n",
       "      <th>War</th>\n",
       "      <th>Western</th>\n",
       "    </tr>\n",
       "  </thead>\n",
       "  <tbody>\n",
       "    <tr>\n",
       "      <th>0</th>\n",
       "      <td>movie</td>\n",
       "      <td>My Week with Marilyn</td>\n",
       "      <td>99</td>\n",
       "      <td>2011</td>\n",
       "      <td>0</td>\n",
       "      <td>0</td>\n",
       "      <td>0</td>\n",
       "      <td>1</td>\n",
       "      <td>0</td>\n",
       "      <td>0</td>\n",
       "      <td>...</td>\n",
       "      <td>0</td>\n",
       "      <td>0</td>\n",
       "      <td>0</td>\n",
       "      <td>0</td>\n",
       "      <td>0</td>\n",
       "      <td>0</td>\n",
       "      <td>0</td>\n",
       "      <td>0</td>\n",
       "      <td>0</td>\n",
       "      <td>0</td>\n",
       "    </tr>\n",
       "    <tr>\n",
       "      <th>1</th>\n",
       "      <td>movie</td>\n",
       "      <td>The Tunnel</td>\n",
       "      <td>94</td>\n",
       "      <td>2011</td>\n",
       "      <td>0</td>\n",
       "      <td>0</td>\n",
       "      <td>0</td>\n",
       "      <td>0</td>\n",
       "      <td>0</td>\n",
       "      <td>0</td>\n",
       "      <td>...</td>\n",
       "      <td>0</td>\n",
       "      <td>0</td>\n",
       "      <td>1</td>\n",
       "      <td>0</td>\n",
       "      <td>0</td>\n",
       "      <td>0</td>\n",
       "      <td>0</td>\n",
       "      <td>1</td>\n",
       "      <td>0</td>\n",
       "      <td>0</td>\n",
       "    </tr>\n",
       "    <tr>\n",
       "      <th>2</th>\n",
       "      <td>movie</td>\n",
       "      <td>Love and Death</td>\n",
       "      <td>85</td>\n",
       "      <td>1975</td>\n",
       "      <td>0</td>\n",
       "      <td>0</td>\n",
       "      <td>0</td>\n",
       "      <td>0</td>\n",
       "      <td>1</td>\n",
       "      <td>0</td>\n",
       "      <td>...</td>\n",
       "      <td>0</td>\n",
       "      <td>0</td>\n",
       "      <td>0</td>\n",
       "      <td>0</td>\n",
       "      <td>0</td>\n",
       "      <td>0</td>\n",
       "      <td>0</td>\n",
       "      <td>0</td>\n",
       "      <td>1</td>\n",
       "      <td>0</td>\n",
       "    </tr>\n",
       "    <tr>\n",
       "      <th>3</th>\n",
       "      <td>movie</td>\n",
       "      <td>11:14</td>\n",
       "      <td>86</td>\n",
       "      <td>2003</td>\n",
       "      <td>0</td>\n",
       "      <td>0</td>\n",
       "      <td>0</td>\n",
       "      <td>0</td>\n",
       "      <td>0</td>\n",
       "      <td>1</td>\n",
       "      <td>...</td>\n",
       "      <td>0</td>\n",
       "      <td>0</td>\n",
       "      <td>1</td>\n",
       "      <td>0</td>\n",
       "      <td>0</td>\n",
       "      <td>0</td>\n",
       "      <td>0</td>\n",
       "      <td>0</td>\n",
       "      <td>0</td>\n",
       "      <td>0</td>\n",
       "    </tr>\n",
       "    <tr>\n",
       "      <th>4</th>\n",
       "      <td>movie</td>\n",
       "      <td>Raising Arizona</td>\n",
       "      <td>94</td>\n",
       "      <td>1987</td>\n",
       "      <td>0</td>\n",
       "      <td>0</td>\n",
       "      <td>0</td>\n",
       "      <td>0</td>\n",
       "      <td>1</td>\n",
       "      <td>1</td>\n",
       "      <td>...</td>\n",
       "      <td>0</td>\n",
       "      <td>0</td>\n",
       "      <td>0</td>\n",
       "      <td>0</td>\n",
       "      <td>0</td>\n",
       "      <td>0</td>\n",
       "      <td>0</td>\n",
       "      <td>0</td>\n",
       "      <td>0</td>\n",
       "      <td>0</td>\n",
       "    </tr>\n",
       "  </tbody>\n",
       "</table>\n",
       "<p>5 rows × 27 columns</p>\n",
       "</div>"
      ],
      "text/plain": [
       "    type                 title runtimeMinutes  year  Action  Adventure  \\\n",
       "0  movie  My Week with Marilyn             99  2011       0          0   \n",
       "1  movie            The Tunnel             94  2011       0          0   \n",
       "2  movie        Love and Death             85  1975       0          0   \n",
       "3  movie                 11:14             86  2003       0          0   \n",
       "4  movie       Raising Arizona             94  1987       0          0   \n",
       "\n",
       "   Animation  Biography  Comedy  Crime  ...  Music  Musical  Mystery  News  \\\n",
       "0          0          1       0      0  ...      0        0        0     0   \n",
       "1          0          0       0      0  ...      0        0        1     0   \n",
       "2          0          0       1      0  ...      0        0        0     0   \n",
       "3          0          0       0      1  ...      0        0        1     0   \n",
       "4          0          0       1      1  ...      0        0        0     0   \n",
       "\n",
       "   Romance  Sci-Fi  Sport  Thriller  War  Western  \n",
       "0        0       0      0         0    0        0  \n",
       "1        0       0      0         1    0        0  \n",
       "2        0       0      0         0    1        0  \n",
       "3        0       0      0         0    0        0  \n",
       "4        0       0      0         0    0        0  \n",
       "\n",
       "[5 rows x 27 columns]"
      ]
     },
     "metadata": {},
     "output_type": "display_data"
    },
    {
     "data": {
      "text/html": [
       "<div>\n",
       "<style scoped>\n",
       "    .dataframe tbody tr th:only-of-type {\n",
       "        vertical-align: middle;\n",
       "    }\n",
       "\n",
       "    .dataframe tbody tr th {\n",
       "        vertical-align: top;\n",
       "    }\n",
       "\n",
       "    .dataframe thead th {\n",
       "        text-align: right;\n",
       "    }\n",
       "</style>\n",
       "<table border=\"1\" class=\"dataframe\">\n",
       "  <thead>\n",
       "    <tr style=\"text-align: right;\">\n",
       "      <th></th>\n",
       "      <th>decade</th>\n",
       "    </tr>\n",
       "  </thead>\n",
       "  <tbody>\n",
       "    <tr>\n",
       "      <th>0</th>\n",
       "      <td>2010</td>\n",
       "    </tr>\n",
       "    <tr>\n",
       "      <th>1</th>\n",
       "      <td>2010</td>\n",
       "    </tr>\n",
       "    <tr>\n",
       "      <th>2</th>\n",
       "      <td>1970</td>\n",
       "    </tr>\n",
       "    <tr>\n",
       "      <th>3</th>\n",
       "      <td>2000</td>\n",
       "    </tr>\n",
       "    <tr>\n",
       "      <th>4</th>\n",
       "      <td>1980</td>\n",
       "    </tr>\n",
       "  </tbody>\n",
       "</table>\n",
       "</div>"
      ],
      "text/plain": [
       "   decade\n",
       "0    2010\n",
       "1    2010\n",
       "2    1970\n",
       "3    2000\n",
       "4    1980"
      ]
     },
     "metadata": {},
     "output_type": "display_data"
    }
   ],
   "source": [
    "# Take a look at the result\n",
    "display(X_test.head())\n",
    "display(y_test.head())"
   ]
  },
  {
   "cell_type": "code",
   "execution_count": null,
   "id": "468b9910-f8cb-4a4c-aca8-7af640c5d4c1",
   "metadata": {},
   "outputs": [],
   "source": [
    "#start building the model... regression????? classifier???"
   ]
  }
 ],
 "metadata": {
  "kernelspec": {
   "display_name": "Python 3 (ipykernel)",
   "language": "python",
   "name": "python3"
  },
  "language_info": {
   "codemirror_mode": {
    "name": "ipython",
    "version": 3
   },
   "file_extension": ".py",
   "mimetype": "text/x-python",
   "name": "python",
   "nbconvert_exporter": "python",
   "pygments_lexer": "ipython3",
   "version": "3.11.5"
  }
 },
 "nbformat": 4,
 "nbformat_minor": 5
}
